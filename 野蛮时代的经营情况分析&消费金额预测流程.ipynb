{
 "cells": [
  {
   "cell_type": "code",
   "execution_count": 1,
   "id": "cdbcffbd",
   "metadata": {},
   "outputs": [],
   "source": [
    "import pandas as pd \n",
    "import numpy as np\n",
    "import warnings\n",
    "import logging\n",
    "import matplotlib.pyplot as plt\n",
    "%matplotlib inline\n",
    "warnings.filterwarnings(\"ignore\")\n",
    "import tensorflow as tflow\n",
    "from sklearn.linear_model import LogisticRegression as LogiR #逻辑回归\n",
    "from sklearn.linear_model import LinearRegression as LR #线性回归\n",
    "from sklearn.ensemble import RandomForestRegressor as RFR #随机森林\n",
    "from sklearn.ensemble import GradientBoostingClassifier \n",
    "from sklearn.ensemble import GradientBoostingRegressor  \n",
    "from sklearn.ensemble import RandomForestClassifier     \n",
    "from sklearn.ensemble import RandomForestRegressor      \n",
    "from sklearn.neural_network import MLPClassifier \n",
    "from sklearn.neural_network import MLPRegressor\n",
    "from xgboost.sklearn import XGBClassifier\n",
    "from xgboost.sklearn import XGBRFRegressor\n",
    "from sklearn.tree import DecisionTreeClassifier\n",
    "from sklearn.tree import DecisionTreeRegressor\n",
    "from sklearn.utils.class_weight import compute_sample_weight   \n",
    "from sklearn.model_selection import train_test_split\n",
    "# 评价用的工具包\n",
    "from sklearn.model_selection import learning_curve #画学习曲线\n",
    "from sklearn.model_selection import ShuffleSplit #设定交叉验证模式\n",
    "from sklearn.model_selection import GridSearchCV\n",
    "from sklearn.metrics import confusion_matrix \n",
    "from sklearn.metrics import multilabel_confusion_matrix \n",
    "from sklearn.metrics import precision_score \n",
    "from sklearn.metrics import recall_score \n",
    "from sklearn.metrics import accuracy_score \n",
    "from sklearn.metrics import f1_score \n",
    "from sklearn.metrics import precision_recall_curve \n",
    "from sklearn.metrics import roc_curve, auc\n",
    "from sklearn.metrics import roc_auc_score\n",
    "from mlxtend.evaluate import bias_variance_decomp\n",
    "from sklearn.model_selection import KFold, cross_val_score \n",
    "from sklearn.metrics import mean_squared_error as MSE #模型评估指标，这次比赛用的\n",
    "import scikitplot as skplt\n",
    "from sklearn.preprocessing import MinMaxScaler \n",
    "plt.rcParams['font.sans-serif']=['SimHei']\n",
    "plt.rcParams['axes.unicode_minus']=False #中文\n",
    "pd.set_option(\"display.float_format\", lambda x: \"%.3f\" % x) #避免显示问题，设置不显示科学计数法\n",
    "import time\n",
    "import datetime\n",
    "# sorted(sklearn.metrics.SCORERS.keys()) ###所有评分指标"
   ]
  },
  {
   "cell_type": "markdown",
   "id": "22313924",
   "metadata": {},
   "source": [
    "### 目录：\n",
    "\n",
    "- C1.玩家行为数据探索分析\n",
    "> 1. P1.整体数据的基本信息\n",
    "> 2. P2.游戏经营的重要指标与经营现状\n",
    "> 3. P3.游戏内特征的探索分析\n",
    "\n",
    "- C2.正式建模流程\n",
    "> 1. P1.建模前的字段特征再处理\n",
    "> 2. P2.数据Benchmark建立流程\n",
    "> 3. P3.特征工程环节\n",
    "\n",
    "- C3.模型融合处理\n",
    "> 1. P1.模型融合——为了处理极度偏态的数据影响效应\n",
    "> 2. P2.尝试更换复杂一点的模型，这里换成XGBOOST和神经网络！\n"
   ]
  },
  {
   "cell_type": "markdown",
   "id": "3b637afa",
   "metadata": {},
   "source": [
    "# C1.玩家行为探索部分！"
   ]
  },
  {
   "cell_type": "markdown",
   "id": "b22653fa",
   "metadata": {},
   "source": [
    "### P1.整体数据的基本信息；"
   ]
  },
  {
   "cell_type": "code",
   "execution_count": 2,
   "id": "1b22462c",
   "metadata": {},
   "outputs": [],
   "source": [
    "import pandas as pd\n",
    "import numpy as np\n",
    "import matplotlib.pyplot as plt\n",
    "%matplotlib inline\n",
    "plt.rcParams['font.sans-serif']=['Simhei'] #让jupyter中的图画上的中文都显示出来\n",
    "plt.rcParams['axes.unicode_minus']=False"
   ]
  },
  {
   "cell_type": "code",
   "execution_count": 3,
   "id": "db61e8ef",
   "metadata": {},
   "outputs": [],
   "source": [
    "# data = pd.read_csv(r\"../数据/sample_data.csv\")\n",
    "# column_name = pd.read_excel(r\"../数据/tap4fun竞赛数据/tap4fun 数据字段解释.xlsx\")\n",
    "# data.shape,column_name.shape"
   ]
  },
  {
   "cell_type": "code",
   "execution_count": 4,
   "id": "4ef20af8",
   "metadata": {},
   "outputs": [
    {
     "data": {
      "text/plain": [
       "((1048575, 109), (109, 5))"
      ]
     },
     "execution_count": 4,
     "metadata": {},
     "output_type": "execute_result"
    }
   ],
   "source": [
    "data = pd.read_table(r\"../数据/tap4fun竞赛数据/tap_fun_data.txt\")\n",
    "column_name = pd.read_excel(r\"../数据/tap4fun竞赛数据/tap4fun 数据字段解释.xlsx\")\n",
    "data.shape,column_name.shape"
   ]
  },
  {
   "cell_type": "markdown",
   "id": "0cf7ea38",
   "metadata": {},
   "source": [
    "    ### S1.查看一下数据维度和所给字段名称!"
   ]
  },
  {
   "cell_type": "code",
   "execution_count": 5,
   "id": "e3d34c12",
   "metadata": {},
   "outputs": [
    {
     "name": "stdout",
     "output_type": "stream",
     "text": [
      "这里的在线时长是分钟！\n"
     ]
    },
    {
     "data": {
      "text/html": [
       "<div>\n",
       "<style scoped>\n",
       "    .dataframe tbody tr th:only-of-type {\n",
       "        vertical-align: middle;\n",
       "    }\n",
       "\n",
       "    .dataframe tbody tr th {\n",
       "        vertical-align: top;\n",
       "    }\n",
       "\n",
       "    .dataframe thead th {\n",
       "        text-align: right;\n",
       "    }\n",
       "</style>\n",
       "<table border=\"1\" class=\"dataframe\">\n",
       "  <thead>\n",
       "    <tr style=\"text-align: right;\">\n",
       "      <th>字段解释</th>\n",
       "      <th>玩家唯一ID</th>\n",
       "      <th>玩家注册时间</th>\n",
       "      <th>木头获取数量</th>\n",
       "      <th>木头消耗数量</th>\n",
       "      <th>石头获取数量</th>\n",
       "      <th>石头消耗数量</th>\n",
       "      <th>象牙获取数量</th>\n",
       "      <th>象牙消耗数量</th>\n",
       "      <th>肉获取数量</th>\n",
       "      <th>肉消耗数量</th>\n",
       "      <th>...</th>\n",
       "      <th>PVP次数</th>\n",
       "      <th>主动发起PVP次数</th>\n",
       "      <th>PVP胜利次数</th>\n",
       "      <th>PVE次数</th>\n",
       "      <th>主动发起PVE次数</th>\n",
       "      <th>PVE胜利次数</th>\n",
       "      <th>在线时长</th>\n",
       "      <th>付费金额</th>\n",
       "      <th>付费次数</th>\n",
       "      <th>45日付费金额</th>\n",
       "    </tr>\n",
       "  </thead>\n",
       "  <tbody>\n",
       "    <tr>\n",
       "      <th>0</th>\n",
       "      <td>1</td>\n",
       "      <td>2018/2/2 19:47</td>\n",
       "      <td>20125</td>\n",
       "      <td>3700</td>\n",
       "      <td>0</td>\n",
       "      <td>0</td>\n",
       "      <td>0</td>\n",
       "      <td>0</td>\n",
       "      <td>16375</td>\n",
       "      <td>2000</td>\n",
       "      <td>...</td>\n",
       "      <td>0</td>\n",
       "      <td>0</td>\n",
       "      <td>0</td>\n",
       "      <td>0</td>\n",
       "      <td>0</td>\n",
       "      <td>0</td>\n",
       "      <td>0.333</td>\n",
       "      <td>0.000</td>\n",
       "      <td>0</td>\n",
       "      <td>0.000</td>\n",
       "    </tr>\n",
       "    <tr>\n",
       "      <th>1</th>\n",
       "      <td>1593</td>\n",
       "      <td>2018/1/26 0:01</td>\n",
       "      <td>0</td>\n",
       "      <td>0</td>\n",
       "      <td>0</td>\n",
       "      <td>0</td>\n",
       "      <td>0</td>\n",
       "      <td>0</td>\n",
       "      <td>0</td>\n",
       "      <td>0</td>\n",
       "      <td>...</td>\n",
       "      <td>0</td>\n",
       "      <td>0</td>\n",
       "      <td>0</td>\n",
       "      <td>0</td>\n",
       "      <td>0</td>\n",
       "      <td>0</td>\n",
       "      <td>0.333</td>\n",
       "      <td>0.000</td>\n",
       "      <td>0</td>\n",
       "      <td>0.000</td>\n",
       "    </tr>\n",
       "    <tr>\n",
       "      <th>2</th>\n",
       "      <td>1594</td>\n",
       "      <td>2018/1/26 0:01</td>\n",
       "      <td>0</td>\n",
       "      <td>0</td>\n",
       "      <td>0</td>\n",
       "      <td>0</td>\n",
       "      <td>0</td>\n",
       "      <td>0</td>\n",
       "      <td>0</td>\n",
       "      <td>0</td>\n",
       "      <td>...</td>\n",
       "      <td>0</td>\n",
       "      <td>0</td>\n",
       "      <td>0</td>\n",
       "      <td>0</td>\n",
       "      <td>0</td>\n",
       "      <td>0</td>\n",
       "      <td>1.167</td>\n",
       "      <td>0.000</td>\n",
       "      <td>0</td>\n",
       "      <td>0.000</td>\n",
       "    </tr>\n",
       "    <tr>\n",
       "      <th>3</th>\n",
       "      <td>1595</td>\n",
       "      <td>2018/1/26 0:02</td>\n",
       "      <td>0</td>\n",
       "      <td>0</td>\n",
       "      <td>0</td>\n",
       "      <td>0</td>\n",
       "      <td>0</td>\n",
       "      <td>0</td>\n",
       "      <td>0</td>\n",
       "      <td>0</td>\n",
       "      <td>...</td>\n",
       "      <td>0</td>\n",
       "      <td>0</td>\n",
       "      <td>0</td>\n",
       "      <td>0</td>\n",
       "      <td>0</td>\n",
       "      <td>0</td>\n",
       "      <td>3.167</td>\n",
       "      <td>0.000</td>\n",
       "      <td>0</td>\n",
       "      <td>0.000</td>\n",
       "    </tr>\n",
       "    <tr>\n",
       "      <th>4</th>\n",
       "      <td>1596</td>\n",
       "      <td>2018/1/26 0:02</td>\n",
       "      <td>0</td>\n",
       "      <td>0</td>\n",
       "      <td>0</td>\n",
       "      <td>0</td>\n",
       "      <td>0</td>\n",
       "      <td>0</td>\n",
       "      <td>0</td>\n",
       "      <td>0</td>\n",
       "      <td>...</td>\n",
       "      <td>0</td>\n",
       "      <td>0</td>\n",
       "      <td>0</td>\n",
       "      <td>0</td>\n",
       "      <td>0</td>\n",
       "      <td>0</td>\n",
       "      <td>2.333</td>\n",
       "      <td>0.000</td>\n",
       "      <td>0</td>\n",
       "      <td>0.000</td>\n",
       "    </tr>\n",
       "  </tbody>\n",
       "</table>\n",
       "<p>5 rows × 109 columns</p>\n",
       "</div>"
      ],
      "text/plain": [
       "字段解释  玩家唯一ID          玩家注册时间  木头获取数量  木头消耗数量  石头获取数量  石头消耗数量  象牙获取数量  象牙消耗数量  \\\n",
       "0          1  2018/2/2 19:47   20125    3700       0       0       0       0   \n",
       "1       1593  2018/1/26 0:01       0       0       0       0       0       0   \n",
       "2       1594  2018/1/26 0:01       0       0       0       0       0       0   \n",
       "3       1595  2018/1/26 0:02       0       0       0       0       0       0   \n",
       "4       1596  2018/1/26 0:02       0       0       0       0       0       0   \n",
       "\n",
       "字段解释  肉获取数量  肉消耗数量  ...  PVP次数  主动发起PVP次数  PVP胜利次数  PVE次数  主动发起PVE次数  PVE胜利次数  \\\n",
       "0     16375   2000  ...      0          0        0      0          0        0   \n",
       "1         0      0  ...      0          0        0      0          0        0   \n",
       "2         0      0  ...      0          0        0      0          0        0   \n",
       "3         0      0  ...      0          0        0      0          0        0   \n",
       "4         0      0  ...      0          0        0      0          0        0   \n",
       "\n",
       "字段解释  在线时长  付费金额  付费次数  45日付费金额  \n",
       "0    0.333 0.000     0    0.000  \n",
       "1    0.333 0.000     0    0.000  \n",
       "2    1.167 0.000     0    0.000  \n",
       "3    3.167 0.000     0    0.000  \n",
       "4    2.333 0.000     0    0.000  \n",
       "\n",
       "[5 rows x 109 columns]"
      ]
     },
     "execution_count": 5,
     "metadata": {},
     "output_type": "execute_result"
    }
   ],
   "source": [
    "data.columns = column_name[\"字段解释\"]\n",
    "print(\"这里的在线时长是分钟！\")\n",
    "data.head()"
   ]
  },
  {
   "cell_type": "code",
   "execution_count": 6,
   "id": "6c72bbde",
   "metadata": {},
   "outputs": [
    {
     "name": "stdout",
     "output_type": "stream",
     "text": [
      "看看完整的特征列表——看前20个\n"
     ]
    },
    {
     "data": {
      "text/plain": [
       "['玩家唯一ID',\n",
       " '玩家注册时间',\n",
       " '木头获取数量',\n",
       " '木头消耗数量',\n",
       " '石头获取数量',\n",
       " '石头消耗数量',\n",
       " '象牙获取数量',\n",
       " '象牙消耗数量',\n",
       " '肉获取数量',\n",
       " '肉消耗数量',\n",
       " '魔法获取数量',\n",
       " '魔法消耗数量',\n",
       " '勇士招募数量',\n",
       " '勇士损失数量',\n",
       " '驯兽师招募数量',\n",
       " '驯兽师损失数量',\n",
       " '萨满招募数量',\n",
       " '萨满损失数量',\n",
       " '勇士伤兵产生数量',\n",
       " '勇士伤兵恢复数量']"
      ]
     },
     "execution_count": 6,
     "metadata": {},
     "output_type": "execute_result"
    }
   ],
   "source": [
    "print(\"看看完整的特征列表——看前20个\")\n",
    "data.columns.tolist()[0:20]"
   ]
  },
  {
   "cell_type": "markdown",
   "id": "2870815c",
   "metadata": {},
   "source": [
    "- 值得一提的是，除了最后的标签“45日付费金额”之外，**所有特征都是玩家在服前7日**或与时间无关的数据（如玩家ID）。\n",
    "- 毕竟是用7日内数据去预测第45天的行为！"
   ]
  },
  {
   "cell_type": "code",
   "execution_count": 7,
   "id": "17342560",
   "metadata": {},
   "outputs": [
    {
     "name": "stdout",
     "output_type": "stream",
     "text": [
      "<class 'pandas.core.frame.DataFrame'>\n",
      "RangeIndex: 1048575 entries, 0 to 1048574\n",
      "Columns: 109 entries, 玩家唯一ID to 45日付费金额\n",
      "dtypes: float64(3), int64(105), object(1)\n",
      "memory usage: 872.0+ MB\n"
     ]
    }
   ],
   "source": [
    "data.info()"
   ]
  },
  {
   "cell_type": "markdown",
   "id": "b85e4514",
   "metadata": {},
   "source": [
    "- 有一列注册时间是object；其余都是数字；没有离散型特征！"
   ]
  },
  {
   "cell_type": "markdown",
   "id": "68f9619e",
   "metadata": {},
   "source": [
    "    ### S2.缺失值、重复值、的查找！"
   ]
  },
  {
   "cell_type": "code",
   "execution_count": 8,
   "id": "b81f5c3a",
   "metadata": {},
   "outputs": [
    {
     "name": "stdout",
     "output_type": "stream",
     "text": [
      "原数据不存在空值！\n",
      "原数据不存在重复值！\n"
     ]
    }
   ],
   "source": [
    "def nullvalue_func(data_):\n",
    "    if data_.isnull().sum().sum() == 0:\n",
    "        print(\"原数据\" + \"不存在空值！\")\n",
    "    else :\n",
    "        print(\"原数据\" + \"存在空值！\")\n",
    "def duplidatevalue_func(data_):\n",
    "    if data_.duplicated().sum() == 0:\n",
    "        print(\"原数据\" + \"不存在重复值！\")\n",
    "    else :\n",
    "        print(\"原数据\" + \"存在重复值！\")\n",
    "nullvalue_func(data)\n",
    "duplidatevalue_func(data)\n"
   ]
  },
  {
   "cell_type": "markdown",
   "id": "95b4a82d",
   "metadata": {},
   "source": [
    "    ### S3.查看统计分布信息"
   ]
  },
  {
   "cell_type": "code",
   "execution_count": 9,
   "id": "12e5e9bd",
   "metadata": {},
   "outputs": [
    {
     "data": {
      "text/html": [
       "<div>\n",
       "<style scoped>\n",
       "    .dataframe tbody tr th:only-of-type {\n",
       "        vertical-align: middle;\n",
       "    }\n",
       "\n",
       "    .dataframe tbody tr th {\n",
       "        vertical-align: top;\n",
       "    }\n",
       "\n",
       "    .dataframe thead th {\n",
       "        text-align: right;\n",
       "    }\n",
       "</style>\n",
       "<table border=\"1\" class=\"dataframe\">\n",
       "  <thead>\n",
       "    <tr style=\"text-align: right;\">\n",
       "      <th></th>\n",
       "      <th>count</th>\n",
       "      <th>mean</th>\n",
       "      <th>std</th>\n",
       "      <th>min</th>\n",
       "      <th>25%</th>\n",
       "      <th>50%</th>\n",
       "      <th>75%</th>\n",
       "      <th>99%</th>\n",
       "      <th>max</th>\n",
       "    </tr>\n",
       "    <tr>\n",
       "      <th>字段解释</th>\n",
       "      <th></th>\n",
       "      <th></th>\n",
       "      <th></th>\n",
       "      <th></th>\n",
       "      <th></th>\n",
       "      <th></th>\n",
       "      <th></th>\n",
       "      <th></th>\n",
       "      <th></th>\n",
       "    </tr>\n",
       "  </thead>\n",
       "  <tbody>\n",
       "    <tr>\n",
       "      <th>玩家唯一ID</th>\n",
       "      <td>1048575.000</td>\n",
       "      <td>661162.054</td>\n",
       "      <td>380865.884</td>\n",
       "      <td>1.000</td>\n",
       "      <td>298624.500</td>\n",
       "      <td>682935.000</td>\n",
       "      <td>1005461.500</td>\n",
       "      <td>1285334.260</td>\n",
       "      <td>1313932.000</td>\n",
       "    </tr>\n",
       "    <tr>\n",
       "      <th>木头获取数量</th>\n",
       "      <td>1048575.000</td>\n",
       "      <td>446335.941</td>\n",
       "      <td>5064362.536</td>\n",
       "      <td>0.000</td>\n",
       "      <td>0.000</td>\n",
       "      <td>39129.000</td>\n",
       "      <td>149892.500</td>\n",
       "      <td>7298399.560</td>\n",
       "      <td>1203395293.000</td>\n",
       "    </tr>\n",
       "    <tr>\n",
       "      <th>木头消耗数量</th>\n",
       "      <td>1048575.000</td>\n",
       "      <td>363509.370</td>\n",
       "      <td>3824456.251</td>\n",
       "      <td>0.000</td>\n",
       "      <td>0.000</td>\n",
       "      <td>8830.000</td>\n",
       "      <td>96996.000</td>\n",
       "      <td>6684409.900</td>\n",
       "      <td>799587506.000</td>\n",
       "    </tr>\n",
       "    <tr>\n",
       "      <th>石头获取数量</th>\n",
       "      <td>1048575.000</td>\n",
       "      <td>189901.660</td>\n",
       "      <td>4840094.044</td>\n",
       "      <td>0.000</td>\n",
       "      <td>0.000</td>\n",
       "      <td>0.000</td>\n",
       "      <td>0.000</td>\n",
       "      <td>3259000.260</td>\n",
       "      <td>1185764691.000</td>\n",
       "    </tr>\n",
       "    <tr>\n",
       "      <th>石头消耗数量</th>\n",
       "      <td>1048575.000</td>\n",
       "      <td>138534.841</td>\n",
       "      <td>3526253.804</td>\n",
       "      <td>0.000</td>\n",
       "      <td>0.000</td>\n",
       "      <td>0.000</td>\n",
       "      <td>0.000</td>\n",
       "      <td>2686411.640</td>\n",
       "      <td>796237770.000</td>\n",
       "    </tr>\n",
       "    <tr>\n",
       "      <th>...</th>\n",
       "      <td>...</td>\n",
       "      <td>...</td>\n",
       "      <td>...</td>\n",
       "      <td>...</td>\n",
       "      <td>...</td>\n",
       "      <td>...</td>\n",
       "      <td>...</td>\n",
       "      <td>...</td>\n",
       "      <td>...</td>\n",
       "    </tr>\n",
       "    <tr>\n",
       "      <th>PVE胜利次数</th>\n",
       "      <td>1048575.000</td>\n",
       "      <td>2.482</td>\n",
       "      <td>11.687</td>\n",
       "      <td>0.000</td>\n",
       "      <td>0.000</td>\n",
       "      <td>0.000</td>\n",
       "      <td>1.000</td>\n",
       "      <td>62.000</td>\n",
       "      <td>373.000</td>\n",
       "    </tr>\n",
       "    <tr>\n",
       "      <th>在线时长</th>\n",
       "      <td>1048575.000</td>\n",
       "      <td>10.245</td>\n",
       "      <td>39.098</td>\n",
       "      <td>0.000</td>\n",
       "      <td>0.500</td>\n",
       "      <td>1.833</td>\n",
       "      <td>5.000</td>\n",
       "      <td>183.710</td>\n",
       "      <td>2049.667</td>\n",
       "    </tr>\n",
       "    <tr>\n",
       "      <th>付费金额</th>\n",
       "      <td>1048575.000</td>\n",
       "      <td>0.548</td>\n",
       "      <td>23.517</td>\n",
       "      <td>0.000</td>\n",
       "      <td>0.000</td>\n",
       "      <td>0.000</td>\n",
       "      <td>0.000</td>\n",
       "      <td>1.980</td>\n",
       "      <td>7457.950</td>\n",
       "    </tr>\n",
       "    <tr>\n",
       "      <th>付费次数</th>\n",
       "      <td>1048575.000</td>\n",
       "      <td>0.058</td>\n",
       "      <td>0.720</td>\n",
       "      <td>0.000</td>\n",
       "      <td>0.000</td>\n",
       "      <td>0.000</td>\n",
       "      <td>0.000</td>\n",
       "      <td>2.000</td>\n",
       "      <td>105.000</td>\n",
       "    </tr>\n",
       "    <tr>\n",
       "      <th>45日付费金额</th>\n",
       "      <td>1048575.000</td>\n",
       "      <td>1.855</td>\n",
       "      <td>95.869</td>\n",
       "      <td>0.000</td>\n",
       "      <td>0.000</td>\n",
       "      <td>0.000</td>\n",
       "      <td>0.000</td>\n",
       "      <td>3.970</td>\n",
       "      <td>32977.810</td>\n",
       "    </tr>\n",
       "  </tbody>\n",
       "</table>\n",
       "<p>108 rows × 9 columns</p>\n",
       "</div>"
      ],
      "text/plain": [
       "              count       mean         std   min        25%        50%  \\\n",
       "字段解释                                                                     \n",
       "玩家唯一ID  1048575.000 661162.054  380865.884 1.000 298624.500 682935.000   \n",
       "木头获取数量  1048575.000 446335.941 5064362.536 0.000      0.000  39129.000   \n",
       "木头消耗数量  1048575.000 363509.370 3824456.251 0.000      0.000   8830.000   \n",
       "石头获取数量  1048575.000 189901.660 4840094.044 0.000      0.000      0.000   \n",
       "石头消耗数量  1048575.000 138534.841 3526253.804 0.000      0.000      0.000   \n",
       "...             ...        ...         ...   ...        ...        ...   \n",
       "PVE胜利次数 1048575.000      2.482      11.687 0.000      0.000      0.000   \n",
       "在线时长    1048575.000     10.245      39.098 0.000      0.500      1.833   \n",
       "付费金额    1048575.000      0.548      23.517 0.000      0.000      0.000   \n",
       "付费次数    1048575.000      0.058       0.720 0.000      0.000      0.000   \n",
       "45日付费金额 1048575.000      1.855      95.869 0.000      0.000      0.000   \n",
       "\n",
       "                75%         99%            max  \n",
       "字段解释                                            \n",
       "玩家唯一ID  1005461.500 1285334.260    1313932.000  \n",
       "木头获取数量   149892.500 7298399.560 1203395293.000  \n",
       "木头消耗数量    96996.000 6684409.900  799587506.000  \n",
       "石头获取数量        0.000 3259000.260 1185764691.000  \n",
       "石头消耗数量        0.000 2686411.640  796237770.000  \n",
       "...             ...         ...            ...  \n",
       "PVE胜利次数       1.000      62.000        373.000  \n",
       "在线时长          5.000     183.710       2049.667  \n",
       "付费金额          0.000       1.980       7457.950  \n",
       "付费次数          0.000       2.000        105.000  \n",
       "45日付费金额       0.000       3.970      32977.810  \n",
       "\n",
       "[108 rows x 9 columns]"
      ]
     },
     "execution_count": 9,
     "metadata": {},
     "output_type": "execute_result"
    }
   ],
   "source": [
    "data.describe([0.25,0.5,0.75,0.99]).T "
   ]
  },
  {
   "cell_type": "markdown",
   "id": "66e372e6",
   "metadata": {},
   "source": [
    "#### 从描述性统计的结果来看，大致有以下结论：\n",
    "- 一些资源如木头、石头的最高值可以达到上亿量，一定程度上说明游戏——具有低成本捞金的可能性；\n",
    "- 大多数资源数据都表现为平均值大于50%分位数，呈现右偏型，大多分布在偏左一边；因此大部分玩家所掌握的资源量都很少。甚至有些资源出现了75%分位数还是0的情况；\n",
    "- 从概况上来讲，隐约感觉到游戏的流失会比较严重！——好多的资源数量75%分位数还是0；加大了处理异常值的难度！\n"
   ]
  },
  {
   "cell_type": "markdown",
   "id": "c67ccdf1",
   "metadata": {},
   "source": [
    "### P2.游戏经营的重要指标与经营现状"
   ]
  },
  {
   "cell_type": "code",
   "execution_count": 10,
   "id": "9268c869",
   "metadata": {},
   "outputs": [
    {
     "name": "stdout",
     "output_type": "stream",
     "text": [
      "最后一列：45日后的付费金额，标签列\n"
     ]
    }
   ],
   "source": [
    "print(\"最后一列：45日后的付费金额，标签列\")\n",
    "y = data.iloc[:,-1] "
   ]
  },
  {
   "cell_type": "code",
   "execution_count": 11,
   "id": "4bf7c55e",
   "metadata": {},
   "outputs": [
    {
     "name": "stdout",
     "output_type": "stream",
     "text": [
      "另外也想探索一下7天内的经营状况\n"
     ]
    }
   ],
   "source": [
    "print(\"另外也想探索一下7天内的经营状况\")\n",
    "Seven_day_payAmount = data.loc[:,\"付费金额\"] "
   ]
  },
  {
   "cell_type": "markdown",
   "id": "019c3eb2",
   "metadata": {},
   "source": [
    "    ### S1.查看一下标签列的分布"
   ]
  },
  {
   "cell_type": "code",
   "execution_count": 12,
   "id": "97c015ad",
   "metadata": {},
   "outputs": [
    {
     "data": {
      "text/html": [
       "<div>\n",
       "<style scoped>\n",
       "    .dataframe tbody tr th:only-of-type {\n",
       "        vertical-align: middle;\n",
       "    }\n",
       "\n",
       "    .dataframe tbody tr th {\n",
       "        vertical-align: top;\n",
       "    }\n",
       "\n",
       "    .dataframe thead th {\n",
       "        text-align: right;\n",
       "    }\n",
       "</style>\n",
       "<table border=\"1\" class=\"dataframe\">\n",
       "  <thead>\n",
       "    <tr style=\"text-align: right;\">\n",
       "      <th></th>\n",
       "      <th>count</th>\n",
       "      <th>mean</th>\n",
       "      <th>std</th>\n",
       "      <th>min</th>\n",
       "      <th>25%</th>\n",
       "      <th>50%</th>\n",
       "      <th>75%</th>\n",
       "      <th>90%</th>\n",
       "      <th>99%</th>\n",
       "      <th>max</th>\n",
       "    </tr>\n",
       "  </thead>\n",
       "  <tbody>\n",
       "    <tr>\n",
       "      <th>45日付费金额</th>\n",
       "      <td>1048575.000</td>\n",
       "      <td>1.855</td>\n",
       "      <td>95.869</td>\n",
       "      <td>0.000</td>\n",
       "      <td>0.000</td>\n",
       "      <td>0.000</td>\n",
       "      <td>0.000</td>\n",
       "      <td>0.000</td>\n",
       "      <td>3.970</td>\n",
       "      <td>32977.810</td>\n",
       "    </tr>\n",
       "  </tbody>\n",
       "</table>\n",
       "</div>"
      ],
      "text/plain": [
       "              count  mean    std   min   25%   50%   75%   90%   99%       max\n",
       "45日付费金额 1048575.000 1.855 95.869 0.000 0.000 0.000 0.000 0.000 3.970 32977.810"
      ]
     },
     "execution_count": 12,
     "metadata": {},
     "output_type": "execute_result"
    }
   ],
   "source": [
    "pd.DataFrame(y.describe([0.25,0.75,0.9,0.99])).T"
   ]
  },
  {
   "cell_type": "markdown",
   "id": "1b39c4b9",
   "metadata": {},
   "source": [
    "发现了重大问题！\n",
    "- 从分布来看接近90%+的玩家都没有付费，游戏转化可能存在大问题\n",
    "- ——游戏中常有10%的付费玩家养全服的情况，因此添加0.9及0.99两个选项"
   ]
  },
  {
   "cell_type": "markdown",
   "id": "6a743d78",
   "metadata": {},
   "source": [
    "所以为了更细致了解7日/45日游戏经营消费情况，要看一下具体的详细数字；\n",
    "- 这里包括付费率，付费人数，转化总金额，ARPU，以及对应时间内的消费金额靠前的用户消费金额占比比例；"
   ]
  },
  {
   "cell_type": "markdown",
   "id": "9fa60bcf",
   "metadata": {},
   "source": [
    "### S2.查看45日&7日的转化经营情况！"
   ]
  },
  {
   "cell_type": "code",
   "execution_count": 13,
   "id": "929f073a",
   "metadata": {},
   "outputs": [],
   "source": [
    "# 用于展示7日与45日玩家消费情况的关键指标的函数定义！~\n",
    "def RevenueFocus(RevenueSeries):\n",
    "    All_Users = len(RevenueSeries) # 全部玩家数量\n",
    "    Paid_Users = (RevenueSeries != 0).sum() # 付费玩家数量\n",
    "    Total_Payment = RevenueSeries.sum() # 总付费金额\n",
    "    print(\"付费率：{:.3f}%\".format(100*Paid_Users/All_Users))\n",
    "    print(\"付费人数：{}\".format(Paid_Users))\n",
    "    print(\"转化总金额：{:.3f}\".format(Total_Payment))\n",
    "    print(\"ARPU：{:.3f}\".format(Total_Payment/All_Users)) #ARPU:Average Revenue Per User 用户平均收入\n",
    "    print(\"ARPPU：{:.3f}\".format(Total_Payment/Paid_Users)) #ARPPU: Average Revenue Per Paying User 付费用户平均收入\n",
    "    print(\"前500高消费玩家金额占比：{:.3f}%\".format(100*RevenueSeries.sort_values(ascending=False)[:500].sum()/Total_Payment))\n",
    "    print(\"前1000高消费玩家金额占比：{:.3f}%\".format(100*RevenueSeries.sort_values(ascending=False)[:1000].sum()/Total_Payment))\n",
    "    print(\"前5000高消费玩家金额占比：{:.3f}%\".format(100*RevenueSeries.sort_values(ascending=False)[:5000].sum()/Total_Payment))"
   ]
  },
  {
   "cell_type": "code",
   "execution_count": 14,
   "id": "74377897",
   "metadata": {},
   "outputs": [
    {
     "name": "stdout",
     "output_type": "stream",
     "text": [
      "付费率：2.022%\n",
      "付费人数：21203\n",
      "转化总金额：1944914.070\n",
      "ARPU：1.855\n",
      "ARPPU：91.728\n",
      "前500高消费玩家金额占比：66.897%\n",
      "前1000高消费玩家金额占比：78.783%\n",
      "前5000高消费玩家金额占比：96.100%\n"
     ]
    },
    {
     "data": {
      "text/plain": [
       "(None, 0.004768376129509096)"
      ]
     },
     "execution_count": 14,
     "metadata": {},
     "output_type": "execute_result"
    }
   ],
   "source": [
    "# 45日转化情况\n",
    "RevenueFocus(y),(5000/data.shape[0])"
   ]
  },
  {
   "cell_type": "code",
   "execution_count": 15,
   "id": "75c3c228",
   "metadata": {},
   "outputs": [
    {
     "name": "stdout",
     "output_type": "stream",
     "text": [
      "付费率：1.824%\n",
      "付费人数：19126\n",
      "转化总金额：574387.680\n",
      "ARPU：0.548\n",
      "ARPPU：30.032\n",
      "前500高消费玩家金额占比：58.899%\n",
      "前1000高消费玩家金额占比：70.765%\n",
      "前5000高消费玩家金额占比：93.063%\n"
     ]
    }
   ],
   "source": [
    "# 7日转化情况\n",
    "RevenueFocus(Seven_day_payAmount)"
   ]
  },
  {
   "cell_type": "markdown",
   "id": "73d0424a",
   "metadata": {},
   "source": [
    "- 整体来看付费率是偏低的!\n",
    "- 根据相关资料与经验数据来看：\n",
    "> 2016年时全球F2P(free to play)手游的付费率就有2.3%，《野蛮时代》的制作公司Tap4fun具有丰富的SLG手游经验，并且在开服测试阶段就有200w用户数据，转化率应该更高。\n",
    "> 2020年SLG手游的平均付费率大约在5%左右，顶级手游的付费率能够接近15%。"
   ]
  },
  {
   "cell_type": "code",
   "execution_count": 16,
   "id": "5cae8949",
   "metadata": {},
   "outputs": [
    {
     "name": "stdout",
     "output_type": "stream",
     "text": [
      "7-45日新增付费玩家数：\n"
     ]
    },
    {
     "data": {
      "text/plain": [
       "2077"
      ]
     },
     "execution_count": 16,
     "metadata": {},
     "output_type": "execute_result"
    }
   ],
   "source": [
    "print(\"7-45日新增付费玩家数：\")\n",
    "21203 - 19126"
   ]
  },
  {
   "cell_type": "code",
   "execution_count": 17,
   "id": "4756499f",
   "metadata": {},
   "outputs": [
    {
     "name": "stdout",
     "output_type": "stream",
     "text": [
      "前七天未消费的玩家数：\n"
     ]
    },
    {
     "data": {
      "text/plain": [
       "1029449"
      ]
     },
     "execution_count": 17,
     "metadata": {},
     "output_type": "execute_result"
    }
   ],
   "source": [
    "print(\"前七天未消费的玩家数：\")\n",
    "(Seven_day_payAmount == 0).sum()"
   ]
  },
  {
   "cell_type": "code",
   "execution_count": 18,
   "id": "f33eb96d",
   "metadata": {},
   "outputs": [
    {
     "name": "stdout",
     "output_type": "stream",
     "text": [
      "7-45日新增付费用户占7日前未消费玩家的比例：0.202%\n",
      "新增的消费玩家数字比上之前未消费的玩家数的比例，可以反应在后续阶段消费的概率，可能性！！！！！！\n"
     ]
    }
   ],
   "source": [
    "print(\"7-45日新增付费用户占7日前未消费玩家的比例：{:.3f}%\".format(round(((21203 - 19126)/(Seven_day_payAmount == 0).sum())*100,4)))\n",
    "print(\"新增的消费玩家数字比上之前未消费的玩家数的比例，可以反应在后续阶段消费的概率，可能性！！！！！！\")"
   ]
  },
  {
   "cell_type": "markdown",
   "id": "2051e972",
   "metadata": {},
   "source": [
    "- Critial：\n",
    "从数据逻辑来看：\n",
    "> 1. 45日总付费不为0的玩家一定包括前7日内付过费的用户。\n",
    "> 2. 从7日到45日，新增付费玩家仅有2077人（占不氪金用户的1.99%），即是说如果**一个新玩家在服的前七天没有氪金，那他在未来一个月内99.8%的可能性都不会在消费**。\n",
    "- 这可能时由于如下原因导致的：\n",
    "> 1. 所有的玩家都留存到了45日之后，这说明新用户福利消失后，游戏中的转化手段贫瘠，转化刺激效应过于薄弱；\n",
    "> 2. 大部分玩家在45日之前已经流失，因此才没有继续转化为氪金用户的机会！\n",
    "\n",
    "这些数字涉及到新玩家注册后的留存环节！！！！！！"
   ]
  },
  {
   "cell_type": "markdown",
   "id": "7ece5374",
   "metadata": {},
   "source": [
    "同时，计算7日之后再也没有付费的玩家数：\n",
    "#7日之后再也没有付费的玩家即，45日时付费金额与7日付费金额相同、且7日时付过费的玩家"
   ]
  },
  {
   "cell_type": "code",
   "execution_count": 19,
   "id": "b0ba2580",
   "metadata": {},
   "outputs": [
    {
     "name": "stdout",
     "output_type": "stream",
     "text": [
      "筛选7天付费金额与45天付费金额一致的玩家——终止消费型；\n",
      "      以及7天付费金额与45天付费金额不一致的玩家——继续消费型\n"
     ]
    }
   ],
   "source": [
    "print('''筛选7天付费金额与45天付费金额一致的玩家——终止消费型；\n",
    "      以及7天付费金额与45天付费金额不一致的玩家——继续消费型''')\n",
    "User_count_7_dayamountis45dayamount = Seven_day_payAmount[Seven_day_payAmount == y] #筛选除了7天付费金额与45天付费金额一致的玩家，但是未剔除消费金额为0的\n",
    "User_count_7_dayamountnot45dayamount = Seven_day_payAmount[Seven_day_payAmount != y] #筛选除了7天付费金额与45天付费金额一致的玩家，但是未剔除消费金额为0的\n",
    "# User_count_7_dayamountnot45dayamount,User_count_7_dayamountis45dayamount #实在想不出好的命名规则了。。。\n"
   ]
  },
  {
   "cell_type": "code",
   "execution_count": 20,
   "id": "b86f9811",
   "metadata": {},
   "outputs": [
    {
     "name": "stdout",
     "output_type": "stream",
     "text": [
      "找出7-45天之间，之前7天消费，在这段时间再无消费的玩家数字！\n"
     ]
    },
    {
     "data": {
      "text/plain": [
       "13922"
      ]
     },
     "execution_count": 20,
     "metadata": {},
     "output_type": "execute_result"
    }
   ],
   "source": [
    "print(\"找出7-45天之间，之前7天消费，在这段时间再无消费的玩家数字！\")\n",
    "User_count_7_dayamountis45dayamount[Seven_day_payAmount !=0].count()"
   ]
  },
  {
   "cell_type": "code",
   "execution_count": 21,
   "id": "aebaba10",
   "metadata": {},
   "outputs": [
    {
     "name": "stdout",
     "output_type": "stream",
     "text": [
      "找出7-45天之间，之前7天消费，在7-45天这段时间再无消费的玩家，占前7天总付费人数的占比：72.791%\n",
      "之前消费后续无消费的玩家数，比上之前总消费的玩家数字，反映出之前玩家消费，而后续不再消费的概率！\n"
     ]
    }
   ],
   "source": [
    "print(\"找出7-45天之间，之前7天消费，在7-45天这段时间再无消费的玩家，占前7天总付费人数的占比：{:.3f}%\".format(100*User_count_7_dayamountis45dayamount[Seven_day_payAmount !=0].count()/19126))\n",
    "print(\"之前消费后续无消费的玩家数，比上之前总消费的玩家数字，反映出之前玩家消费，而后续不再消费的概率！\")"
   ]
  },
  {
   "cell_type": "markdown",
   "id": "66f40aa0",
   "metadata": {},
   "source": [
    "- Critical：\n",
    "> 不难发现，7日之前付过费，并且7日之后再也没有付费的玩家有3万多人，占到前7天总付费玩家的72%，\n",
    "> 即一个新玩家在服前七天有氪金，但她/他在未来一个月还是有7成的概率不再继续消费。这可能说明（按可能性排序）：\n",
    "> 1. 对大部分玩家而言，最初氪的是超低价/超实惠新手礼包，后续氪金礼包中的福利/以及价格超出了大部分玩家对游戏氪金的心理预期\n",
    "> 2. 新手礼包力度过大，导致后续氪金礼包中的福利看起来不够实惠，用户再付费门槛较高\n",
    "> 3. 游戏本身粘性不足，无论用户是否氪金，大部分人都在7-45日内自然流失了（甚至在前7日就流失了大部分）\n",
    "> 4. 开局需要发育时玩家更愿意氪金解决问题（痒感充足），发育起来之后便不再具有强烈氪金需求/发育不起来直接退服了\n",
    "> 5. （可能性较小，仅针对少部分前7日巨氪但7日后却不再氪的大佬）氪金后体验一般甚至较差，例如，发现氪几百、上千元后对玩家竞争力无明显提升\n",
    "\n",
    "这些数字涉及到新玩家注册后短时间内游玩体验，一周后留存环节！！！！！！"
   ]
  },
  {
   "cell_type": "markdown",
   "id": "cb5c05c3",
   "metadata": {},
   "source": [
    "再来看一下！\n",
    "> 1. 7日后再也没有付过费的玩家，他们前7日的消费金额情况；\n",
    "> 2. 7日后仍然有付过费的玩家，他们前7日的消费金额情况；\n",
    "> 两拨群体做一个对比；"
   ]
  },
  {
   "cell_type": "code",
   "execution_count": 22,
   "id": "f4509afe",
   "metadata": {},
   "outputs": [
    {
     "data": {
      "text/plain": [
       "count   13922.000\n",
       "mean       10.747\n",
       "std        63.899\n",
       "min         0.990\n",
       "25%         0.990\n",
       "50%         1.980\n",
       "75%         5.980\n",
       "max      4086.520\n",
       "Name: 付费金额, dtype: float64"
      ]
     },
     "execution_count": 22,
     "metadata": {},
     "output_type": "execute_result"
    }
   ],
   "source": [
    "#7日后再也没有付过费的玩家，他们前7日的消费金额情况——整体描述统计\n",
    "User_count_7_dayamountis45dayamount[Seven_day_payAmount != 0].describe()"
   ]
  },
  {
   "cell_type": "code",
   "execution_count": 23,
   "id": "9df626ce",
   "metadata": {},
   "outputs": [
    {
     "data": {
      "text/plain": [
       "149613.85"
      ]
     },
     "execution_count": 23,
     "metadata": {},
     "output_type": "execute_result"
    }
   ],
   "source": [
    "#7日后再也没有付过费的玩家，他们前7日的消费金额情况——整体金额汇总\n",
    "User_count_7_dayamountis45dayamount[Seven_day_payAmount !=0].sum()"
   ]
  },
  {
   "cell_type": "code",
   "execution_count": 24,
   "id": "a54e5df3",
   "metadata": {},
   "outputs": [
    {
     "data": {
      "text/plain": [
       "count   5204.000\n",
       "mean      81.624\n",
       "std      305.981\n",
       "min        0.990\n",
       "25%        2.980\n",
       "50%       15.970\n",
       "75%       46.922\n",
       "max     7457.950\n",
       "Name: 付费金额, dtype: float64"
      ]
     },
     "execution_count": 24,
     "metadata": {},
     "output_type": "execute_result"
    }
   ],
   "source": [
    "#7日后仍然有付过费的玩家，他们前7日的消费金额情况——整体描述统计\n",
    "User_count_7_dayamountnot45dayamount[Seven_day_payAmount != 0].describe()"
   ]
  },
  {
   "cell_type": "code",
   "execution_count": 25,
   "id": "b949d68f",
   "metadata": {},
   "outputs": [
    {
     "data": {
      "text/plain": [
       "424773.82999999996"
      ]
     },
     "execution_count": 25,
     "metadata": {},
     "output_type": "execute_result"
    }
   ],
   "source": [
    "#7日后仍然有付过费的玩家，他们前7日的消费金额情况——整体金额汇总\n",
    "User_count_7_dayamountnot45dayamount[Seven_day_payAmount != 0].sum()"
   ]
  },
  {
   "cell_type": "code",
   "execution_count": 26,
   "id": "af80c986",
   "metadata": {},
   "outputs": [
    {
     "data": {
      "text/plain": [
       "count    5204.000\n",
       "mean      327.219\n",
       "std      1306.134\n",
       "min         1.980\n",
       "25%        15.960\n",
       "50%        48.890\n",
       "75%       170.903\n",
       "max     32977.810\n",
       "Name: 45日付费金额, dtype: float64"
      ]
     },
     "execution_count": 26,
     "metadata": {},
     "output_type": "execute_result"
    }
   ],
   "source": [
    "#7日后继续付费的玩家在45日时的消费概况\n",
    "y[Seven_day_payAmount != y][Seven_day_payAmount != 0].describe()"
   ]
  },
  {
   "cell_type": "markdown",
   "id": "42bd800b",
   "metadata": {},
   "source": [
    "> 1. 非常明显，7日后继续消费的玩家在前7日会消费更多的金额，42W >15W！\n",
    "> 2. 看75%分位点：7日后不再消费的玩家中有75%都只有6元以下的金额，而7日后继续消费的玩家中有50%以上都磕了16元左右，\n",
    "这极大地印证了之前提出的第一条理由：大部分人会购买新手礼包，而后续礼包的价格在大部分人的心理预期之外，或者觉得不值得。\n",
    "> 3. 从7日后继续付费的用户消费情况来看，玩家是倾向于越氪越多的，因此大部分玩家对于消费后的感受应该是满意的。\n",
    "后续结合ARPU和ARPPU的数据，可以推测消费后的游戏体验是很不错的。"
   ]
  },
  {
   "cell_type": "markdown",
   "id": "5fc24747",
   "metadata": {},
   "source": [
    "### S3.对比两类用户在前7日的消费情况"
   ]
  },
  {
   "cell_type": "code",
   "execution_count": 27,
   "id": "06032538",
   "metadata": {
    "scrolled": false
   },
   "outputs": [
    {
     "data": {
      "image/png": "[encoded data removed]",
      "text/plain": [
       "<Figure size 936x432 with 1 Axes>"
      ]
     },
     "metadata": {
      "needs_background": "light"
     },
     "output_type": "display_data"
    }
   ],
   "source": [
    "plt.figure(figsize=(13,6))\n",
    "plt.boxplot([Seven_day_payAmount[Seven_day_payAmount != y][Seven_day_payAmount != 0],Seven_day_payAmount[Seven_day_payAmount == y][Seven_day_payAmount != 0]],labels=[\"7日后继续消费玩家\",\"7日后不再消费玩家\"],vert=False,showmeans=False)\n",
    "plt.xlim(-1,50)\n",
    "plt.title('前7日消费金额分布图',fontsize=20.0)\n",
    "plt.xticks(range(0,50,2),fontsize=15.0)\n",
    "plt.yticks(fontsize=15.0)\n",
    "plt.vlines(6.0,ymin = plt.ylim()[0]+0.2,ymax = plt.ylim()[1]-0.1,colors=\"red\",linestyles=\"dotted\")\n",
    "plt.show()"
   ]
  },
  {
   "cell_type": "markdown",
   "id": "6e841feb",
   "metadata": {},
   "source": [
    "- 但继续付费玩家的分布要靠右许多，说明7日后付费玩家在前7日消费更多。\n",
    "> - <font color=\"red\"> **高价值玩家评判的第一个可能的标准：前7日消费超过6元的玩家是更有价值的玩家**</font><br><br>\n",
    "以此推测，新手礼包设置为6元左右，或许可以明确辨析出游戏玩家用户对于游戏过程中可接受付费范围。"
   ]
  },
  {
   "cell_type": "markdown",
   "id": "52cddd8d",
   "metadata": {},
   "source": [
    "考虑到后续付费用户有50%都付了16元及以上，可以推测这个金额点应该是在16元以下的，因此设置潜在阈值金额的范围为1-16。\n",
    "用于判别玩家用户高低价值的阈值！"
   ]
  },
  {
   "cell_type": "code",
   "execution_count": 28,
   "id": "e8038d6f",
   "metadata": {},
   "outputs": [
    {
     "data": {
      "text/plain": [
       "[1, 2, 3, 4, 5, 6, 7, 8, 9, 10, 11, 12, 13, 14, 15]"
      ]
     },
     "execution_count": 28,
     "metadata": {},
     "output_type": "execute_result"
    }
   ],
   "source": [
    "PotentialPoints = range(1,16)\n",
    "[*PotentialPoints]\n"
   ]
  },
  {
   "cell_type": "code",
   "execution_count": 29,
   "id": "3311f19a",
   "metadata": {},
   "outputs": [
    {
     "name": "stdout",
     "output_type": "stream",
     "text": [
      "遍历寻找最佳阈值点，保证在此阈值金额下，玩家继续消费的可能性更高！——联合可视化模块\n",
      "1\n",
      "阈值1时的继续消费玩家比例：37.627%\n",
      "阈值1时的不再消费玩家比例：62.373%\n",
      "前500高消费用户金额占比：-0.247%\n",
      "2\n",
      "阈值2时的继续消费玩家比例：43.717%\n",
      "阈值2时的不再消费玩家比例：56.283%\n",
      "前500高消费用户金额占比：-0.126%\n",
      "3\n",
      "阈值3时的继续消费玩家比例：45.676%\n",
      "阈值3时的不再消费玩家比例：54.324%\n",
      "前500高消费用户金额占比：-0.086%\n",
      "4\n",
      "阈值4时的继续消费玩家比例：46.515%\n",
      "阈值4时的不再消费玩家比例：53.485%\n",
      "前500高消费用户金额占比：-0.070%\n",
      "5\n",
      "阈值5时的继续消费玩家比例：48.032%\n",
      "阈值5时的不再消费玩家比例：51.968%\n",
      "前500高消费用户金额占比：-0.039%\n",
      "6\n",
      "阈值6时的继续消费玩家比例：50.534%\n",
      "阈值6时的不再消费玩家比例：49.466%\n",
      "前500高消费用户金额占比：0.011%\n",
      "当7日内消费金额大于6.00时，玩家继续消费的可能性比不再氪金的可能性更高！\n"
     ]
    },
    {
     "data": {
      "image/png": "[encoded data removed]",
      "text/plain": [
       "<Figure size 1080x504 with 1 Axes>"
      ]
     },
     "metadata": {
      "needs_background": "light"
     },
     "output_type": "display_data"
    }
   ],
   "source": [
    "print('''遍历寻找最佳阈值点，保证在此阈值金额下，玩家继续消费的可能性更高！——联合可视化模块''')\n",
    "for i in PotentialPoints:\n",
    "    Higher_Than_Point = Seven_day_payAmount[Seven_day_payAmount>=i] #取出所有7天内付费金额超出阈值金额i的付费用户\n",
    "    Keep_Paid = len(Higher_Than_Point[Seven_day_payAmount != y])/len(Higher_Than_Point) #这些用户中，继续付费的用户所占的比例\n",
    "    Stop_Paid = len(Higher_Than_Point[Seven_day_payAmount == y])/len(Higher_Than_Point) #等于上面的1 - Keep_Paid\n",
    "    print(i)\n",
    "    print(\"阈值\" + str(i)+ \"时的继续消费玩家比例：{:.3f}%\".format(100*Keep_Paid))\n",
    "    print(\"阈值\" + str(i)+ \"时的不再消费玩家比例：{:.3f}%\".format(100*Stop_Paid))\n",
    "    print(\"前500高消费用户金额占比：{:.3f}%\".format(Keep_Paid - Stop_Paid))\n",
    "    if Keep_Paid - Stop_Paid > 0:\n",
    "        print(\"当7日内消费金额大于{:.2f}时，玩家继续消费的可能性比不再氪金的可能性更高！\".format(i))\n",
    "        break\n",
    "##################################\n",
    "KeepPaidList = []\n",
    "StopPaidList = []\n",
    "for i in PotentialPoints:\n",
    "    Higher_Than_Point = Seven_day_payAmount[Seven_day_payAmount>=i] #取出所有7天内付费金额超出阈值金额i的付费用户\n",
    "    Keep_Paid = len(Higher_Than_Point[Seven_day_payAmount != y])/len(Higher_Than_Point) #这些用户中，继续付费的用户所占的比例\n",
    "    Stop_Paid = len(Higher_Than_Point[Seven_day_payAmount == y])/len(Higher_Than_Point) #等于上面的1 - Keep_Paid\n",
    "    KeepPaidList.append(100*Keep_Paid)\n",
    "    StopPaidList.append(100*Stop_Paid)\n",
    "plt.figure(figsize=(15,7))\n",
    "plt.plot(PotentialPoints,KeepPaidList,label=\"7日后继续消费的概率\",color=\"red\")\n",
    "plt.plot(PotentialPoints,StopPaidList,label=\"7日后停止消费的概率\",color=\"k\")\n",
    "#plt.xlim(-1,50)\n",
    "plt.title('前7日消费数额增加，继续消费概率/不再消费概率的变化',fontsize=20.0)\n",
    "plt.yticks(fontsize=15.0)\n",
    "plt.xticks(range(0,16,1),fontsize=15.0)\n",
    "plt.legend(fontsize = 15.0, frameon = False)\n",
    "plt.vlines(5.7,ymin = plt.ylim()[0]+0.1,ymax = plt.ylim()[1]-0.1,colors=\"red\",linestyles=\"dotted\")\n",
    "plt.show()"
   ]
  },
  {
   "cell_type": "markdown",
   "id": "c4730b87",
   "metadata": {},
   "source": [
    "- 在前7日内付费6元以下的玩家，无论是否自然流失，未来消费的可能性都是小于不再付费的可能性的。\n",
    "- 可以通过设置游戏体验，给与付费5元左右的用户更多的“刺激”，让他们后续继续付费。也可选择直接放弃6元以下的付费玩家，体验维持现状或减少资源分配，让更多的资源/服务围绕更有可能付费的玩家展开。"
   ]
  },
  {
   "cell_type": "markdown",
   "id": "b0789375",
   "metadata": {},
   "source": [
    "### S4.回看一下收入经营层面！"
   ]
  },
  {
   "cell_type": "code",
   "execution_count": 30,
   "id": "9d137328",
   "metadata": {},
   "outputs": [
    {
     "name": "stdout",
     "output_type": "stream",
     "text": [
      "7天！!!\n",
      "付费率：2.022%\n",
      "付费人数：21203\n",
      "转化总金额：1944914.070\n",
      "ARPU：1.855\n",
      "ARPPU：91.728\n",
      "前500高消费玩家金额占比：66.897%\n",
      "前1000高消费玩家金额占比：78.783%\n",
      "前5000高消费玩家金额占比：96.100%\n",
      "45天！!!\n",
      "付费率：1.824%\n",
      "付费人数：19126\n",
      "转化总金额：574387.680\n",
      "ARPU：0.548\n",
      "ARPPU：30.032\n",
      "前500高消费玩家金额占比：58.899%\n",
      "前1000高消费玩家金额占比：70.765%\n",
      "前5000高消费玩家金额占比：93.063%\n"
     ]
    }
   ],
   "source": [
    "print(\"7天！!!\")\n",
    "RevenueFocus(y)\n",
    "print(\"45天！!!\")\n",
    "RevenueFocus(Seven_day_payAmount)"
   ]
  },
  {
   "cell_type": "code",
   "execution_count": 31,
   "id": "3198eaa6",
   "metadata": {},
   "outputs": [
    {
     "data": {
      "text/plain": [
       "32977.81"
      ]
     },
     "execution_count": 31,
     "metadata": {},
     "output_type": "execute_result"
    }
   ],
   "source": [
    "y.max()"
   ]
  },
  {
   "cell_type": "markdown",
   "id": "5e02eb50",
   "metadata": {},
   "source": [
    "- 来看ARPU与ARPPU数据。\n",
    "> 1. ARPU是全服用户平均收入，ARPPU是全服付费玩家平均收入，目前来看全服的ARPU较低，但ARPPU还不错，这说明虽然付费人数不多，但是大款的付费能力相对较强。\n",
    "> 2. 从前5000高消费玩家金额占比来看，45日时全服高消费金额前5000的人(这一部分玩家占比小于0.4%)提供了全服93%的收入，大款们贡献巨大。\n",
    "这可能表示，《野蛮时代》中的消费行为应该与玩家竞争力有较为直接的联系，因为许多大款玩家非常偏爱强PK类游戏，付费可以直接让PVP变得异常简单，不过全服最氪金玩家在一个月内的消费有33000元，在SLG手游领域并非一个很高的数字，\n",
    "如果游戏体验优秀，应该还有很大的上升空间。而付费人数不多的问题还可以改善，游戏整体的经营成果还可以上一个台阶。"
   ]
  },
  {
   "cell_type": "markdown",
   "id": "783b4425",
   "metadata": {},
   "source": [
    "### P3.游戏内特征的探索分析"
   ]
  },
  {
   "cell_type": "markdown",
   "id": "4fd18674",
   "metadata": {},
   "source": [
    "    ### S1.通过在线时长，判别一下玩家是否以超出常规的速度流失；"
   ]
  },
  {
   "cell_type": "markdown",
   "id": "2127af34",
   "metadata": {},
   "source": [
    "- 通常来说，任意手游的次日留存率及格线应该在50%以上，7日留存应该在30%左右，一个成功的手游则需要在7日达到50%左右的留存；——行业者经验论；\n",
    "- 而目前通过前面的种种迹象，《野蛮时代》可能并未达到这个次日留存50%的及格线。\n",
    "- 在特征当中，有一列“在线时长”，是前7日用户在线的时长。通过判断用户在线时长，可以大约估计出用户流失的速度。"
   ]
  },
  {
   "cell_type": "code",
   "execution_count": 32,
   "id": "66aa07f4",
   "metadata": {},
   "outputs": [
    {
     "name": "stdout",
     "output_type": "stream",
     "text": [
      "取出在线时长，看一下最长时间是多少！\n"
     ]
    },
    {
     "data": {
      "text/plain": [
       "2049.666667"
      ]
     },
     "execution_count": 32,
     "metadata": {},
     "output_type": "execute_result"
    }
   ],
   "source": [
    "print(\"取出在线时长，看一下最长时间是多少！\")\n",
    "user_online_time = data.loc[:,\"在线时长\"]\n",
    "user_online_time.max()"
   ]
  },
  {
   "cell_type": "markdown",
   "id": "b0de50fa",
   "metadata": {},
   "source": [
    "- 前7日内游戏时长最长的玩家玩了2049分钟，即24个小时，每日玩5个小时左右！！也是蛮拼命地！\n"
   ]
  },
  {
   "cell_type": "code",
   "execution_count": 33,
   "id": "ef91e6a4",
   "metadata": {},
   "outputs": [
    {
     "name": "stdout",
     "output_type": "stream",
     "text": [
      "在线分钟时长的描述性统计结果！\n"
     ]
    },
    {
     "data": {
      "text/plain": [
       "count   1048575.000\n",
       "mean         10.245\n",
       "std          39.098\n",
       "min           0.000\n",
       "25%           0.500\n",
       "50%           1.833\n",
       "75%           5.000\n",
       "90%          14.833\n",
       "95%          41.500\n",
       "99%         183.710\n",
       "max        2049.667\n",
       "Name: 在线时长, dtype: float64"
      ]
     },
     "execution_count": 33,
     "metadata": {},
     "output_type": "execute_result"
    }
   ],
   "source": [
    "print(\"在线分钟时长的描述性统计结果！\")\n",
    "user_online_time.describe(percentiles=[0.25,0.5,0.75,0.9,0.95,0.99]) #查看一下90%以上的分布"
   ]
  },
  {
   "cell_type": "markdown",
   "id": "2168859b",
   "metadata": {},
   "source": [
    "- 75%的玩家在前7日一共只玩了5分钟还不到。。。这是说超过75%的玩家只是稍微看了一眼游戏就被劝退了；过场动画，介绍基本就这么点儿时间。。。\n",
    "- SLG游戏天生会充满许多任务、奖励和剧情，除非玩家登录即退出，否则登入一次至少应该停留5-10分钟；新玩家停留的时间应当更长（有非常多的比如新手教程，了解探索、任务说明等）。\n",
    "- 如果一个玩家在注册游戏后第二天依然被留存下来、并参与到游戏当中，那两天在线时长至少也应该有10-15分钟。\n",
    "- 但目前75%的玩家在前7日内只玩了5分钟，太少了，基本是7天内就看了一眼新手教程可能就卸载了。。。\n",
    "- 90%的玩家在7日内只玩了15分钟以下，平均一天2分钟多一点，大概就是做个每日任务，领一下签到奖励等等，积极性也并不是很高。。。\n",
    "- 玩家的确以比较快的趋势流失，付费率不高在情理之中。"
   ]
  },
  {
   "cell_type": "code",
   "execution_count": 34,
   "id": "6b5776c7",
   "metadata": {},
   "outputs": [
    {
     "name": "stdout",
     "output_type": "stream",
     "text": [
      "那个在线时长最长的玩家有无可能是管理员测试账号之类的？？？\n"
     ]
    },
    {
     "data": {
      "text/plain": [
       "1"
      ]
     },
     "execution_count": 34,
     "metadata": {},
     "output_type": "execute_result"
    }
   ],
   "source": [
    "print(\"那个在线时长最长的玩家有无可能是管理员测试账号之类的？？？\")\n",
    "(data[\"在线时长\"] > 1600).sum() #可能测试人员，GM"
   ]
  },
  {
   "cell_type": "code",
   "execution_count": 35,
   "id": "2d360369",
   "metadata": {},
   "outputs": [
    {
     "name": "stdout",
     "output_type": "stream",
     "text": [
      "这个玩家还好不是所谓的管理员。。。从资源获取数量，PVP次数来看是正常玩家，也有付费！这个玩家用户够努力！！！\n"
     ]
    },
    {
     "data": {
      "text/html": [
       "<div>\n",
       "<style scoped>\n",
       "    .dataframe tbody tr th:only-of-type {\n",
       "        vertical-align: middle;\n",
       "    }\n",
       "\n",
       "    .dataframe tbody tr th {\n",
       "        vertical-align: top;\n",
       "    }\n",
       "\n",
       "    .dataframe thead th {\n",
       "        text-align: right;\n",
       "    }\n",
       "</style>\n",
       "<table border=\"1\" class=\"dataframe\">\n",
       "  <thead>\n",
       "    <tr style=\"text-align: right;\">\n",
       "      <th>字段解释</th>\n",
       "      <th>玩家唯一ID</th>\n",
       "      <th>玩家注册时间</th>\n",
       "      <th>木头获取数量</th>\n",
       "      <th>木头消耗数量</th>\n",
       "      <th>石头获取数量</th>\n",
       "      <th>石头消耗数量</th>\n",
       "      <th>象牙获取数量</th>\n",
       "      <th>象牙消耗数量</th>\n",
       "      <th>肉获取数量</th>\n",
       "      <th>肉消耗数量</th>\n",
       "      <th>...</th>\n",
       "      <th>PVP次数</th>\n",
       "      <th>主动发起PVP次数</th>\n",
       "      <th>PVP胜利次数</th>\n",
       "      <th>PVE次数</th>\n",
       "      <th>主动发起PVE次数</th>\n",
       "      <th>PVE胜利次数</th>\n",
       "      <th>在线时长</th>\n",
       "      <th>付费金额</th>\n",
       "      <th>付费次数</th>\n",
       "      <th>45日付费金额</th>\n",
       "    </tr>\n",
       "  </thead>\n",
       "  <tbody>\n",
       "    <tr>\n",
       "      <th>488497</th>\n",
       "      <td>645487</td>\n",
       "      <td>2018/3/4 13:43</td>\n",
       "      <td>697852</td>\n",
       "      <td>300255</td>\n",
       "      <td>0</td>\n",
       "      <td>0</td>\n",
       "      <td>6000</td>\n",
       "      <td>0</td>\n",
       "      <td>690379</td>\n",
       "      <td>196602</td>\n",
       "      <td>...</td>\n",
       "      <td>5</td>\n",
       "      <td>0</td>\n",
       "      <td>0</td>\n",
       "      <td>2</td>\n",
       "      <td>2</td>\n",
       "      <td>2</td>\n",
       "      <td>2049.667</td>\n",
       "      <td>0.000</td>\n",
       "      <td>0</td>\n",
       "      <td>0.000</td>\n",
       "    </tr>\n",
       "  </tbody>\n",
       "</table>\n",
       "<p>1 rows × 109 columns</p>\n",
       "</div>"
      ],
      "text/plain": [
       "字段解释    玩家唯一ID          玩家注册时间  木头获取数量  木头消耗数量  石头获取数量  石头消耗数量  象牙获取数量  \\\n",
       "488497  645487  2018/3/4 13:43  697852  300255       0       0    6000   \n",
       "\n",
       "字段解释    象牙消耗数量   肉获取数量   肉消耗数量  ...  PVP次数  主动发起PVP次数  PVP胜利次数  PVE次数  \\\n",
       "488497       0  690379  196602  ...      5          0        0      2   \n",
       "\n",
       "字段解释    主动发起PVE次数  PVE胜利次数     在线时长  付费金额  付费次数  45日付费金额  \n",
       "488497          2        2 2049.667 0.000     0    0.000  \n",
       "\n",
       "[1 rows x 109 columns]"
      ]
     },
     "execution_count": 35,
     "metadata": {},
     "output_type": "execute_result"
    }
   ],
   "source": [
    "print(\"这个玩家还好不是所谓的管理员。。。从资源获取数量，PVP次数来看是正常玩家，也有付费！这个玩家用户够努力！！！\")\n",
    "data.loc[data[\"在线时长\"] > 1600,:] "
   ]
  },
  {
   "cell_type": "markdown",
   "id": "826401c7",
   "metadata": {},
   "source": [
    "    ### S2.尝试查找有过消费行为的玩家们前7日的在线时长！"
   ]
  },
  {
   "cell_type": "code",
   "execution_count": 36,
   "id": "88a57bb8",
   "metadata": {},
   "outputs": [
    {
     "name": "stdout",
     "output_type": "stream",
     "text": [
      "有过消费行为的只有25%以下的玩家在线时间在半小时左右，游戏时间明显比那些未消费的玩家长很多！\n"
     ]
    },
    {
     "data": {
      "text/plain": [
       "count   19126.000\n",
       "mean      141.138\n",
       "std       149.949\n",
       "min         0.333\n",
       "25%        33.000\n",
       "50%        90.000\n",
       "75%       196.333\n",
       "90%       347.250\n",
       "99%       674.542\n",
       "max      1394.667\n",
       "Name: 在线时长, dtype: float64"
      ]
     },
     "execution_count": 36,
     "metadata": {},
     "output_type": "execute_result"
    }
   ],
   "source": [
    "print(\"有过消费行为的只有25%以下的玩家在线时间在半小时左右，游戏时间明显比那些未消费的玩家长很多！\")\n",
    "Paiduser_online_time = data.loc[data[\"付费金额\"] != 0,\"在线时长\"]\n",
    "Paiduser_online_time.describe([0.25,0.5,0.75,0.9,0.99]).T"
   ]
  },
  {
   "cell_type": "code",
   "execution_count": 37,
   "id": "025c96a7",
   "metadata": {},
   "outputs": [
    {
     "name": "stdout",
     "output_type": "stream",
     "text": [
      "存不存在有钱骚的玩家呢？！！！！！！——波尔坤卡！！！！！！真有！！\n",
      "30个花1块！还有俩花100！有钱任性！！！！！！\n",
      "\n"
     ]
    },
    {
     "data": {
      "text/plain": [
       "0.000     407802\n",
       "0.990         30\n",
       "4.990          2\n",
       "99.990         2\n",
       "56.950         1\n",
       "25.970         1\n",
       "36.960         1\n",
       "1.990          1\n",
       "5.980          1\n",
       "Name: 付费金额, dtype: int64"
      ]
     },
     "execution_count": 37,
     "metadata": {},
     "output_type": "execute_result"
    }
   ],
   "source": [
    "print('''存不存在有钱骚的玩家呢？！！！！！！——波尔坤卡！！！！！！真有！！\n",
    "30个花1块！还有俩花100！有钱任性！！！！！！\n",
    "''')\n",
    "data.loc[data[\"在线时长\"]<=1,\"付费金额\"].value_counts()"
   ]
  },
  {
   "cell_type": "markdown",
   "id": "37a20739",
   "metadata": {},
   "source": [
    "- 在线时间很长的玩家也不一定就是高消费大佬肝帝玩家\n",
    "- 在线时间很短的玩家也不一定就完全不消费的低价值玩家\n",
    "- 如何就在线时间这个点来进行玩家用户价值判断呢？"
   ]
  },
  {
   "cell_type": "code",
   "execution_count": 38,
   "id": "367016cc",
   "metadata": {},
   "outputs": [
    {
     "name": "stdout",
     "output_type": "stream",
     "text": [
      "看一下在线时长很少的玩家们，贡献的消费金额以及比例；\n",
      "一周在线时长不足1分钟\n",
      "\t45日平均消费额为0.034元，45日总消费额为12752.090元\n",
      "\t7日平均消费额为0.001元，7日总消费额为353.610元\n",
      "\t7日消费金额占比0.062%，45日消费金额占比0.656%\n",
      "一周在线时长不足5分钟\n",
      "\t45日平均消费额为0.023元，45日总消费额为17971.620元\n",
      "\t7日平均消费额为0.002元，7日总消费额为1933.550元\n",
      "\t7日消费金额占比0.337%，45日消费金额占比0.924%\n",
      "一周在线时长不足15分钟\n",
      "\t45日平均消费额为0.033元，45日总消费额为30709.700元\n",
      "\t7日平均消费额为0.009元，7日总消费额为8217.970元\n",
      "\t7日消费金额占比1.431%，45日消费金额占比1.579%\n",
      "一周在线时长不足20分钟\n",
      "\t45日平均消费额为0.039元，45日总消费额为37681.470元\n",
      "\t7日平均消费额为0.012元，7日总消费额为11872.410元\n",
      "\t7日消费金额占比2.067%，45日消费金额占比1.937%\n",
      "一周在线时长不足25分钟\n",
      "\t45日平均消费额为0.046元，45日总消费额为44900.630元\n",
      "\t7日平均消费额为0.017元，7日总消费额为16177.540元\n",
      "\t7日消费金额占比2.816%，45日消费金额占比2.309%\n",
      "一周在线时长不足30分钟\n",
      "\t45日平均消费额为0.051元，45日总消费额为50520.590元\n",
      "\t7日平均消费额为0.019元，7日总消费额为19039.270元\n",
      "\t7日消费金额占比3.315%，45日消费金额占比2.598%\n"
     ]
    }
   ],
   "source": [
    "print('''看一下在线时长很少的玩家们，贡献的消费金额以及比例；''')\n",
    "for playtime in [1,5,15,20,25,30]:    \n",
    "    MeanPay45 = data.loc[data[\"在线时长\"]<playtime,\"45日付费金额\"].mean()\n",
    "    TotalPay45 = data.loc[data[\"在线时长\"]<playtime,\"45日付费金额\"].sum()\n",
    "    MeanPay7 = data.loc[data[\"在线时长\"]<playtime,\"付费金额\"].mean()\n",
    "    TotalPay7 = data.loc[data[\"在线时长\"]<playtime,\"付费金额\"].sum()   \n",
    "    print(\"一周在线时长不足{}分钟\".format(playtime))\n",
    "    print(\"\\t45日平均消费额为{:.3f}元，45日总消费额为{:.3f}元\".format(MeanPay45,TotalPay45))\n",
    "    print(\"\\t7日平均消费额为{:.3f}元，7日总消费额为{:.3f}元\".format(MeanPay7,TotalPay7))\n",
    "    print(\"\\t7日消费金额占比{:.3f}%，45日消费金额占比{:.3f}%\".format(100*TotalPay7/(data[\"付费金额\"].sum()),100*TotalPay45/(data[\"45日付费金额\"].sum())))\n",
    "\n"
   ]
  },
  {
   "cell_type": "markdown",
   "id": "5d3389b5",
   "metadata": {},
   "source": [
    "> 1. 不难发现，在线时长很少的玩家们贡献的氪金数额很少，30分钟的玩家用户，消费金额也才3%不到！\n",
    "> 2. 所以之后进行建模时，可以忽略一部分在线时间很短的玩家用户。\n",
    "> 3. 在这里，可以将一周在线时长不足15或20分钟的用户判断为低价值用户。"
   ]
  },
  {
   "cell_type": "code",
   "execution_count": 39,
   "id": "8f754e48",
   "metadata": {},
   "outputs": [
    {
     "name": "stdout",
     "output_type": "stream",
     "text": [
      "最肝的前0.5%的玩家的7日在线时长\n"
     ]
    },
    {
     "data": {
      "text/plain": [
       "488497   2049.667\n",
       "882241   1482.000\n",
       "62992    1394.667\n",
       "992862   1388.333\n",
       "213886   1341.833\n",
       "           ...   \n",
       "844900    271.500\n",
       "607524    271.500\n",
       "27638     271.500\n",
       "264141    271.500\n",
       "151731    271.500\n",
       "Name: 在线时长, Length: 5243, dtype: float64"
      ]
     },
     "execution_count": 39,
     "metadata": {},
     "output_type": "execute_result"
    }
   ],
   "source": [
    "print('''最肝的前0.5%的玩家的7日在线时长''')\n",
    "data[\"在线时长\"].sort_values(ascending=False)[:round(data.shape[0]*0.005)] "
   ]
  },
  {
   "cell_type": "code",
   "execution_count": 40,
   "id": "d415c884",
   "metadata": {},
   "outputs": [
    {
     "name": "stdout",
     "output_type": "stream",
     "text": [
      "最肝的前0.5%的玩家消费金额：\n",
      "一周在线时长超过500分钟\n",
      "\t45日平均消费金额为400.859元，45日总消费额为439341.800元\n",
      "\t7日平均消费金额为104.437元，7日总消费额为114462.610元\n",
      "\t7日消费金额占比19.928%，45日消费金额占比22.589%\n",
      "一周在线时长超过600分钟\n",
      "\t45日平均消费金额为496.482元，45日总消费额为271079.310元\n",
      "\t7日平均消费金额为135.515元，7日总消费额为73991.110元\n",
      "\t7日消费金额占比12.882%，45日消费金额占比13.938%\n",
      "一周在线时长超过700分钟\n",
      "\t45日平均消费金额为500.085元，45日总消费额为144524.550元\n",
      "\t7日平均消费金额为126.610元，7日总消费额为36590.150元\n",
      "\t7日消费金额占比6.370%，45日消费金额占比7.431%\n",
      "一周在线时长超过800分钟\n",
      "\t45日平均消费金额为356.364元，45日总消费额为50247.270元\n",
      "\t7日平均消费金额为82.885元，7日总消费额为11686.720元\n",
      "\t7日消费金额占比2.035%，45日消费金额占比2.584%\n",
      "一周在线时长超过900分钟\n",
      "\t45日平均消费金额为248.531元，45日总消费额为19633.920元\n",
      "\t7日平均消费金额为29.391元，7日总消费额为2321.890元\n",
      "\t7日消费金额占比0.404%，45日消费金额占比1.010%\n",
      "一周在线时长超过1000分钟\n",
      "\t45日平均消费金额为89.975元，45日总消费额为3329.090元\n",
      "\t7日平均消费金额为20.118元，7日总消费额为744.350元\n",
      "\t7日消费金额占比0.130%，45日消费金额占比0.171%\n",
      "一周在线时长超过1200分钟\n",
      "\t45日平均消费金额为5.084元，45日总消费额为50.840元\n",
      "\t7日平均消费金额为4.585元，7日总消费额为45.850元\n",
      "\t7日消费金额占比0.008%，45日消费金额占比0.003%\n"
     ]
    }
   ],
   "source": [
    "print('''最肝的前0.5%的玩家消费金额：''')\n",
    "for playtime in [500,600,700,800,900,1000,1200]:    \n",
    "    MeanPay45 = data.loc[data[\"在线时长\"]>=playtime,\"45日付费金额\"].mean()\n",
    "    TotalPay45 = data.loc[data[\"在线时长\"]>=playtime,\"45日付费金额\"].sum()\n",
    "    MeanPay7 = data.loc[data[\"在线时长\"]>=playtime,\"付费金额\"].mean()\n",
    "    TotalPay7 = data.loc[data[\"在线时长\"]>=playtime,\"付费金额\"].sum()    \n",
    "    print(\"一周在线时长超过{}分钟\".format(playtime))\n",
    "    print(\"\\t45日平均消费金额为{:.3f}元，45日总消费额为{:.3f}元\".format(MeanPay45,TotalPay45))\n",
    "    print(\"\\t7日平均消费金额为{:.3f}元，7日总消费额为{:.3f}元\".format(MeanPay7,TotalPay7))\n",
    "    print(\"\\t7日消费金额占比{:.3f}%，45日消费金额占比{:.3f}%\".format(100*TotalPay7/(data[\"付费金额\"].sum()),100*TotalPay45/(data[\"45日付费金额\"].sum())))"
   ]
  },
  {
   "cell_type": "markdown",
   "id": "eda98a63",
   "metadata": {},
   "source": [
    "- 在线时长在800分钟时，出现了，45日消费金额占比的下降！所以可以有以下结论：\n",
    "> 1. 许多玩家虽然深度参与游戏，但是“好肝不好氪”，所以过于肝的用户也不是高价值玩家用户。\n",
    "> 2. 可以规定，一周在线时长超出800分钟的用户为（消费层面）低价值用户。\n",
    "> 3. 同样的，消费金额用户一般在资源上占绝对的主导，但是资源很多的用户不一定是高消费用户。"
   ]
  },
  {
   "cell_type": "code",
   "execution_count": 41,
   "id": "31ff5aee",
   "metadata": {},
   "outputs": [
    {
     "data": {
      "text/plain": [
       "count        19126.000\n",
       "mean      10645082.747\n",
       "std       35500161.935\n",
       "min              0.000\n",
       "25%        1939751.250\n",
       "50%        5012212.500\n",
       "75%       10030185.250\n",
       "max     1203395293.000\n",
       "Name: 木头获取数量, dtype: float64"
      ]
     },
     "execution_count": 41,
     "metadata": {},
     "output_type": "execute_result"
    }
   ],
   "source": [
    "data.loc[data[\"付费金额\"] != 0,\"木头获取数量\"].describe() #资源量上消费玩家站占据大多数江山！\n",
    "# data.loc[data[\"付费金额\"] == 0,\"木头获取数量\"].describe() #未消费玩家的量级明显要低很多！"
   ]
  },
  {
   "cell_type": "code",
   "execution_count": 42,
   "id": "8e81738e",
   "metadata": {},
   "outputs": [
    {
     "data": {
      "text/plain": [
       "count     1029449.000\n",
       "mean       256854.741\n",
       "std        861896.167\n",
       "min             0.000\n",
       "25%             0.000\n",
       "50%         38538.000\n",
       "75%        142013.000\n",
       "max     100740415.000\n",
       "Name: 木头获取数量, dtype: float64"
      ]
     },
     "execution_count": 42,
     "metadata": {},
     "output_type": "execute_result"
    }
   ],
   "source": [
    "data.loc[data[\"付费金额\"] == 0,\"木头获取数量\"].describe()"
   ]
  },
  {
   "cell_type": "code",
   "execution_count": 43,
   "id": "104aa8af",
   "metadata": {},
   "outputs": [
    {
     "name": "stdout",
     "output_type": "stream",
     "text": [
      "未消费的，并且垄断木头资源的某个玩家！！！——可能两种倾向；一是资源专精技术型玩家，二是异常刷资源型玩家！\n"
     ]
    },
    {
     "data": {
      "text/html": [
       "<div>\n",
       "<style scoped>\n",
       "    .dataframe tbody tr th:only-of-type {\n",
       "        vertical-align: middle;\n",
       "    }\n",
       "\n",
       "    .dataframe tbody tr th {\n",
       "        vertical-align: top;\n",
       "    }\n",
       "\n",
       "    .dataframe thead th {\n",
       "        text-align: right;\n",
       "    }\n",
       "</style>\n",
       "<table border=\"1\" class=\"dataframe\">\n",
       "  <thead>\n",
       "    <tr style=\"text-align: right;\">\n",
       "      <th>字段解释</th>\n",
       "      <th>玩家唯一ID</th>\n",
       "      <th>玩家注册时间</th>\n",
       "      <th>木头获取数量</th>\n",
       "      <th>木头消耗数量</th>\n",
       "      <th>石头获取数量</th>\n",
       "      <th>石头消耗数量</th>\n",
       "      <th>象牙获取数量</th>\n",
       "      <th>象牙消耗数量</th>\n",
       "      <th>肉获取数量</th>\n",
       "      <th>肉消耗数量</th>\n",
       "      <th>...</th>\n",
       "      <th>PVP次数</th>\n",
       "      <th>主动发起PVP次数</th>\n",
       "      <th>PVP胜利次数</th>\n",
       "      <th>PVE次数</th>\n",
       "      <th>主动发起PVE次数</th>\n",
       "      <th>PVE胜利次数</th>\n",
       "      <th>在线时长</th>\n",
       "      <th>付费金额</th>\n",
       "      <th>付费次数</th>\n",
       "      <th>45日付费金额</th>\n",
       "    </tr>\n",
       "  </thead>\n",
       "  <tbody>\n",
       "    <tr>\n",
       "      <th>265134</th>\n",
       "      <td>301615</td>\n",
       "      <td>2018/2/24 6:16</td>\n",
       "      <td>100740415</td>\n",
       "      <td>99888330</td>\n",
       "      <td>57366294</td>\n",
       "      <td>56791340</td>\n",
       "      <td>40000</td>\n",
       "      <td>0</td>\n",
       "      <td>71963120</td>\n",
       "      <td>71346424</td>\n",
       "      <td>...</td>\n",
       "      <td>173</td>\n",
       "      <td>1</td>\n",
       "      <td>1</td>\n",
       "      <td>1</td>\n",
       "      <td>0</td>\n",
       "      <td>0</td>\n",
       "      <td>25.667</td>\n",
       "      <td>0.000</td>\n",
       "      <td>0</td>\n",
       "      <td>0.000</td>\n",
       "    </tr>\n",
       "  </tbody>\n",
       "</table>\n",
       "<p>1 rows × 109 columns</p>\n",
       "</div>"
      ],
      "text/plain": [
       "字段解释    玩家唯一ID          玩家注册时间     木头获取数量    木头消耗数量    石头获取数量    石头消耗数量  \\\n",
       "265134  301615  2018/2/24 6:16  100740415  99888330  57366294  56791340   \n",
       "\n",
       "字段解释    象牙获取数量  象牙消耗数量     肉获取数量     肉消耗数量  ...  PVP次数  主动发起PVP次数  PVP胜利次数  \\\n",
       "265134   40000       0  71963120  71346424  ...    173          1        1   \n",
       "\n",
       "字段解释    PVE次数  主动发起PVE次数  PVE胜利次数   在线时长  付费金额  付费次数  45日付费金额  \n",
       "265134      1          0        0 25.667 0.000     0    0.000  \n",
       "\n",
       "[1 rows x 109 columns]"
      ]
     },
     "execution_count": 43,
     "metadata": {},
     "output_type": "execute_result"
    }
   ],
   "source": [
    "print(\"未消费的，并且垄断木头资源的某个玩家！！！——可能两种倾向；一是资源专精技术型玩家，二是异常刷资源型玩家！\")\n",
    "data[data[\"木头获取数量\"] == data.loc[data[\"付费金额\"] == 0,\"木头获取数量\"].max()] \n"
   ]
  },
  {
   "cell_type": "markdown",
   "id": "c2052c43",
   "metadata": {},
   "source": [
    "- 因此可能在一定程度上认为：拥有众多资源、但在7日内却没有消费过的玩家，是（是否消费层面上）的低价值用户玩家。"
   ]
  },
  {
   "cell_type": "markdown",
   "id": "6e857519",
   "metadata": {},
   "source": [
    "    ### S3.一些资源特征的分布与偏度：是否对新手玩家友好？新手玩家资源获取难度设置合理吗？"
   ]
  },
  {
   "cell_type": "code",
   "execution_count": 44,
   "id": "c3923386",
   "metadata": {},
   "outputs": [
    {
     "name": "stdout",
     "output_type": "stream",
     "text": [
      "再重新看一下所有数据的描述性结果！！！！！！\n"
     ]
    },
    {
     "data": {
      "text/html": [
       "<div>\n",
       "<style scoped>\n",
       "    .dataframe tbody tr th:only-of-type {\n",
       "        vertical-align: middle;\n",
       "    }\n",
       "\n",
       "    .dataframe tbody tr th {\n",
       "        vertical-align: top;\n",
       "    }\n",
       "\n",
       "    .dataframe thead th {\n",
       "        text-align: right;\n",
       "    }\n",
       "</style>\n",
       "<table border=\"1\" class=\"dataframe\">\n",
       "  <thead>\n",
       "    <tr style=\"text-align: right;\">\n",
       "      <th></th>\n",
       "      <th>字段解释</th>\n",
       "      <th>count</th>\n",
       "      <th>mean</th>\n",
       "      <th>std</th>\n",
       "      <th>min</th>\n",
       "      <th>25%</th>\n",
       "      <th>50%</th>\n",
       "      <th>75%</th>\n",
       "      <th>90%</th>\n",
       "      <th>99%</th>\n",
       "      <th>max</th>\n",
       "    </tr>\n",
       "  </thead>\n",
       "  <tbody>\n",
       "    <tr>\n",
       "      <th>0</th>\n",
       "      <td>玩家唯一ID</td>\n",
       "      <td>1048575.000</td>\n",
       "      <td>661162.054</td>\n",
       "      <td>380865.884</td>\n",
       "      <td>1.000</td>\n",
       "      <td>298624.500</td>\n",
       "      <td>682935.000</td>\n",
       "      <td>1005461.500</td>\n",
       "      <td>1169794.600</td>\n",
       "      <td>1285334.260</td>\n",
       "      <td>1313932.000</td>\n",
       "    </tr>\n",
       "    <tr>\n",
       "      <th>1</th>\n",
       "      <td>木头获取数量</td>\n",
       "      <td>1048575.000</td>\n",
       "      <td>446335.941</td>\n",
       "      <td>5064362.536</td>\n",
       "      <td>0.000</td>\n",
       "      <td>0.000</td>\n",
       "      <td>39129.000</td>\n",
       "      <td>149892.500</td>\n",
       "      <td>606875.200</td>\n",
       "      <td>7298399.560</td>\n",
       "      <td>1203395293.000</td>\n",
       "    </tr>\n",
       "    <tr>\n",
       "      <th>2</th>\n",
       "      <td>木头消耗数量</td>\n",
       "      <td>1048575.000</td>\n",
       "      <td>363509.370</td>\n",
       "      <td>3824456.251</td>\n",
       "      <td>0.000</td>\n",
       "      <td>0.000</td>\n",
       "      <td>8830.000</td>\n",
       "      <td>96996.000</td>\n",
       "      <td>416687.200</td>\n",
       "      <td>6684409.900</td>\n",
       "      <td>799587506.000</td>\n",
       "    </tr>\n",
       "    <tr>\n",
       "      <th>3</th>\n",
       "      <td>石头获取数量</td>\n",
       "      <td>1048575.000</td>\n",
       "      <td>189901.660</td>\n",
       "      <td>4840094.044</td>\n",
       "      <td>0.000</td>\n",
       "      <td>0.000</td>\n",
       "      <td>0.000</td>\n",
       "      <td>0.000</td>\n",
       "      <td>20000.000</td>\n",
       "      <td>3259000.260</td>\n",
       "      <td>1185764691.000</td>\n",
       "    </tr>\n",
       "    <tr>\n",
       "      <th>4</th>\n",
       "      <td>石头消耗数量</td>\n",
       "      <td>1048575.000</td>\n",
       "      <td>138534.841</td>\n",
       "      <td>3526253.804</td>\n",
       "      <td>0.000</td>\n",
       "      <td>0.000</td>\n",
       "      <td>0.000</td>\n",
       "      <td>0.000</td>\n",
       "      <td>0.000</td>\n",
       "      <td>2686411.640</td>\n",
       "      <td>796237770.000</td>\n",
       "    </tr>\n",
       "    <tr>\n",
       "      <th>...</th>\n",
       "      <td>...</td>\n",
       "      <td>...</td>\n",
       "      <td>...</td>\n",
       "      <td>...</td>\n",
       "      <td>...</td>\n",
       "      <td>...</td>\n",
       "      <td>...</td>\n",
       "      <td>...</td>\n",
       "      <td>...</td>\n",
       "      <td>...</td>\n",
       "      <td>...</td>\n",
       "    </tr>\n",
       "    <tr>\n",
       "      <th>103</th>\n",
       "      <td>PVE胜利次数</td>\n",
       "      <td>1048575.000</td>\n",
       "      <td>2.482</td>\n",
       "      <td>11.687</td>\n",
       "      <td>0.000</td>\n",
       "      <td>0.000</td>\n",
       "      <td>0.000</td>\n",
       "      <td>1.000</td>\n",
       "      <td>3.000</td>\n",
       "      <td>62.000</td>\n",
       "      <td>373.000</td>\n",
       "    </tr>\n",
       "    <tr>\n",
       "      <th>104</th>\n",
       "      <td>在线时长</td>\n",
       "      <td>1048575.000</td>\n",
       "      <td>10.245</td>\n",
       "      <td>39.098</td>\n",
       "      <td>0.000</td>\n",
       "      <td>0.500</td>\n",
       "      <td>1.833</td>\n",
       "      <td>5.000</td>\n",
       "      <td>14.833</td>\n",
       "      <td>183.710</td>\n",
       "      <td>2049.667</td>\n",
       "    </tr>\n",
       "    <tr>\n",
       "      <th>105</th>\n",
       "      <td>付费金额</td>\n",
       "      <td>1048575.000</td>\n",
       "      <td>0.548</td>\n",
       "      <td>23.517</td>\n",
       "      <td>0.000</td>\n",
       "      <td>0.000</td>\n",
       "      <td>0.000</td>\n",
       "      <td>0.000</td>\n",
       "      <td>0.000</td>\n",
       "      <td>1.980</td>\n",
       "      <td>7457.950</td>\n",
       "    </tr>\n",
       "    <tr>\n",
       "      <th>106</th>\n",
       "      <td>付费次数</td>\n",
       "      <td>1048575.000</td>\n",
       "      <td>0.058</td>\n",
       "      <td>0.720</td>\n",
       "      <td>0.000</td>\n",
       "      <td>0.000</td>\n",
       "      <td>0.000</td>\n",
       "      <td>0.000</td>\n",
       "      <td>0.000</td>\n",
       "      <td>2.000</td>\n",
       "      <td>105.000</td>\n",
       "    </tr>\n",
       "    <tr>\n",
       "      <th>107</th>\n",
       "      <td>45日付费金额</td>\n",
       "      <td>1048575.000</td>\n",
       "      <td>1.855</td>\n",
       "      <td>95.869</td>\n",
       "      <td>0.000</td>\n",
       "      <td>0.000</td>\n",
       "      <td>0.000</td>\n",
       "      <td>0.000</td>\n",
       "      <td>0.000</td>\n",
       "      <td>3.970</td>\n",
       "      <td>32977.810</td>\n",
       "    </tr>\n",
       "  </tbody>\n",
       "</table>\n",
       "<p>108 rows × 11 columns</p>\n",
       "</div>"
      ],
      "text/plain": [
       "        字段解释       count       mean         std   min        25%        50%  \\\n",
       "0     玩家唯一ID 1048575.000 661162.054  380865.884 1.000 298624.500 682935.000   \n",
       "1     木头获取数量 1048575.000 446335.941 5064362.536 0.000      0.000  39129.000   \n",
       "2     木头消耗数量 1048575.000 363509.370 3824456.251 0.000      0.000   8830.000   \n",
       "3     石头获取数量 1048575.000 189901.660 4840094.044 0.000      0.000      0.000   \n",
       "4     石头消耗数量 1048575.000 138534.841 3526253.804 0.000      0.000      0.000   \n",
       "..       ...         ...        ...         ...   ...        ...        ...   \n",
       "103  PVE胜利次数 1048575.000      2.482      11.687 0.000      0.000      0.000   \n",
       "104     在线时长 1048575.000     10.245      39.098 0.000      0.500      1.833   \n",
       "105     付费金额 1048575.000      0.548      23.517 0.000      0.000      0.000   \n",
       "106     付费次数 1048575.000      0.058       0.720 0.000      0.000      0.000   \n",
       "107  45日付费金额 1048575.000      1.855      95.869 0.000      0.000      0.000   \n",
       "\n",
       "            75%         90%         99%            max  \n",
       "0   1005461.500 1169794.600 1285334.260    1313932.000  \n",
       "1    149892.500  606875.200 7298399.560 1203395293.000  \n",
       "2     96996.000  416687.200 6684409.900  799587506.000  \n",
       "3         0.000   20000.000 3259000.260 1185764691.000  \n",
       "4         0.000       0.000 2686411.640  796237770.000  \n",
       "..          ...         ...         ...            ...  \n",
       "103       1.000       3.000      62.000        373.000  \n",
       "104       5.000      14.833     183.710       2049.667  \n",
       "105       0.000       0.000       1.980       7457.950  \n",
       "106       0.000       0.000       2.000        105.000  \n",
       "107       0.000       0.000       3.970      32977.810  \n",
       "\n",
       "[108 rows x 11 columns]"
      ]
     },
     "execution_count": 44,
     "metadata": {},
     "output_type": "execute_result"
    }
   ],
   "source": [
    "print(\"再重新看一下所有数据的描述性结果！！！！！！\")\n",
    "all_data_info = data.describe([0.25, 0.5, 0.75, 0.9, 0.99]).T\n",
    "all_data_info = all_data_info.reset_index()\n",
    "all_data_info"
   ]
  },
  {
   "cell_type": "code",
   "execution_count": 45,
   "id": "f7d2f78b",
   "metadata": {},
   "outputs": [
    {
     "data": {
      "text/plain": [
       "(Index(['字段解释', 'count', 'mean', 'std', 'min', '25%', '50%', '75%', '90%',\n",
       "        '99%', 'max'],\n",
       "       dtype='object'),\n",
       " 0    玩家唯一ID\n",
       " 1    木头获取数量\n",
       " 2    木头消耗数量\n",
       " 3    石头获取数量\n",
       " 4    石头消耗数量\n",
       " Name: 字段解释, dtype: object)"
      ]
     },
     "execution_count": 45,
     "metadata": {},
     "output_type": "execute_result"
    }
   ],
   "source": [
    "all_data_info.columns,all_data_info[\"字段解释\"].head()"
   ]
  },
  {
   "cell_type": "code",
   "execution_count": 46,
   "id": "48c039ff",
   "metadata": {
    "scrolled": false
   },
   "outputs": [
    {
     "data": {
      "text/html": [
       "<div>\n",
       "<style scoped>\n",
       "    .dataframe tbody tr th:only-of-type {\n",
       "        vertical-align: middle;\n",
       "    }\n",
       "\n",
       "    .dataframe tbody tr th {\n",
       "        vertical-align: top;\n",
       "    }\n",
       "\n",
       "    .dataframe thead th {\n",
       "        text-align: right;\n",
       "    }\n",
       "</style>\n",
       "<table border=\"1\" class=\"dataframe\">\n",
       "  <thead>\n",
       "    <tr style=\"text-align: right;\">\n",
       "      <th></th>\n",
       "      <th>该特征中位数</th>\n",
       "      <th>该特征均值</th>\n",
       "      <th>偏态情况</th>\n",
       "    </tr>\n",
       "  </thead>\n",
       "  <tbody>\n",
       "    <tr>\n",
       "      <th>木头获取数量</th>\n",
       "      <td>39129.000</td>\n",
       "      <td>446335.941</td>\n",
       "      <td>右偏分布</td>\n",
       "    </tr>\n",
       "    <tr>\n",
       "      <th>木头消耗数量</th>\n",
       "      <td>8830.000</td>\n",
       "      <td>363509.370</td>\n",
       "      <td>右偏分布</td>\n",
       "    </tr>\n",
       "    <tr>\n",
       "      <th>石头获取数量</th>\n",
       "      <td>0.000</td>\n",
       "      <td>189901.660</td>\n",
       "      <td>右偏分布</td>\n",
       "    </tr>\n",
       "    <tr>\n",
       "      <th>石头消耗数量</th>\n",
       "      <td>0.000</td>\n",
       "      <td>138534.841</td>\n",
       "      <td>右偏分布</td>\n",
       "    </tr>\n",
       "    <tr>\n",
       "      <th>象牙获取数量</th>\n",
       "      <td>0.000</td>\n",
       "      <td>80551.224</td>\n",
       "      <td>右偏分布</td>\n",
       "    </tr>\n",
       "    <tr>\n",
       "      <th>...</th>\n",
       "      <td>...</td>\n",
       "      <td>...</td>\n",
       "      <td>...</td>\n",
       "    </tr>\n",
       "    <tr>\n",
       "      <th>PVE胜利次数</th>\n",
       "      <td>0.000</td>\n",
       "      <td>2.482</td>\n",
       "      <td>右偏分布</td>\n",
       "    </tr>\n",
       "    <tr>\n",
       "      <th>在线时长</th>\n",
       "      <td>1.833</td>\n",
       "      <td>10.245</td>\n",
       "      <td>右偏分布</td>\n",
       "    </tr>\n",
       "    <tr>\n",
       "      <th>付费金额</th>\n",
       "      <td>0.000</td>\n",
       "      <td>0.548</td>\n",
       "      <td>右偏分布</td>\n",
       "    </tr>\n",
       "    <tr>\n",
       "      <th>付费次数</th>\n",
       "      <td>0.000</td>\n",
       "      <td>0.058</td>\n",
       "      <td>右偏分布</td>\n",
       "    </tr>\n",
       "    <tr>\n",
       "      <th>45日付费金额</th>\n",
       "      <td>0.000</td>\n",
       "      <td>1.855</td>\n",
       "      <td>右偏分布</td>\n",
       "    </tr>\n",
       "  </tbody>\n",
       "</table>\n",
       "<p>107 rows × 3 columns</p>\n",
       "</div>"
      ],
      "text/plain": [
       "           该特征中位数      该特征均值  偏态情况\n",
       "木头获取数量  39129.000 446335.941  右偏分布\n",
       "木头消耗数量   8830.000 363509.370  右偏分布\n",
       "石头获取数量      0.000 189901.660  右偏分布\n",
       "石头消耗数量      0.000 138534.841  右偏分布\n",
       "象牙获取数量      0.000  80551.224  右偏分布\n",
       "...           ...        ...   ...\n",
       "PVE胜利次数     0.000      2.482  右偏分布\n",
       "在线时长        1.833     10.245  右偏分布\n",
       "付费金额        0.000      0.548  右偏分布\n",
       "付费次数        0.000      0.058  右偏分布\n",
       "45日付费金额     0.000      1.855  右偏分布\n",
       "\n",
       "[107 rows x 3 columns]"
      ]
     },
     "execution_count": 46,
     "metadata": {},
     "output_type": "execute_result"
    }
   ],
   "source": [
    "all_feature_skewness = pd.DataFrame()\n",
    "for feature in all_data_info[\"字段解释\"]:\n",
    "    if feature == \"玩家唯一ID\":\n",
    "        continue\n",
    "    else :\n",
    "        all_feature_skewness.loc[feature, \"该特征中位数\"] = float(all_data_info.loc[all_data_info[\"字段解释\"] == feature][\"50%\"])\n",
    "        all_feature_skewness.loc[feature, \"该特征均值\"]   = float(all_data_info.loc[all_data_info[\"字段解释\"] == feature][\"mean\"])\n",
    "def function(df):\n",
    "    if   df['该特征中位数'] > df['该特征均值']:\n",
    "        return '左偏分布'\n",
    "    elif df['该特征中位数'] < df['该特征均值']:\n",
    "        return '右偏分布'\n",
    "    else :\n",
    "        return '对称分布'\n",
    "all_feature_skewness[\"偏态情况\"] = all_feature_skewness.apply(function, axis=1)\n",
    "all_feature_skewness"
   ]
  },
  {
   "cell_type": "markdown",
   "id": "bdff443e",
   "metadata": {},
   "source": [
    "- **数据基本呈现右偏，说明游戏中拥有大量资源人较少，因为相比起中位数，大部分玩家来说在资源/等级上都值离0更近**。\n",
    "- 现在已经知道玩家在前7天是严重流失的，资源分布会右偏也合理，但为何玩家会流失如此严重呢？可能从流量端开始就有问题（比如投放到了不太合适的流量渠道）、投放的广告可能有问题（比如让玩家误以为是其他类型游戏），也可能是游戏美工不足、吸引力较低等方面（在75%的玩家看一眼就被劝退的前提下，有理由相信游戏美工和流畅度有较大问题）。\n",
    "- 除了上述理由，玩家用户大量流失还可能是游戏对新手不太友好或者游戏平衡性严重受氪金影响导致的。如果游戏中资源获取很困难，比如大部分资源都需要较长的时间或高额消费来进行积累（这可能是刺激消费的策略：新手阶段不友好，游戏上手难度大），大部分玩家在10~15分钟内无法获得足够的刺激与获得感，那在半小时内流失的可能性就很高。\n",
    "- 可以通过尝试着观察几个资源层次的平均游戏时间，以此来判断游戏中的资源是否难以获得："
   ]
  },
  {
   "cell_type": "markdown",
   "id": "38e9ad31",
   "metadata": {},
   "source": [
    "    ### S3.具体某个特征为例看一下获取难度"
   ]
  },
  {
   "cell_type": "code",
   "execution_count": 47,
   "id": "8e34e621",
   "metadata": {},
   "outputs": [
    {
     "data": {
      "text/plain": [
       "count      1048575.000\n",
       "mean        446335.941\n",
       "std        5064362.536\n",
       "min              0.000\n",
       "25%              0.000\n",
       "50%          39129.000\n",
       "75%         149892.500\n",
       "max     1203395293.000\n",
       "Name: 木头获取数量, dtype: float64"
      ]
     },
     "execution_count": 47,
     "metadata": {},
     "output_type": "execute_result"
    }
   ],
   "source": [
    "data[\"木头获取数量\"].describe()"
   ]
  },
  {
   "cell_type": "code",
   "execution_count": 48,
   "id": "bf04f30f",
   "metadata": {},
   "outputs": [
    {
     "name": "stdout",
     "output_type": "stream",
     "text": [
      "在线时长约5个小时，即每天玩1个小时不到，一周即可获得木头资源过亿！\n"
     ]
    },
    {
     "data": {
      "text/plain": [
       "428443   307.000\n",
       "Name: 在线时长, dtype: float64"
      ]
     },
     "execution_count": 48,
     "metadata": {},
     "output_type": "execute_result"
    }
   ],
   "source": [
    "print(\"在线时长约5个小时，即每天玩1个小时不到，一周即可获得木头资源过亿！\")\n",
    "data.loc[data[\"木头获取数量\"] >= 1203395293,\"在线时长\"] "
   ]
  },
  {
   "cell_type": "code",
   "execution_count": 49,
   "id": "2d5d0516",
   "metadata": {},
   "outputs": [
    {
     "name": "stdout",
     "output_type": "stream",
     "text": [
      "平均在线约4分钟即可获得15w木头\n"
     ]
    },
    {
     "data": {
      "text/plain": [
       "4.0"
      ]
     },
     "execution_count": 49,
     "metadata": {},
     "output_type": "execute_result"
    }
   ],
   "source": [
    "print(\"平均在线约4分钟即可获得15w木头\")\n",
    "data.loc[data[\"木头获取数量\"] == 149892,\"在线时长\"].mean()"
   ]
  },
  {
   "cell_type": "code",
   "execution_count": 50,
   "id": "0f1c4c8b",
   "metadata": {},
   "outputs": [
    {
     "name": "stdout",
     "output_type": "stream",
     "text": [
      "平均在线0.79分钟即可获得3.9w木头\n"
     ]
    },
    {
     "data": {
      "text/plain": [
       "0.7916665"
      ]
     },
     "execution_count": 50,
     "metadata": {},
     "output_type": "execute_result"
    }
   ],
   "source": [
    "print(\"平均在线0.79分钟即可获得3.9w木头\")\n",
    "data.loc[data[\"木头获取数量\"] == 39129,\"在线时长\"].mean() "
   ]
  },
  {
   "cell_type": "markdown",
   "id": "7019c5df",
   "metadata": {},
   "source": [
    "- 从结果来看，至少木头资源一点也不难获得，反而来得太容易了。\n",
    "- 在现有数据下，可以通过分析资源存量来分析游戏中资源获取难度分类的合理性。"
   ]
  },
  {
   "cell_type": "markdown",
   "id": "0f8174a0",
   "metadata": {},
   "source": [
    "    ### S4.所有特征的偏度峰度分析！"
   ]
  },
  {
   "cell_type": "code",
   "execution_count": 51,
   "id": "1c06d617",
   "metadata": {},
   "outputs": [
    {
     "name": "stdout",
     "output_type": "stream",
     "text": [
      "取出所有和资源相关的特征！并计算偏度峰度！\n"
     ]
    },
    {
     "data": {
      "text/html": [
       "<div>\n",
       "<style scoped>\n",
       "    .dataframe tbody tr th:only-of-type {\n",
       "        vertical-align: middle;\n",
       "    }\n",
       "\n",
       "    .dataframe tbody tr th {\n",
       "        vertical-align: top;\n",
       "    }\n",
       "\n",
       "    .dataframe thead th {\n",
       "        text-align: right;\n",
       "    }\n",
       "</style>\n",
       "<table border=\"1\" class=\"dataframe\">\n",
       "  <thead>\n",
       "    <tr style=\"text-align: right;\">\n",
       "      <th></th>\n",
       "      <th>特征</th>\n",
       "      <th>偏度</th>\n",
       "      <th>峰度</th>\n",
       "      <th>均值</th>\n",
       "    </tr>\n",
       "  </thead>\n",
       "  <tbody>\n",
       "    <tr>\n",
       "      <th>0</th>\n",
       "      <td>木头获取数量</td>\n",
       "      <td>98.120</td>\n",
       "      <td>14286.104</td>\n",
       "      <td>446335.941</td>\n",
       "    </tr>\n",
       "    <tr>\n",
       "      <th>1</th>\n",
       "      <td>木头消耗数量</td>\n",
       "      <td>89.489</td>\n",
       "      <td>12238.901</td>\n",
       "      <td>363509.370</td>\n",
       "    </tr>\n",
       "    <tr>\n",
       "      <th>2</th>\n",
       "      <td>石头获取数量</td>\n",
       "      <td>112.644</td>\n",
       "      <td>17743.225</td>\n",
       "      <td>189901.660</td>\n",
       "    </tr>\n",
       "    <tr>\n",
       "      <th>3</th>\n",
       "      <td>石头消耗数量</td>\n",
       "      <td>110.304</td>\n",
       "      <td>17092.687</td>\n",
       "      <td>138534.841</td>\n",
       "    </tr>\n",
       "    <tr>\n",
       "      <th>4</th>\n",
       "      <td>象牙获取数量</td>\n",
       "      <td>109.728</td>\n",
       "      <td>16293.306</td>\n",
       "      <td>80551.224</td>\n",
       "    </tr>\n",
       "  </tbody>\n",
       "</table>\n",
       "</div>"
      ],
      "text/plain": [
       "       特征      偏度        峰度         均值\n",
       "0  木头获取数量  98.120 14286.104 446335.941\n",
       "1  木头消耗数量  89.489 12238.901 363509.370\n",
       "2  石头获取数量 112.644 17743.225 189901.660\n",
       "3  石头消耗数量 110.304 17092.687 138534.841\n",
       "4  象牙获取数量 109.728 16293.306  80551.224"
      ]
     },
     "execution_count": 51,
     "metadata": {},
     "output_type": "execute_result"
    }
   ],
   "source": [
    "print(\"取出所有和资源相关的特征！并计算偏度峰度！\")\n",
    "resource = data.iloc[:,2:-10]\n",
    "sak = pd.DataFrame()\n",
    "for idx,ColName in enumerate(resource.columns):\n",
    "    sak.loc[idx,\"特征\"] = ColName\n",
    "    column = data.loc[:,ColName]\n",
    "    sak.loc[idx,\"偏度\"] = column.skew() #偏度\n",
    "    sak.loc[idx,\"峰度\"] = column.kurt() #峰度\n",
    "    sak.loc[idx,\"均值\"] = column.mean() #均值\n",
    "sak.head()"
   ]
  },
  {
   "cell_type": "code",
   "execution_count": 52,
   "id": "3470c47e",
   "metadata": {},
   "outputs": [
    {
     "name": "stdout",
     "output_type": "stream",
     "text": [
      "按照偏度降序排列！\n"
     ]
    },
    {
     "data": {
      "text/html": [
       "<div>\n",
       "<style scoped>\n",
       "    .dataframe tbody tr th:only-of-type {\n",
       "        vertical-align: middle;\n",
       "    }\n",
       "\n",
       "    .dataframe tbody tr th {\n",
       "        vertical-align: top;\n",
       "    }\n",
       "\n",
       "    .dataframe thead th {\n",
       "        text-align: right;\n",
       "    }\n",
       "</style>\n",
       "<table border=\"1\" class=\"dataframe\">\n",
       "  <thead>\n",
       "    <tr style=\"text-align: right;\">\n",
       "      <th></th>\n",
       "      <th>特征</th>\n",
       "      <th>偏度</th>\n",
       "      <th>峰度</th>\n",
       "      <th>均值</th>\n",
       "    </tr>\n",
       "  </thead>\n",
       "  <tbody>\n",
       "    <tr>\n",
       "      <th>96</th>\n",
       "      <td>科研：资源帮助容量</td>\n",
       "      <td>0.000</td>\n",
       "      <td>0.000</td>\n",
       "      <td>0.000</td>\n",
       "    </tr>\n",
       "    <tr>\n",
       "      <th>94</th>\n",
       "      <td>科研：增援部队容量</td>\n",
       "      <td>0.000</td>\n",
       "      <td>0.000</td>\n",
       "      <td>0.000</td>\n",
       "    </tr>\n",
       "    <tr>\n",
       "      <th>95</th>\n",
       "      <td>科研：行军大小</td>\n",
       "      <td>0.000</td>\n",
       "      <td>0.000</td>\n",
       "      <td>0.000</td>\n",
       "    </tr>\n",
       "    <tr>\n",
       "      <th>34</th>\n",
       "      <td>建筑：要塞等级</td>\n",
       "      <td>1.247</td>\n",
       "      <td>0.986</td>\n",
       "      <td>2.059</td>\n",
       "    </tr>\n",
       "    <tr>\n",
       "      <th>35</th>\n",
       "      <td>建筑：据点传送门等级</td>\n",
       "      <td>1.402</td>\n",
       "      <td>1.503</td>\n",
       "      <td>1.735</td>\n",
       "    </tr>\n",
       "    <tr>\n",
       "      <th>32</th>\n",
       "      <td>建筑：士兵小屋等级</td>\n",
       "      <td>1.904</td>\n",
       "      <td>3.433</td>\n",
       "      <td>1.277</td>\n",
       "    </tr>\n",
       "    <tr>\n",
       "      <th>42</th>\n",
       "      <td>建筑：魔法幸运树等级</td>\n",
       "      <td>2.057</td>\n",
       "      <td>3.400</td>\n",
       "      <td>1.134</td>\n",
       "    </tr>\n",
       "    <tr>\n",
       "      <th>36</th>\n",
       "      <td>建筑：兵营等级</td>\n",
       "      <td>2.156</td>\n",
       "      <td>4.531</td>\n",
       "      <td>1.244</td>\n",
       "    </tr>\n",
       "    <tr>\n",
       "      <th>33</th>\n",
       "      <td>建筑：治疗小井等级</td>\n",
       "      <td>2.215</td>\n",
       "      <td>4.696</td>\n",
       "      <td>1.003</td>\n",
       "    </tr>\n",
       "    <tr>\n",
       "      <th>41</th>\n",
       "      <td>建筑：瞭望塔等级</td>\n",
       "      <td>2.471</td>\n",
       "      <td>5.958</td>\n",
       "      <td>0.882</td>\n",
       "    </tr>\n",
       "    <tr>\n",
       "      <th>37</th>\n",
       "      <td>建筑：治疗之泉等级</td>\n",
       "      <td>2.495</td>\n",
       "      <td>5.994</td>\n",
       "      <td>0.894</td>\n",
       "    </tr>\n",
       "    <tr>\n",
       "      <th>40</th>\n",
       "      <td>建筑：仓库等级</td>\n",
       "      <td>2.516</td>\n",
       "      <td>5.773</td>\n",
       "      <td>0.910</td>\n",
       "    </tr>\n",
       "    <tr>\n",
       "      <th>38</th>\n",
       "      <td>建筑：智慧神庙等级</td>\n",
       "      <td>2.520</td>\n",
       "      <td>6.039</td>\n",
       "      <td>0.957</td>\n",
       "    </tr>\n",
       "    <tr>\n",
       "      <th>44</th>\n",
       "      <td>建筑：联盟货车等级</td>\n",
       "      <td>2.761</td>\n",
       "      <td>7.383</td>\n",
       "      <td>0.759</td>\n",
       "    </tr>\n",
       "    <tr>\n",
       "      <th>48</th>\n",
       "      <td>科研：侦查等级</td>\n",
       "      <td>2.957</td>\n",
       "      <td>10.945</td>\n",
       "      <td>0.325</td>\n",
       "    </tr>\n",
       "    <tr>\n",
       "      <th>49</th>\n",
       "      <td>科研：训练速度等级</td>\n",
       "      <td>3.881</td>\n",
       "      <td>15.168</td>\n",
       "      <td>0.291</td>\n",
       "    </tr>\n",
       "    <tr>\n",
       "      <th>39</th>\n",
       "      <td>建筑：联盟大厅等级</td>\n",
       "      <td>4.074</td>\n",
       "      <td>16.281</td>\n",
       "      <td>0.430</td>\n",
       "    </tr>\n",
       "    <tr>\n",
       "      <th>85</th>\n",
       "      <td>科研：据点二</td>\n",
       "      <td>4.509</td>\n",
       "      <td>18.330</td>\n",
       "      <td>0.043</td>\n",
       "    </tr>\n",
       "    <tr>\n",
       "      <th>47</th>\n",
       "      <td>建筑：冒险传送门等级</td>\n",
       "      <td>5.072</td>\n",
       "      <td>26.553</td>\n",
       "      <td>0.286</td>\n",
       "    </tr>\n",
       "    <tr>\n",
       "      <th>45</th>\n",
       "      <td>建筑：占卜台等级</td>\n",
       "      <td>5.789</td>\n",
       "      <td>36.193</td>\n",
       "      <td>0.197</td>\n",
       "    </tr>\n",
       "  </tbody>\n",
       "</table>\n",
       "</div>"
      ],
      "text/plain": [
       "            特征    偏度     峰度    均值\n",
       "96   科研：资源帮助容量 0.000  0.000 0.000\n",
       "94   科研：增援部队容量 0.000  0.000 0.000\n",
       "95     科研：行军大小 0.000  0.000 0.000\n",
       "34     建筑：要塞等级 1.247  0.986 2.059\n",
       "35  建筑：据点传送门等级 1.402  1.503 1.735\n",
       "32   建筑：士兵小屋等级 1.904  3.433 1.277\n",
       "42  建筑：魔法幸运树等级 2.057  3.400 1.134\n",
       "36     建筑：兵营等级 2.156  4.531 1.244\n",
       "33   建筑：治疗小井等级 2.215  4.696 1.003\n",
       "41    建筑：瞭望塔等级 2.471  5.958 0.882\n",
       "37   建筑：治疗之泉等级 2.495  5.994 0.894\n",
       "40     建筑：仓库等级 2.516  5.773 0.910\n",
       "38   建筑：智慧神庙等级 2.520  6.039 0.957\n",
       "44   建筑：联盟货车等级 2.761  7.383 0.759\n",
       "48     科研：侦查等级 2.957 10.945 0.325\n",
       "49   科研：训练速度等级 3.881 15.168 0.291\n",
       "39   建筑：联盟大厅等级 4.074 16.281 0.430\n",
       "85      科研：据点二 4.509 18.330 0.043\n",
       "47  建筑：冒险传送门等级 5.072 26.553 0.286\n",
       "45    建筑：占卜台等级 5.789 36.193 0.197"
      ]
     },
     "execution_count": 52,
     "metadata": {},
     "output_type": "execute_result"
    }
   ],
   "source": [
    "print(\"按照偏度降序排列！\")\n",
    "sak.sort_values(\"偏度\").head(20)"
   ]
  },
  {
   "cell_type": "code",
   "execution_count": 53,
   "id": "28b1c595",
   "metadata": {},
   "outputs": [
    {
     "name": "stdout",
     "output_type": "stream",
     "text": [
      "感觉偏度峰度之间相关性强！\n"
     ]
    },
    {
     "data": {
      "image/png": "[encoded data removed]",
      "text/plain": [
       "<Figure size 600x600 with 1 Axes>"
      ]
     },
     "metadata": {
      "needs_background": "light"
     },
     "output_type": "display_data"
    },
    {
     "data": {
      "text/html": [
       "<div>\n",
       "<style scoped>\n",
       "    .dataframe tbody tr th:only-of-type {\n",
       "        vertical-align: middle;\n",
       "    }\n",
       "\n",
       "    .dataframe tbody tr th {\n",
       "        vertical-align: top;\n",
       "    }\n",
       "\n",
       "    .dataframe thead th {\n",
       "        text-align: right;\n",
       "    }\n",
       "</style>\n",
       "<table border=\"1\" class=\"dataframe\">\n",
       "  <thead>\n",
       "    <tr style=\"text-align: right;\">\n",
       "      <th></th>\n",
       "      <th>偏度</th>\n",
       "      <th>峰度</th>\n",
       "      <th>均值</th>\n",
       "    </tr>\n",
       "  </thead>\n",
       "  <tbody>\n",
       "    <tr>\n",
       "      <th>偏度</th>\n",
       "      <td>1.000</td>\n",
       "      <td>0.967</td>\n",
       "      <td>-0.012</td>\n",
       "    </tr>\n",
       "    <tr>\n",
       "      <th>峰度</th>\n",
       "      <td>0.967</td>\n",
       "      <td>1.000</td>\n",
       "      <td>-0.057</td>\n",
       "    </tr>\n",
       "    <tr>\n",
       "      <th>均值</th>\n",
       "      <td>-0.012</td>\n",
       "      <td>-0.057</td>\n",
       "      <td>1.000</td>\n",
       "    </tr>\n",
       "  </tbody>\n",
       "</table>\n",
       "</div>"
      ],
      "text/plain": [
       "       偏度     峰度     均值\n",
       "偏度  1.000  0.967 -0.012\n",
       "峰度  0.967  1.000 -0.057\n",
       "均值 -0.012 -0.057  1.000"
      ]
     },
     "execution_count": 53,
     "metadata": {},
     "output_type": "execute_result"
    }
   ],
   "source": [
    "print(\"感觉偏度峰度之间相关性强！\")\n",
    "plt.figure(figsize=(6,6),dpi=100)\n",
    "plt.scatter(\"偏度\",\"峰度\", data = sak,s = 50,c = \"red\",edgecolors = \"k\",linewidth = 0.3);\n",
    "plt.xlim(0, 200) #控制横纵坐标的范围\n",
    "plt.ylim(0, 25000)\n",
    "plt.show()\n",
    "sak.corr()"
   ]
  },
  {
   "cell_type": "markdown",
   "id": "3cb85d2b",
   "metadata": {},
   "source": [
    "- 鉴于二者呈现强的正相关0.967, 因此可以只考虑偏度与均值，不再考虑峰度的情况了。\n",
    "- **可以绘制横坐标为偏度，纵坐标为均值的散点图，概括出偏度与均值之间的关系，并总结出不同资源/不同等级的设置类型，以此来判断游戏中的各项资源的获得难易程度是否合理**。\n",
    "- 在绘图之前，大致可以判断，均值与偏度应该可以以如下方式分割特征的类型："
   ]
  },
  {
   "cell_type": "markdown",
   "id": "a33d8bd1",
   "metadata": {},
   "source": [
    "- 为了简要说明，用DNF中的材料道具来类比！\n",
    "> - A类 **均值高，偏度低**：玩家拥有该资源的分布较为均匀，并且大家都拥有很多这个资源，这类资源是最容易获取的；——**炉岩碳，无色**\n",
    "> - B类 **均值高，偏度也高**：玩家拥有该资源的分布不均匀，少量玩家掌握巨量资源（长尾会非常非常长），拉高了均值，\n",
    "这类资源可能是需要玩家花费金钱的资源，也可能是爆肝才能获得的资源；——**活动爆肝赠送的高级时装兑换券！**\n",
    "> - C类 **均值低，偏度也低**：玩家拥有该资源的分布较为均匀，但大家都没有这个资源，这类资源可能是需要时间来积累才能够获得的，随着开服时间变长，这类资源应该会逐渐变成其他类型的资源；——**混沌魔石碎片，英雄的宿命，无限的永恒！**\n",
    "> - D类 **均值低，偏度高**：玩家拥有该资源的分布不均匀，只有少量玩家掌握该资源，但是掌握的总量也不多。这类资源天生稀缺并且无法靠高消费获得（比如必须触发特定剧情/达到特定成就才能够获得的资源），只有少数人能够拥有；——**稀有史诗，明光追影刀，光焰烈日裁决、白鸟人皮肤外观（不是光明套）**\n",
    "\n",
    "- 在一个健康的游戏中，A类资源应该是最多的，这类资源决定了剧本能够被推进的程度、决定了大部分玩家的游戏体验，B类资源主要用于付费，收入的主要来源，但可能严重破坏游戏平衡，D类资源主要在于增加游戏的趣味和公平性，应该是最少的。一个游戏的A类资源要足够多，才算是对新手比较友好，只要绘制出散点图，四类资源的分布情况就目了然了。"
   ]
  },
  {
   "cell_type": "code",
   "execution_count": 54,
   "id": "12541ac2",
   "metadata": {
    "scrolled": false
   },
   "outputs": [
    {
     "data": {
      "image/png": "[encoded data removed]",
      "text/plain": [
       "<Figure size 1500x900 with 3 Axes>"
      ]
     },
     "metadata": {
      "needs_background": "light"
     },
     "output_type": "display_data"
    }
   ],
   "source": [
    "plt.figure(figsize=(15,9),dpi=100)\n",
    "#绘制三个坐标轴不一样的图像上，首先是A类\n",
    "plt.subplot(311)\n",
    "plt.scatter(\"偏度\",\"均值\", data = sak,s = 45,c = \"red\",edgecolors = \"k\",linewidth = 0.3);\n",
    "plt.xlim(-15, 1500) #控制横纵坐标的范围\n",
    "plt.ylim(20000, 600000)\n",
    "plt.vlines(300, 20000, 600000,colors=\"red\",linestyles=\"dotted\")\n",
    "ax = plt.gca()\n",
    "ax.spines['top'].set_visible(False)\n",
    "ax.spines['right'].set_visible(False)\n",
    "ax.spines['bottom'].set_visible(False)\n",
    "plt.yticks(fontsize=10)\n",
    "plt.text(130,450000,s=\"A类\")\n",
    "plt.text(130,400000,s=\"均值很高，偏度较低\")\n",
    "plt.text(130,350000,s=\"容易获取的资源\")\n",
    "plt.text(130,300000,s=\"容易达到的等级\")\n",
    "plt.xticks([])\n",
    "\n",
    "#B类\n",
    "plt.subplot(312)\n",
    "plt.scatter(\"偏度\",\"均值\", data = sak,s = 45,c = \"red\",edgecolors = \"k\",linewidth = 0.3);\n",
    "plt.xlim(-15, 1500)\n",
    "plt.ylim(40, 500)\n",
    "plt.vlines(300, 50, 300,colors=\"red\",linestyles=\"dotted\")\n",
    "plt.hlines(40,-10, 1500,colors=\"red\",linestyles=\"dotted\")\n",
    "ax = plt.gca()\n",
    "ax.spines['top'].set_visible(False)\n",
    "ax.spines['right'].set_visible(False)\n",
    "ax.spines['bottom'].set_visible(False)\n",
    "plt.yticks(fontsize=10)\n",
    "plt.ylabel(\"资源均值\", fontsize=15)\n",
    "plt.text(1200,200,s=\"B类\")\n",
    "plt.text(1200,175,s=\"均值偏高/居中，偏度很高\")\n",
    "plt.text(1200,150,s=\"有少数玩家\")\n",
    "plt.text(1200,125,s=\"把控巨量资源\")\n",
    "plt.xticks([])\n",
    "\n",
    "#C类\n",
    "plt.subplot(313)\n",
    "plt.scatter(\"偏度\",\"均值\", data = sak,s = 45,c = \"red\",edgecolors = \"k\",linewidth = 0.3);\n",
    "plt.xlim(-15, 1500)\n",
    "plt.ylim(-0.15, 3)\n",
    "plt.vlines(300, -0.1, 5,colors=\"red\",linestyles=\"dotted\")\n",
    "ax = plt.gca()\n",
    "ax.spines['top'].set_visible(False)\n",
    "ax.spines['right'].set_visible(False)\n",
    "plt.xlabel(\"偏度\", fontsize=15)\n",
    "plt.yticks(fontsize=10)\n",
    "plt.text(70,2.8,s=\"C类资源\")\n",
    "plt.text(70,2.5,s=\"均值很低，偏度也很低\")\n",
    "plt.text(70,2.2,s=\"几乎没有玩家拥有该资源\")\n",
    "plt.text(70,1.9,s=\"可能需要时间积累\")\n",
    "plt.text(340,2.8,s=\"D类资源\")\n",
    "plt.text(340,2.5,s=\"均值很低，偏度较高或很高\")\n",
    "plt.text(340,2.2,s=\"只有少量玩家掌握该资源\")\n",
    "plt.text(340,1.9,s=\"并且资源本身也比较稀缺\")\n",
    "plt.subplots_adjust(hspace=0.05)\n",
    "plt.show()"
   ]
  },
  {
   "cell_type": "markdown",
   "id": "e8834ec9",
   "metadata": {},
   "source": [
    "- OS：(不同特征之间量纲差的的有点儿多，还是拿出来单独看吧。。。)"
   ]
  },
  {
   "cell_type": "code",
   "execution_count": 55,
   "id": "6a6952a5",
   "metadata": {},
   "outputs": [],
   "source": [
    "#A类\n",
    "A = sak.loc[sak[\"均值\"] > 3,:].loc[sak[\"偏度\"]<300,:]\n",
    "#B类\n",
    "B = sak.loc[sak[\"均值\"] > 3,:].loc[sak[\"偏度\"]>300,:]\n",
    "#C类\n",
    "C = sak.loc[sak[\"均值\"] < 3,:].loc[sak[\"偏度\"]<300,:].shape[0]\n",
    "#D类\n",
    "D = sak.loc[sak[\"均值\"] < 3,:].loc[sak[\"偏度\"]>300,:].shape[0]"
   ]
  },
  {
   "cell_type": "markdown",
   "id": "c212c33c",
   "metadata": {},
   "source": [
    "- 是否影响新玩家用户就要看A类！"
   ]
  },
  {
   "cell_type": "code",
   "execution_count": 56,
   "id": "97f1e4f7",
   "metadata": {},
   "outputs": [
    {
     "data": {
      "text/html": [
       "<div>\n",
       "<style scoped>\n",
       "    .dataframe tbody tr th:only-of-type {\n",
       "        vertical-align: middle;\n",
       "    }\n",
       "\n",
       "    .dataframe tbody tr th {\n",
       "        vertical-align: top;\n",
       "    }\n",
       "\n",
       "    .dataframe thead th {\n",
       "        text-align: right;\n",
       "    }\n",
       "</style>\n",
       "<table border=\"1\" class=\"dataframe\">\n",
       "  <thead>\n",
       "    <tr style=\"text-align: right;\">\n",
       "      <th></th>\n",
       "      <th>count</th>\n",
       "      <th>mean</th>\n",
       "      <th>std</th>\n",
       "      <th>min</th>\n",
       "      <th>25%</th>\n",
       "      <th>50%</th>\n",
       "      <th>75%</th>\n",
       "      <th>max</th>\n",
       "    </tr>\n",
       "    <tr>\n",
       "      <th>字段解释</th>\n",
       "      <th></th>\n",
       "      <th></th>\n",
       "      <th></th>\n",
       "      <th></th>\n",
       "      <th></th>\n",
       "      <th></th>\n",
       "      <th></th>\n",
       "      <th></th>\n",
       "    </tr>\n",
       "  </thead>\n",
       "  <tbody>\n",
       "    <tr>\n",
       "      <th>木头获取数量</th>\n",
       "      <td>1048575.000</td>\n",
       "      <td>446335.941</td>\n",
       "      <td>5064362.536</td>\n",
       "      <td>0.000</td>\n",
       "      <td>0.000</td>\n",
       "      <td>39129.000</td>\n",
       "      <td>149892.500</td>\n",
       "      <td>1203395293.000</td>\n",
       "    </tr>\n",
       "    <tr>\n",
       "      <th>木头消耗数量</th>\n",
       "      <td>1048575.000</td>\n",
       "      <td>363509.370</td>\n",
       "      <td>3824456.251</td>\n",
       "      <td>0.000</td>\n",
       "      <td>0.000</td>\n",
       "      <td>8830.000</td>\n",
       "      <td>96996.000</td>\n",
       "      <td>799587506.000</td>\n",
       "    </tr>\n",
       "    <tr>\n",
       "      <th>石头获取数量</th>\n",
       "      <td>1048575.000</td>\n",
       "      <td>189901.660</td>\n",
       "      <td>4840094.044</td>\n",
       "      <td>0.000</td>\n",
       "      <td>0.000</td>\n",
       "      <td>0.000</td>\n",
       "      <td>0.000</td>\n",
       "      <td>1185764691.000</td>\n",
       "    </tr>\n",
       "    <tr>\n",
       "      <th>石头消耗数量</th>\n",
       "      <td>1048575.000</td>\n",
       "      <td>138534.841</td>\n",
       "      <td>3526253.804</td>\n",
       "      <td>0.000</td>\n",
       "      <td>0.000</td>\n",
       "      <td>0.000</td>\n",
       "      <td>0.000</td>\n",
       "      <td>796237770.000</td>\n",
       "    </tr>\n",
       "    <tr>\n",
       "      <th>象牙获取数量</th>\n",
       "      <td>1048575.000</td>\n",
       "      <td>80551.224</td>\n",
       "      <td>2265183.976</td>\n",
       "      <td>0.000</td>\n",
       "      <td>0.000</td>\n",
       "      <td>0.000</td>\n",
       "      <td>0.000</td>\n",
       "      <td>497686593.000</td>\n",
       "    </tr>\n",
       "    <tr>\n",
       "      <th>象牙消耗数量</th>\n",
       "      <td>1048575.000</td>\n",
       "      <td>36896.504</td>\n",
       "      <td>1815712.635</td>\n",
       "      <td>0.000</td>\n",
       "      <td>0.000</td>\n",
       "      <td>0.000</td>\n",
       "      <td>0.000</td>\n",
       "      <td>448197157.000</td>\n",
       "    </tr>\n",
       "    <tr>\n",
       "      <th>肉获取数量</th>\n",
       "      <td>1048575.000</td>\n",
       "      <td>572687.784</td>\n",
       "      <td>5982317.952</td>\n",
       "      <td>0.000</td>\n",
       "      <td>0.000</td>\n",
       "      <td>32625.000</td>\n",
       "      <td>131450.500</td>\n",
       "      <td>1470643810.000</td>\n",
       "    </tr>\n",
       "    <tr>\n",
       "      <th>肉消耗数量</th>\n",
       "      <td>1048575.000</td>\n",
       "      <td>348908.328</td>\n",
       "      <td>3560458.364</td>\n",
       "      <td>0.000</td>\n",
       "      <td>0.000</td>\n",
       "      <td>6220.000</td>\n",
       "      <td>66054.000</td>\n",
       "      <td>888953714.000</td>\n",
       "    </tr>\n",
       "    <tr>\n",
       "      <th>魔法获取数量</th>\n",
       "      <td>1048575.000</td>\n",
       "      <td>75965.932</td>\n",
       "      <td>1039345.797</td>\n",
       "      <td>0.000</td>\n",
       "      <td>0.000</td>\n",
       "      <td>0.000</td>\n",
       "      <td>0.000</td>\n",
       "      <td>240559018.000</td>\n",
       "    </tr>\n",
       "    <tr>\n",
       "      <th>魔法消耗数量</th>\n",
       "      <td>1048575.000</td>\n",
       "      <td>47715.892</td>\n",
       "      <td>929613.109</td>\n",
       "      <td>0.000</td>\n",
       "      <td>0.000</td>\n",
       "      <td>0.000</td>\n",
       "      <td>0.000</td>\n",
       "      <td>240521880.000</td>\n",
       "    </tr>\n",
       "    <tr>\n",
       "      <th>勇士招募数量</th>\n",
       "      <td>1048575.000</td>\n",
       "      <td>140.970</td>\n",
       "      <td>1787.535</td>\n",
       "      <td>0.000</td>\n",
       "      <td>0.000</td>\n",
       "      <td>0.000</td>\n",
       "      <td>0.000</td>\n",
       "      <td>874918.000</td>\n",
       "    </tr>\n",
       "    <tr>\n",
       "      <th>勇士损失数量</th>\n",
       "      <td>1048575.000</td>\n",
       "      <td>222.764</td>\n",
       "      <td>1699.041</td>\n",
       "      <td>0.000</td>\n",
       "      <td>0.000</td>\n",
       "      <td>0.000</td>\n",
       "      <td>0.000</td>\n",
       "      <td>878883.000</td>\n",
       "    </tr>\n",
       "    <tr>\n",
       "      <th>驯兽师招募数量</th>\n",
       "      <td>1048575.000</td>\n",
       "      <td>125.714</td>\n",
       "      <td>1284.146</td>\n",
       "      <td>0.000</td>\n",
       "      <td>0.000</td>\n",
       "      <td>0.000</td>\n",
       "      <td>0.000</td>\n",
       "      <td>219392.000</td>\n",
       "    </tr>\n",
       "    <tr>\n",
       "      <th>驯兽师损失数量</th>\n",
       "      <td>1048575.000</td>\n",
       "      <td>174.722</td>\n",
       "      <td>1308.900</td>\n",
       "      <td>0.000</td>\n",
       "      <td>0.000</td>\n",
       "      <td>0.000</td>\n",
       "      <td>0.000</td>\n",
       "      <td>219598.000</td>\n",
       "    </tr>\n",
       "    <tr>\n",
       "      <th>勇士伤兵产生数量</th>\n",
       "      <td>1048575.000</td>\n",
       "      <td>132.422</td>\n",
       "      <td>1233.220</td>\n",
       "      <td>0.000</td>\n",
       "      <td>0.000</td>\n",
       "      <td>0.000</td>\n",
       "      <td>0.000</td>\n",
       "      <td>656090.000</td>\n",
       "    </tr>\n",
       "    <tr>\n",
       "      <th>勇士伤兵恢复数量</th>\n",
       "      <td>1048575.000</td>\n",
       "      <td>90.076</td>\n",
       "      <td>1184.167</td>\n",
       "      <td>0.000</td>\n",
       "      <td>0.000</td>\n",
       "      <td>0.000</td>\n",
       "      <td>0.000</td>\n",
       "      <td>656090.000</td>\n",
       "    </tr>\n",
       "    <tr>\n",
       "      <th>驯兽师伤兵产生数量</th>\n",
       "      <td>1048575.000</td>\n",
       "      <td>114.304</td>\n",
       "      <td>979.828</td>\n",
       "      <td>0.000</td>\n",
       "      <td>0.000</td>\n",
       "      <td>0.000</td>\n",
       "      <td>0.000</td>\n",
       "      <td>215654.000</td>\n",
       "    </tr>\n",
       "    <tr>\n",
       "      <th>驯兽师伤兵恢复数量</th>\n",
       "      <td>1048575.000</td>\n",
       "      <td>82.789</td>\n",
       "      <td>920.963</td>\n",
       "      <td>0.000</td>\n",
       "      <td>0.000</td>\n",
       "      <td>0.000</td>\n",
       "      <td>0.000</td>\n",
       "      <td>215654.000</td>\n",
       "    </tr>\n",
       "    <tr>\n",
       "      <th>通用加速获取数量</th>\n",
       "      <td>1048575.000</td>\n",
       "      <td>278.390</td>\n",
       "      <td>3025.954</td>\n",
       "      <td>0.000</td>\n",
       "      <td>0.000</td>\n",
       "      <td>0.000</td>\n",
       "      <td>53.000</td>\n",
       "      <td>795484.000</td>\n",
       "    </tr>\n",
       "    <tr>\n",
       "      <th>通用加速使用数量</th>\n",
       "      <td>1048575.000</td>\n",
       "      <td>189.501</td>\n",
       "      <td>2559.869</td>\n",
       "      <td>0.000</td>\n",
       "      <td>0.000</td>\n",
       "      <td>0.000</td>\n",
       "      <td>0.000</td>\n",
       "      <td>474706.000</td>\n",
       "    </tr>\n",
       "    <tr>\n",
       "      <th>建筑加速获取数量</th>\n",
       "      <td>1048575.000</td>\n",
       "      <td>200.727</td>\n",
       "      <td>1458.202</td>\n",
       "      <td>0.000</td>\n",
       "      <td>0.000</td>\n",
       "      <td>0.000</td>\n",
       "      <td>222.000</td>\n",
       "      <td>411362.000</td>\n",
       "    </tr>\n",
       "    <tr>\n",
       "      <th>建筑加速使用数量</th>\n",
       "      <td>1048575.000</td>\n",
       "      <td>140.368</td>\n",
       "      <td>1299.101</td>\n",
       "      <td>0.000</td>\n",
       "      <td>0.000</td>\n",
       "      <td>0.000</td>\n",
       "      <td>46.000</td>\n",
       "      <td>306515.000</td>\n",
       "    </tr>\n",
       "    <tr>\n",
       "      <th>科研加速获取数量</th>\n",
       "      <td>1048575.000</td>\n",
       "      <td>128.717</td>\n",
       "      <td>1530.697</td>\n",
       "      <td>0.000</td>\n",
       "      <td>0.000</td>\n",
       "      <td>0.000</td>\n",
       "      <td>50.000</td>\n",
       "      <td>377796.000</td>\n",
       "    </tr>\n",
       "    <tr>\n",
       "      <th>科研加速使用数量</th>\n",
       "      <td>1048575.000</td>\n",
       "      <td>72.105</td>\n",
       "      <td>1339.347</td>\n",
       "      <td>0.000</td>\n",
       "      <td>0.000</td>\n",
       "      <td>0.000</td>\n",
       "      <td>0.000</td>\n",
       "      <td>338437.000</td>\n",
       "    </tr>\n",
       "    <tr>\n",
       "      <th>训练加速获取数量</th>\n",
       "      <td>1048575.000</td>\n",
       "      <td>211.006</td>\n",
       "      <td>2082.987</td>\n",
       "      <td>0.000</td>\n",
       "      <td>0.000</td>\n",
       "      <td>45.000</td>\n",
       "      <td>100.000</td>\n",
       "      <td>671607.000</td>\n",
       "    </tr>\n",
       "    <tr>\n",
       "      <th>训练加速使用数量</th>\n",
       "      <td>1048575.000</td>\n",
       "      <td>65.258</td>\n",
       "      <td>1620.077</td>\n",
       "      <td>0.000</td>\n",
       "      <td>0.000</td>\n",
       "      <td>0.000</td>\n",
       "      <td>0.000</td>\n",
       "      <td>529587.000</td>\n",
       "    </tr>\n",
       "    <tr>\n",
       "      <th>治疗加速获取数量</th>\n",
       "      <td>1048575.000</td>\n",
       "      <td>10.131</td>\n",
       "      <td>49.475</td>\n",
       "      <td>0.000</td>\n",
       "      <td>0.000</td>\n",
       "      <td>0.000</td>\n",
       "      <td>0.000</td>\n",
       "      <td>7245.000</td>\n",
       "    </tr>\n",
       "  </tbody>\n",
       "</table>\n",
       "</div>"
      ],
      "text/plain": [
       "                count       mean         std   min   25%       50%        75%  \\\n",
       "字段解释                                                                            \n",
       "木头获取数量    1048575.000 446335.941 5064362.536 0.000 0.000 39129.000 149892.500   \n",
       "木头消耗数量    1048575.000 363509.370 3824456.251 0.000 0.000  8830.000  96996.000   \n",
       "石头获取数量    1048575.000 189901.660 4840094.044 0.000 0.000     0.000      0.000   \n",
       "石头消耗数量    1048575.000 138534.841 3526253.804 0.000 0.000     0.000      0.000   \n",
       "象牙获取数量    1048575.000  80551.224 2265183.976 0.000 0.000     0.000      0.000   \n",
       "象牙消耗数量    1048575.000  36896.504 1815712.635 0.000 0.000     0.000      0.000   \n",
       "肉获取数量     1048575.000 572687.784 5982317.952 0.000 0.000 32625.000 131450.500   \n",
       "肉消耗数量     1048575.000 348908.328 3560458.364 0.000 0.000  6220.000  66054.000   \n",
       "魔法获取数量    1048575.000  75965.932 1039345.797 0.000 0.000     0.000      0.000   \n",
       "魔法消耗数量    1048575.000  47715.892  929613.109 0.000 0.000     0.000      0.000   \n",
       "勇士招募数量    1048575.000    140.970    1787.535 0.000 0.000     0.000      0.000   \n",
       "勇士损失数量    1048575.000    222.764    1699.041 0.000 0.000     0.000      0.000   \n",
       "驯兽师招募数量   1048575.000    125.714    1284.146 0.000 0.000     0.000      0.000   \n",
       "驯兽师损失数量   1048575.000    174.722    1308.900 0.000 0.000     0.000      0.000   \n",
       "勇士伤兵产生数量  1048575.000    132.422    1233.220 0.000 0.000     0.000      0.000   \n",
       "勇士伤兵恢复数量  1048575.000     90.076    1184.167 0.000 0.000     0.000      0.000   \n",
       "驯兽师伤兵产生数量 1048575.000    114.304     979.828 0.000 0.000     0.000      0.000   \n",
       "驯兽师伤兵恢复数量 1048575.000     82.789     920.963 0.000 0.000     0.000      0.000   \n",
       "通用加速获取数量  1048575.000    278.390    3025.954 0.000 0.000     0.000     53.000   \n",
       "通用加速使用数量  1048575.000    189.501    2559.869 0.000 0.000     0.000      0.000   \n",
       "建筑加速获取数量  1048575.000    200.727    1458.202 0.000 0.000     0.000    222.000   \n",
       "建筑加速使用数量  1048575.000    140.368    1299.101 0.000 0.000     0.000     46.000   \n",
       "科研加速获取数量  1048575.000    128.717    1530.697 0.000 0.000     0.000     50.000   \n",
       "科研加速使用数量  1048575.000     72.105    1339.347 0.000 0.000     0.000      0.000   \n",
       "训练加速获取数量  1048575.000    211.006    2082.987 0.000 0.000    45.000    100.000   \n",
       "训练加速使用数量  1048575.000     65.258    1620.077 0.000 0.000     0.000      0.000   \n",
       "治疗加速获取数量  1048575.000     10.131      49.475 0.000 0.000     0.000      0.000   \n",
       "\n",
       "                     max  \n",
       "字段解释                      \n",
       "木头获取数量    1203395293.000  \n",
       "木头消耗数量     799587506.000  \n",
       "石头获取数量    1185764691.000  \n",
       "石头消耗数量     796237770.000  \n",
       "象牙获取数量     497686593.000  \n",
       "象牙消耗数量     448197157.000  \n",
       "肉获取数量     1470643810.000  \n",
       "肉消耗数量      888953714.000  \n",
       "魔法获取数量     240559018.000  \n",
       "魔法消耗数量     240521880.000  \n",
       "勇士招募数量        874918.000  \n",
       "勇士损失数量        878883.000  \n",
       "驯兽师招募数量       219392.000  \n",
       "驯兽师损失数量       219598.000  \n",
       "勇士伤兵产生数量      656090.000  \n",
       "勇士伤兵恢复数量      656090.000  \n",
       "驯兽师伤兵产生数量     215654.000  \n",
       "驯兽师伤兵恢复数量     215654.000  \n",
       "通用加速获取数量      795484.000  \n",
       "通用加速使用数量      474706.000  \n",
       "建筑加速获取数量      411362.000  \n",
       "建筑加速使用数量      306515.000  \n",
       "科研加速获取数量      377796.000  \n",
       "科研加速使用数量      338437.000  \n",
       "训练加速获取数量      671607.000  \n",
       "训练加速使用数量      529587.000  \n",
       "治疗加速获取数量        7245.000  "
      ]
     },
     "execution_count": 56,
     "metadata": {},
     "output_type": "execute_result"
    }
   ],
   "source": [
    "data.loc[:,A[\"特征\"]].describe().T"
   ]
  },
  {
   "cell_type": "markdown",
   "id": "d25754e4",
   "metadata": {},
   "source": [
    "- 从分析的结果来看，各项资源的配比数量其实还算合理。\n",
    "- 假设一款游戏只想服务消费型玩家，那B类资源会很多、大量A类资源的获取渠道也会转向氪金方向，但《野蛮时代》明显没有这样的设计，在游戏早期只有兵种萨满相关的集中资源和技能是需要消费的，说明游戏依然在致力于为普通玩家提供较好的体验，所以大部分玩家应该不是因为新手关太难、剧情无法推进才退游的。然而，各类资源的可获取量其实有很大的差异，基础资源动辄就上百万甚至上亿，可能会让玩家获得感严重不足。\n",
    "- 而从A类资源的分布来看，只有木头和肉这两种最最最基础的资源是分布较为正常的，其他资源都是严重右偏，**说明“留存率低”是原因，“资源数据的异常”是结果；同时数值策划应该细心规划一下数字上给玩家用户带来的体验感**。除此之外，还有可能的情况就是产品逻辑不顺、获得感不足、美工不足、系统BUG（比如疯狂闪退等等）、或者强烈的捞金感/不高级感让大部分用户在第一天就流失掉了。"
   ]
  },
  {
   "cell_type": "markdown",
   "id": "be0551f6",
   "metadata": {},
   "source": [
    "    ### S4.玩家用户间的平衡性影响：消费与战斗优势"
   ]
  },
  {
   "cell_type": "code",
   "execution_count": 57,
   "id": "dc5e32d6",
   "metadata": {},
   "outputs": [
    {
     "name": "stdout",
     "output_type": "stream",
     "text": [
      "7日有过消费的玩家的人均PVP次数——有过消费的玩家是否热衷于PVP比赛！！！\n"
     ]
    },
    {
     "data": {
      "text/plain": [
       "25.13771828923978"
      ]
     },
     "execution_count": 57,
     "metadata": {},
     "output_type": "execute_result"
    }
   ],
   "source": [
    "Seven_day_consume_user = data[data[\"付费金额\"] !=0]\n",
    "Seven_day_unconsume_user = data[data[\"付费金额\"] ==0]\n",
    "print(\"7日有过消费的玩家的人均PVP次数——有过消费的玩家是否热衷于PVP比赛！！！\")\n",
    "Seven_day_consume_user[\"PVP次数\"].mean()"
   ]
  },
  {
   "cell_type": "code",
   "execution_count": 58,
   "id": "4d9c2892",
   "metadata": {},
   "outputs": [
    {
     "name": "stdout",
     "output_type": "stream",
     "text": [
      "7日有过消费的玩家，PVP胜率分布！\n"
     ]
    },
    {
     "data": {
      "text/plain": [
       "count   16306.000\n",
       "mean        0.534\n",
       "std         0.361\n",
       "min         0.000\n",
       "25%         0.200\n",
       "50%         0.600\n",
       "75%         0.871\n",
       "max         1.000\n",
       "dtype: float64"
      ]
     },
     "execution_count": 58,
     "metadata": {},
     "output_type": "execute_result"
    }
   ],
   "source": [
    "print(\"7日有过消费的玩家，PVP胜率分布！\")\n",
    "(Seven_day_consume_user[\"PVP胜利次数\"]/Seven_day_consume_user[\"PVP次数\"]).describe()"
   ]
  },
  {
   "cell_type": "markdown",
   "id": "84b7f17d",
   "metadata": {},
   "source": [
    "- 可以看到，人均PVP胜率是53.4%，对付费玩家来说是个可以接受的数字，但并不是特别大的优势。其中count数是少于总付费玩家的人数的，说明有部分玩家的PVP次数为0，为避免除0错误因此剔除了这些玩家。不参与PVP的玩家占比为："
   ]
  },
  {
   "cell_type": "code",
   "execution_count": 59,
   "id": "c912361b",
   "metadata": {},
   "outputs": [
    {
     "name": "stdout",
     "output_type": "stream",
     "text": [
      "当然也有消费的玩家，不玩PVP，有15%\n"
     ]
    },
    {
     "data": {
      "text/plain": [
       "0.14744327094008158"
      ]
     },
     "execution_count": 59,
     "metadata": {},
     "output_type": "execute_result"
    }
   ],
   "source": [
    "print(\"当然也有消费的玩家，不玩PVP，有15%\")\n",
    "1 - (16306/Seven_day_consume_user.shape[0])"
   ]
  },
  {
   "cell_type": "code",
   "execution_count": 60,
   "id": "2dda5c53",
   "metadata": {},
   "outputs": [
    {
     "name": "stdout",
     "output_type": "stream",
     "text": [
      "7日未消费的玩家人均PVP次数\n"
     ]
    },
    {
     "data": {
      "text/plain": [
       "1.691989598319101"
      ]
     },
     "execution_count": 60,
     "metadata": {},
     "output_type": "execute_result"
    }
   ],
   "source": [
    "print(\"7日未消费的玩家人均PVP次数\")\n",
    "Seven_day_unconsume_user[\"PVP次数\"].mean()"
   ]
  },
  {
   "cell_type": "code",
   "execution_count": 61,
   "id": "77df2df0",
   "metadata": {},
   "outputs": [
    {
     "name": "stdout",
     "output_type": "stream",
     "text": [
      "7日未消费的玩家PVP胜率分布\n"
     ]
    },
    {
     "data": {
      "text/plain": [
       "count   243271.000\n",
       "mean         0.249\n",
       "std          0.354\n",
       "min          0.000\n",
       "25%          0.000\n",
       "50%          0.000\n",
       "75%          0.500\n",
       "max          1.000\n",
       "dtype: float64"
      ]
     },
     "execution_count": 61,
     "metadata": {},
     "output_type": "execute_result"
    }
   ],
   "source": [
    "print(\"7日未消费的玩家PVP胜率分布\")\n",
    "(Seven_day_unconsume_user[\"PVP胜利次数\"]/Seven_day_unconsume_user[\"PVP次数\"]).describe()"
   ]
  },
  {
   "cell_type": "markdown",
   "id": "ec2bdbf1",
   "metadata": {},
   "source": [
    "- 对未消费的玩家而言，人均PVP胜率只有25%，并且75%的人的场均胜率只有50%；这个条件对未消费的玩家来说的确比较苛刻。\n",
    "- 同样，不消费的玩家中也有部分玩家的PVP次数为0，即一次也没有参与。"
   ]
  },
  {
   "cell_type": "code",
   "execution_count": 62,
   "id": "4a58beae",
   "metadata": {},
   "outputs": [
    {
     "name": "stdout",
     "output_type": "stream",
     "text": [
      "来看未消费的玩家中参与PVP的人数占比：\n"
     ]
    },
    {
     "data": {
      "text/plain": [
       "0.7636881477372847"
      ]
     },
     "execution_count": 62,
     "metadata": {},
     "output_type": "execute_result"
    }
   ],
   "source": [
    "print(\"来看未消费的玩家中参与PVP的人数占比：\")\n",
    "1 - (243271/Seven_day_unconsume_user.shape[0])"
   ]
  },
  {
   "cell_type": "markdown",
   "id": "e4f0755b",
   "metadata": {},
   "source": [
    "- 这个比例太高了，不曾消费的玩家用户中有许多人可能是已经流失的玩家用户，因此当然不会参与PVP对战。"
   ]
  },
  {
   "cell_type": "code",
   "execution_count": 63,
   "id": "c2320cb9",
   "metadata": {},
   "outputs": [
    {
     "name": "stdout",
     "output_type": "stream",
     "text": [
      "是否消费会影响玩家间的对战情绪吗？\n",
      "对付费玩家而言，平均有45.2%的PVP对战是由他们主动发起的。\n"
     ]
    },
    {
     "data": {
      "text/plain": [
       "count   16306.000\n",
       "mean        0.454\n",
       "std         0.357\n",
       "min         0.000\n",
       "25%         0.000\n",
       "50%         0.500\n",
       "75%         0.786\n",
       "max         1.000\n",
       "dtype: float64"
      ]
     },
     "execution_count": 63,
     "metadata": {},
     "output_type": "execute_result"
    }
   ],
   "source": [
    "print(\"是否消费会影响玩家间的对战情绪吗？\")\n",
    "print(\"对付费玩家而言，平均有45.2%的PVP对战是由他们主动发起的。\")\n",
    "(Seven_day_consume_user[\"主动发起PVP次数\"]/Seven_day_consume_user[\"PVP次数\"]).describe()"
   ]
  },
  {
   "cell_type": "code",
   "execution_count": 64,
   "id": "1f34a077",
   "metadata": {},
   "outputs": [
    {
     "name": "stdout",
     "output_type": "stream",
     "text": [
      "不付费玩家平均45%的时候主动发起对战，不过大多数时候75%的人都不会发起对战。积极性不高只能这么说吧。。。\n"
     ]
    },
    {
     "data": {
      "text/plain": [
       "count   243271.000\n",
       "mean         0.258\n",
       "std          0.364\n",
       "min          0.000\n",
       "25%          0.000\n",
       "50%          0.000\n",
       "75%          0.500\n",
       "max          1.000\n",
       "dtype: float64"
      ]
     },
     "execution_count": 64,
     "metadata": {},
     "output_type": "execute_result"
    }
   ],
   "source": [
    "print(\"不付费玩家平均45%的时候主动发起对战，不过大多数时候75%的人都不会发起对战。积极性不高只能这么说吧。。。\")\n",
    "(Seven_day_unconsume_user[\"主动发起PVP次数\"]/Seven_day_unconsume_user[\"PVP次数\"]).describe()\n"
   ]
  },
  {
   "cell_type": "markdown",
   "id": "955ba9af",
   "metadata": {},
   "source": [
    "- 至少从PVP发起的次数，几率来看，消费过的用户更有好战的倾向！不知道PVE是否也是消费玩家占据主导优势呢？"
   ]
  },
  {
   "cell_type": "code",
   "execution_count": 65,
   "id": "7df1af73",
   "metadata": {},
   "outputs": [
    {
     "name": "stdout",
     "output_type": "stream",
     "text": [
      "7日有过消费的玩家，PVE胜率分布！\n"
     ]
    },
    {
     "data": {
      "text/plain": [
       "count   16994.000\n",
       "mean        0.888\n",
       "std         0.139\n",
       "min         0.000\n",
       "25%         0.844\n",
       "50%         0.929\n",
       "75%         0.992\n",
       "max         1.000\n",
       "dtype: float64"
      ]
     },
     "execution_count": 65,
     "metadata": {},
     "output_type": "execute_result"
    }
   ],
   "source": [
    "print(\"7日有过消费的玩家，PVE胜率分布！\")\n",
    "(Seven_day_consume_user[\"PVE胜利次数\"]/Seven_day_consume_user[\"PVE次数\"]).describe()"
   ]
  },
  {
   "cell_type": "code",
   "execution_count": 66,
   "id": "a1447e29",
   "metadata": {},
   "outputs": [
    {
     "name": "stdout",
     "output_type": "stream",
     "text": [
      "7日未有消费的玩家，PVE胜率分布！\n"
     ]
    },
    {
     "data": {
      "text/plain": [
       "count   309266.000\n",
       "mean         0.921\n",
       "std          0.180\n",
       "min          0.000\n",
       "25%          0.965\n",
       "50%          1.000\n",
       "75%          1.000\n",
       "max          1.000\n",
       "dtype: float64"
      ]
     },
     "execution_count": 66,
     "metadata": {},
     "output_type": "execute_result"
    }
   ],
   "source": [
    "print(\"7日未有消费的玩家，PVE胜率分布！\")\n",
    "(Seven_day_unconsume_user[\"PVE胜利次数\"]/Seven_day_unconsume_user[\"PVE次数\"]).describe()"
   ]
  },
  {
   "cell_type": "markdown",
   "id": "7b8713e5",
   "metadata": {},
   "source": [
    "- 不难发现，未曾消费的玩家的PVE平均胜率有92.1%，是高于消费玩家的品滚胜率88.8%；\n",
    "- 看来环境怪兽都比较弱小，大部分玩家都能够轻松战胜。当PVP上消费玩家有绝对优势，未消费的玩家许多会选择在PVE环境中进行战斗，故可以验证一下未消费的玩家主动发起PVE战斗的情况会更多；"
   ]
  },
  {
   "cell_type": "code",
   "execution_count": 67,
   "id": "d9d5239b",
   "metadata": {},
   "outputs": [
    {
     "name": "stdout",
     "output_type": "stream",
     "text": [
      "在PVE系统中，有消费的玩家主动发起战斗的概率\n"
     ]
    },
    {
     "data": {
      "text/plain": [
       "count   16994.000\n",
       "mean        0.991\n",
       "std         0.071\n",
       "min         0.000\n",
       "25%         1.000\n",
       "50%         1.000\n",
       "75%         1.000\n",
       "max         1.000\n",
       "dtype: float64"
      ]
     },
     "execution_count": 67,
     "metadata": {},
     "output_type": "execute_result"
    }
   ],
   "source": [
    "print(\"在PVE系统中，有消费的玩家主动发起战斗的概率\")\n",
    "(Seven_day_consume_user[\"主动发起PVE次数\"]/Seven_day_consume_user[\"PVE次数\"]).describe()"
   ]
  },
  {
   "cell_type": "code",
   "execution_count": 68,
   "id": "6b319451",
   "metadata": {},
   "outputs": [
    {
     "name": "stdout",
     "output_type": "stream",
     "text": [
      "在PVE系统中，未曾消费的玩家主动发起战斗的概率\n"
     ]
    },
    {
     "data": {
      "text/plain": [
       "count   309266.000\n",
       "mean         0.996\n",
       "std          0.059\n",
       "min          0.000\n",
       "25%          1.000\n",
       "50%          1.000\n",
       "75%          1.000\n",
       "max          1.000\n",
       "dtype: float64"
      ]
     },
     "execution_count": 68,
     "metadata": {},
     "output_type": "execute_result"
    }
   ],
   "source": [
    "print(\"在PVE系统中，未曾消费的玩家主动发起战斗的概率\")\n",
    "(Seven_day_unconsume_user[\"主动发起PVE次数\"]/Seven_day_unconsume_user[\"PVE次数\"]).describe()"
   ]
  },
  {
   "cell_type": "markdown",
   "id": "965e768d",
   "metadata": {},
   "source": [
    "- 玩家是否消费，主动发起PVE的可能性都非常高，\n",
    "- 几乎所有人都是主动发起PVE战斗，这可能说明PVE战斗是发展城市必须的环节（比如收集资源肉类需要猎杀野猪等生物、获取魔法道具需要猎杀龙、哥布林等生物）；或者说是剧情必然；\n",
    "- 从分析的结果来看，是否消费并不会对PVE战斗有影响，主要是影响PVP。\n",
    "- 结合《野蛮时代》特点；玩家或许可以夺取其他玩家的领地和城池，因此PVP对战的平衡性对玩家流失有重要的影响。前期留存下来，但后期逐渐流失的非氪金用户有一定的可能是因为PVP胜率太低而离开。"
   ]
  },
  {
   "cell_type": "markdown",
   "id": "5f32a38d",
   "metadata": {},
   "source": [
    "    ### S5.异常玩家的识别；"
   ]
  },
  {
   "cell_type": "markdown",
   "id": "6578826b",
   "metadata": {},
   "source": [
    "- 建模之前必须要识别检测一下数据是否有异常情况，比如缺失，负数；\n",
    "- 除此之外，如果像前面所提及的那种在线时间很短，但是资源量非常高，是否是作弊行为玩家等；\n",
    "> 从游戏业务角度而言，所有的资源/人物等级/胜利次数/金额等不应该出现负数，因此首先排查负数<br>\n",
    "> 如果存在用户信息，则需要排查年龄不为负，年龄不过高或过低等状况<br>\n",
    "> 查看是否有上线时间较短，但是资源量异常丰富的账号，可能是游戏管理者，也可能有人作弊；"
   ]
  },
  {
   "cell_type": "code",
   "execution_count": 69,
   "id": "92554706",
   "metadata": {},
   "outputs": [
    {
     "name": "stdout",
     "output_type": "stream",
     "text": [
      "确认已没有任何object型的字段！\n",
      "<class 'pandas.core.frame.DataFrame'>\n",
      "RangeIndex: 1048575 entries, 0 to 1048574\n",
      "Columns: 106 entries, 木头获取数量 to 付费次数\n",
      "dtypes: float64(2), int64(104)\n",
      "memory usage: 848.0 MB\n"
     ]
    }
   ],
   "source": [
    "print(\"确认已没有任何object型的字段！\")\n",
    "Abnormal_Check = data.iloc[:,2:-1]\n",
    "Abnormal_Check.info() \n"
   ]
  },
  {
   "cell_type": "code",
   "execution_count": 70,
   "id": "a4a652f5",
   "metadata": {},
   "outputs": [
    {
     "name": "stdout",
     "output_type": "stream",
     "text": [
      "无小于0的值！！！！！！\n"
     ]
    },
    {
     "data": {
      "text/plain": [
       "0"
      ]
     },
     "execution_count": 70,
     "metadata": {},
     "output_type": "execute_result"
    }
   ],
   "source": [
    "print(\"无小于0的值！！！！！！\")\n",
    "(Abnormal_Check < 0).sum().sum() #无小于0的值"
   ]
  },
  {
   "cell_type": "code",
   "execution_count": 71,
   "id": "a60a9b63",
   "metadata": {},
   "outputs": [
    {
     "name": "stdout",
     "output_type": "stream",
     "text": [
      "通常还会检查在线时间很短但却拥有很多资源的账号，可能是玩家有作弊行为，比如外挂副本刷钱，资源等等；\n"
     ]
    },
    {
     "data": {
      "text/html": [
       "<div>\n",
       "<style scoped>\n",
       "    .dataframe tbody tr th:only-of-type {\n",
       "        vertical-align: middle;\n",
       "    }\n",
       "\n",
       "    .dataframe tbody tr th {\n",
       "        vertical-align: top;\n",
       "    }\n",
       "\n",
       "    .dataframe thead th {\n",
       "        text-align: right;\n",
       "    }\n",
       "</style>\n",
       "<table border=\"1\" class=\"dataframe\">\n",
       "  <thead>\n",
       "    <tr style=\"text-align: right;\">\n",
       "      <th>字段解释</th>\n",
       "      <th>木头获取数量</th>\n",
       "      <th>木头消耗数量</th>\n",
       "      <th>石头获取数量</th>\n",
       "      <th>石头消耗数量</th>\n",
       "      <th>象牙获取数量</th>\n",
       "      <th>象牙消耗数量</th>\n",
       "      <th>肉获取数量</th>\n",
       "      <th>肉消耗数量</th>\n",
       "      <th>魔法获取数量</th>\n",
       "      <th>魔法消耗数量</th>\n",
       "      <th>...</th>\n",
       "      <th>科研：资源帮助容量</th>\n",
       "      <th>PVP次数</th>\n",
       "      <th>主动发起PVP次数</th>\n",
       "      <th>PVP胜利次数</th>\n",
       "      <th>PVE次数</th>\n",
       "      <th>主动发起PVE次数</th>\n",
       "      <th>PVE胜利次数</th>\n",
       "      <th>在线时长</th>\n",
       "      <th>付费金额</th>\n",
       "      <th>付费次数</th>\n",
       "    </tr>\n",
       "  </thead>\n",
       "  <tbody>\n",
       "    <tr>\n",
       "      <th>0</th>\n",
       "      <td>20125</td>\n",
       "      <td>3700</td>\n",
       "      <td>0</td>\n",
       "      <td>0</td>\n",
       "      <td>0</td>\n",
       "      <td>0</td>\n",
       "      <td>16375</td>\n",
       "      <td>2000</td>\n",
       "      <td>0</td>\n",
       "      <td>0</td>\n",
       "      <td>...</td>\n",
       "      <td>0</td>\n",
       "      <td>0</td>\n",
       "      <td>0</td>\n",
       "      <td>0</td>\n",
       "      <td>0</td>\n",
       "      <td>0</td>\n",
       "      <td>0</td>\n",
       "      <td>0.333</td>\n",
       "      <td>0.000</td>\n",
       "      <td>0</td>\n",
       "    </tr>\n",
       "    <tr>\n",
       "      <th>1</th>\n",
       "      <td>0</td>\n",
       "      <td>0</td>\n",
       "      <td>0</td>\n",
       "      <td>0</td>\n",
       "      <td>0</td>\n",
       "      <td>0</td>\n",
       "      <td>0</td>\n",
       "      <td>0</td>\n",
       "      <td>0</td>\n",
       "      <td>0</td>\n",
       "      <td>...</td>\n",
       "      <td>0</td>\n",
       "      <td>0</td>\n",
       "      <td>0</td>\n",
       "      <td>0</td>\n",
       "      <td>0</td>\n",
       "      <td>0</td>\n",
       "      <td>0</td>\n",
       "      <td>0.333</td>\n",
       "      <td>0.000</td>\n",
       "      <td>0</td>\n",
       "    </tr>\n",
       "    <tr>\n",
       "      <th>2</th>\n",
       "      <td>0</td>\n",
       "      <td>0</td>\n",
       "      <td>0</td>\n",
       "      <td>0</td>\n",
       "      <td>0</td>\n",
       "      <td>0</td>\n",
       "      <td>0</td>\n",
       "      <td>0</td>\n",
       "      <td>0</td>\n",
       "      <td>0</td>\n",
       "      <td>...</td>\n",
       "      <td>0</td>\n",
       "      <td>0</td>\n",
       "      <td>0</td>\n",
       "      <td>0</td>\n",
       "      <td>0</td>\n",
       "      <td>0</td>\n",
       "      <td>0</td>\n",
       "      <td>1.167</td>\n",
       "      <td>0.000</td>\n",
       "      <td>0</td>\n",
       "    </tr>\n",
       "    <tr>\n",
       "      <th>3</th>\n",
       "      <td>0</td>\n",
       "      <td>0</td>\n",
       "      <td>0</td>\n",
       "      <td>0</td>\n",
       "      <td>0</td>\n",
       "      <td>0</td>\n",
       "      <td>0</td>\n",
       "      <td>0</td>\n",
       "      <td>0</td>\n",
       "      <td>0</td>\n",
       "      <td>...</td>\n",
       "      <td>0</td>\n",
       "      <td>0</td>\n",
       "      <td>0</td>\n",
       "      <td>0</td>\n",
       "      <td>0</td>\n",
       "      <td>0</td>\n",
       "      <td>0</td>\n",
       "      <td>3.167</td>\n",
       "      <td>0.000</td>\n",
       "      <td>0</td>\n",
       "    </tr>\n",
       "    <tr>\n",
       "      <th>4</th>\n",
       "      <td>0</td>\n",
       "      <td>0</td>\n",
       "      <td>0</td>\n",
       "      <td>0</td>\n",
       "      <td>0</td>\n",
       "      <td>0</td>\n",
       "      <td>0</td>\n",
       "      <td>0</td>\n",
       "      <td>0</td>\n",
       "      <td>0</td>\n",
       "      <td>...</td>\n",
       "      <td>0</td>\n",
       "      <td>0</td>\n",
       "      <td>0</td>\n",
       "      <td>0</td>\n",
       "      <td>0</td>\n",
       "      <td>0</td>\n",
       "      <td>0</td>\n",
       "      <td>2.333</td>\n",
       "      <td>0.000</td>\n",
       "      <td>0</td>\n",
       "    </tr>\n",
       "  </tbody>\n",
       "</table>\n",
       "<p>5 rows × 106 columns</p>\n",
       "</div>"
      ],
      "text/plain": [
       "字段解释  木头获取数量  木头消耗数量  石头获取数量  石头消耗数量  象牙获取数量  象牙消耗数量  肉获取数量  肉消耗数量  魔法获取数量  \\\n",
       "0      20125    3700       0       0       0       0  16375   2000       0   \n",
       "1          0       0       0       0       0       0      0      0       0   \n",
       "2          0       0       0       0       0       0      0      0       0   \n",
       "3          0       0       0       0       0       0      0      0       0   \n",
       "4          0       0       0       0       0       0      0      0       0   \n",
       "\n",
       "字段解释  魔法消耗数量  ...  科研：资源帮助容量  PVP次数  主动发起PVP次数  PVP胜利次数  PVE次数  主动发起PVE次数  \\\n",
       "0          0  ...          0      0          0        0      0          0   \n",
       "1          0  ...          0      0          0        0      0          0   \n",
       "2          0  ...          0      0          0        0      0          0   \n",
       "3          0  ...          0      0          0        0      0          0   \n",
       "4          0  ...          0      0          0        0      0          0   \n",
       "\n",
       "字段解释  PVE胜利次数  在线时长  付费金额  付费次数  \n",
       "0           0 0.333 0.000     0  \n",
       "1           0 0.333 0.000     0  \n",
       "2           0 1.167 0.000     0  \n",
       "3           0 3.167 0.000     0  \n",
       "4           0 2.333 0.000     0  \n",
       "\n",
       "[5 rows x 106 columns]"
      ]
     },
     "execution_count": 71,
     "metadata": {},
     "output_type": "execute_result"
    }
   ],
   "source": [
    "print(\"通常还会检查在线时间很短但却拥有很多资源的账号，可能是玩家有作弊行为，比如外挂副本刷钱，资源等等；\")\n",
    "Abnormal_Check.loc[Abnormal_Check[\"在线时长\"] < 30,:].head()"
   ]
  },
  {
   "cell_type": "markdown",
   "id": "d4baf88b",
   "metadata": {},
   "source": [
    "- 依靠统计学上的两个常用原则寻找异常值；\n",
    "> 1. 箱线图的法则：\n",
    "> **当任意样本的特定特征值超出 [QL-1.5\\*IQR, QU+1.5*IQR]时，则认为该样本的该特征值是异常值**<br>\n",
    "> QL:下四分位数，QU：上四分位数，IQR：QU-QL<br>\n",
    "> 2. 3倍的标准差：μ ± 3σ；\n",
    "> 不过之前描述性统计的结果发现特征基本不符合正态分布，所以原则2可能不太适用于此场景！"
   ]
  },
  {
   "cell_type": "code",
   "execution_count": 72,
   "id": "4fd69869",
   "metadata": {},
   "outputs": [
    {
     "name": "stdout",
     "output_type": "stream",
     "text": [
      "打印异常比例，保存异常样本的索引\n"
     ]
    },
    {
     "data": {
      "text/plain": [
       "506638"
      ]
     },
     "execution_count": 72,
     "metadata": {},
     "output_type": "execute_result"
    }
   ],
   "source": [
    "print(\"打印异常比例，保存异常样本的索引\")\n",
    "NumOfSamples = data.shape[0]\n",
    "abnormal = pd.DataFrame()\n",
    "DataNoAbnormal = data.copy()\n",
    "BoxAbnormalIdx = [] #列表：用于保存异常值的索引号\n",
    "for idx,column in enumerate(data.columns[2:-1]):\n",
    "    feature = data.loc[:,column]\n",
    "    QL = np.quantile(feature,0.25)\n",
    "    QU = np.quantile(feature,0.75)\n",
    "    IQR = QU - QL\n",
    "    error = feature[((feature < (QL - 1.5*IQR)).astype(int) + (feature > (QU + 1.5*IQR)).astype(int)) != 0]\n",
    "    #不在[QL-1.5*IQR, QU+1.5*IQR]范围内都算是异常值；\n",
    "    BoxAbnormalIdx.extend(error.index)\n",
    "    abnormal.loc[idx,\"特征\"] = column\n",
    "    abnormal.loc[idx,\"异常值数量\"] = error.shape[0]\n",
    "    abnormal.loc[idx,\"异常值所占比例\"] = \"{:.3f}%\".format(error.shape[0]*100/NumOfSamples)\n",
    "BoxAbnormalIdx = set(BoxAbnormalIdx) #集合对异常值索引进行去重\n",
    "len(BoxAbnormalIdx) #这里面是由重复值的"
   ]
  },
  {
   "cell_type": "code",
   "execution_count": 73,
   "id": "6df07bb3",
   "metadata": {},
   "outputs": [
    {
     "name": "stdout",
     "output_type": "stream",
     "text": [
      "左偏比较严重的特征异常值更多\n"
     ]
    },
    {
     "data": {
      "text/html": [
       "<div>\n",
       "<style scoped>\n",
       "    .dataframe tbody tr th:only-of-type {\n",
       "        vertical-align: middle;\n",
       "    }\n",
       "\n",
       "    .dataframe tbody tr th {\n",
       "        vertical-align: top;\n",
       "    }\n",
       "\n",
       "    .dataframe thead th {\n",
       "        text-align: right;\n",
       "    }\n",
       "</style>\n",
       "<table border=\"1\" class=\"dataframe\">\n",
       "  <thead>\n",
       "    <tr style=\"text-align: right;\">\n",
       "      <th></th>\n",
       "      <th>特征</th>\n",
       "      <th>异常值数量</th>\n",
       "      <th>异常值所占比例</th>\n",
       "    </tr>\n",
       "  </thead>\n",
       "  <tbody>\n",
       "    <tr>\n",
       "      <th>39</th>\n",
       "      <td>建筑：联盟大厅等级</td>\n",
       "      <td>95941.000</td>\n",
       "      <td>9.150%</td>\n",
       "    </tr>\n",
       "    <tr>\n",
       "      <th>15</th>\n",
       "      <td>萨满损失数量</td>\n",
       "      <td>93580.000</td>\n",
       "      <td>8.924%</td>\n",
       "    </tr>\n",
       "    <tr>\n",
       "      <th>26</th>\n",
       "      <td>科研加速获取数量</td>\n",
       "      <td>87287.000</td>\n",
       "      <td>8.324%</td>\n",
       "    </tr>\n",
       "    <tr>\n",
       "      <th>20</th>\n",
       "      <td>萨满伤兵产生数量</td>\n",
       "      <td>82841.000</td>\n",
       "      <td>7.900%</td>\n",
       "    </tr>\n",
       "    <tr>\n",
       "      <th>84</th>\n",
       "      <td>科研：据点耐久</td>\n",
       "      <td>71736.000</td>\n",
       "      <td>6.841%</td>\n",
       "    </tr>\n",
       "    <tr>\n",
       "      <th>...</th>\n",
       "      <td>...</td>\n",
       "      <td>...</td>\n",
       "      <td>...</td>\n",
       "    </tr>\n",
       "    <tr>\n",
       "      <th>69</th>\n",
       "      <td>科研：部队攻击</td>\n",
       "      <td>4.000</td>\n",
       "      <td>0.000%</td>\n",
       "    </tr>\n",
       "    <tr>\n",
       "      <th>93</th>\n",
       "      <td>科研：据点四</td>\n",
       "      <td>3.000</td>\n",
       "      <td>0.000%</td>\n",
       "    </tr>\n",
       "    <tr>\n",
       "      <th>94</th>\n",
       "      <td>科研：增援部队容量</td>\n",
       "      <td>0.000</td>\n",
       "      <td>0.000%</td>\n",
       "    </tr>\n",
       "    <tr>\n",
       "      <th>95</th>\n",
       "      <td>科研：行军大小</td>\n",
       "      <td>0.000</td>\n",
       "      <td>0.000%</td>\n",
       "    </tr>\n",
       "    <tr>\n",
       "      <th>96</th>\n",
       "      <td>科研：资源帮助容量</td>\n",
       "      <td>0.000</td>\n",
       "      <td>0.000%</td>\n",
       "    </tr>\n",
       "  </tbody>\n",
       "</table>\n",
       "<p>106 rows × 3 columns</p>\n",
       "</div>"
      ],
      "text/plain": [
       "           特征     异常值数量 异常值所占比例\n",
       "39  建筑：联盟大厅等级 95941.000  9.150%\n",
       "15     萨满损失数量 93580.000  8.924%\n",
       "26   科研加速获取数量 87287.000  8.324%\n",
       "20   萨满伤兵产生数量 82841.000  7.900%\n",
       "84    科研：据点耐久 71736.000  6.841%\n",
       "..        ...       ...     ...\n",
       "69    科研：部队攻击     4.000  0.000%\n",
       "93     科研：据点四     3.000  0.000%\n",
       "94  科研：增援部队容量     0.000  0.000%\n",
       "95    科研：行军大小     0.000  0.000%\n",
       "96  科研：资源帮助容量     0.000  0.000%\n",
       "\n",
       "[106 rows x 3 columns]"
      ]
     },
     "execution_count": 73,
     "metadata": {},
     "output_type": "execute_result"
    }
   ],
   "source": [
    "print(\"左偏比较严重的特征异常值更多\")\n",
    "abnormal.sort_values(\"异常值所占比例\",ascending=False) "
   ]
  },
  {
   "cell_type": "code",
   "execution_count": 74,
   "id": "fb497180",
   "metadata": {},
   "outputs": [
    {
     "name": "stdout",
     "output_type": "stream",
     "text": [
      "用3倍的标准差法看一下；\n"
     ]
    },
    {
     "data": {
      "text/plain": [
       "105349"
      ]
     },
     "execution_count": 74,
     "metadata": {},
     "output_type": "execute_result"
    }
   ],
   "source": [
    "print(\"用3倍的标准差法看一下；\")\n",
    "NumOfSamples = data.shape[0]\n",
    "abnormal = pd.DataFrame()\n",
    "DataNoAbnormal = data.copy()\n",
    "SigmaAbnormalIdx = []\n",
    "for idx,column in enumerate(data.columns[2:-1]):\n",
    "    feature = data.loc[:,column]\n",
    "    mean_ = feature.mean()\n",
    "    std_ = feature.std()\n",
    "    error = feature[feature - mean_ > 3*std_]\n",
    "    SigmaAbnormalIdx.extend(error.index)\n",
    "    abnormal.loc[idx,\"特征\"] = column\n",
    "    abnormal.loc[idx,\"异常值数量\"] = error.shape[0]\n",
    "    abnormal.loc[idx,\"异常值比例\"] = \"{:.3f}%\".format(error.shape[0]*100/NumOfSamples)\n",
    "SigmaAbnormalIdx = set(SigmaAbnormalIdx) #去重不解释。。。\n",
    "len(SigmaAbnormalIdx) "
   ]
  },
  {
   "cell_type": "code",
   "execution_count": 75,
   "id": "551b2f28",
   "metadata": {},
   "outputs": [
    {
     "name": "stdout",
     "output_type": "stream",
     "text": [
      "10%样本是异常，数据量占比有些高了，原则上来说不能随便删除！\n",
      "而且元数据大多数特征并不完全符合正态性，所以只供参考！\n"
     ]
    },
    {
     "data": {
      "text/plain": [
       "0.10046873137353074"
      ]
     },
     "execution_count": 75,
     "metadata": {},
     "output_type": "execute_result"
    }
   ],
   "source": [
    "print('''10%样本是异常，数据量占比有些高了，原则上来说不能随便删除！\n",
    "而且元数据大多数特征并不完全符合正态性，所以只供参考！''')\n",
    "len(SigmaAbnormalIdx)/data.shape[0]"
   ]
  },
  {
   "cell_type": "markdown",
   "id": "93734903",
   "metadata": {},
   "source": [
    "    ### S6.异常用户的消费&在线时间查看！"
   ]
  },
  {
   "cell_type": "code",
   "execution_count": 76,
   "id": "f208c70d",
   "metadata": {},
   "outputs": [
    {
     "name": "stdout",
     "output_type": "stream",
     "text": [
      "从在线时长上看异常玩家！\n"
     ]
    },
    {
     "data": {
      "text/plain": [
       "count   506638.000\n",
       "mean        19.902\n",
       "std         54.596\n",
       "min          0.000\n",
       "25%          2.333\n",
       "50%          4.500\n",
       "75%         11.833\n",
       "max       2049.667\n",
       "Name: 在线时长, dtype: float64"
      ]
     },
     "execution_count": 76,
     "metadata": {},
     "output_type": "execute_result"
    }
   ],
   "source": [
    "print(\"从在线时长上看异常玩家！\")\n",
    "data.loc[BoxAbnormalIdx,\"在线时长\"].describe() "
   ]
  },
  {
   "cell_type": "code",
   "execution_count": 77,
   "id": "4322a08e",
   "metadata": {},
   "outputs": [
    {
     "name": "stdout",
     "output_type": "stream",
     "text": [
      "在异常玩家中，消费玩家的数量\n"
     ]
    },
    {
     "data": {
      "text/plain": [
       "19126"
      ]
     },
     "execution_count": 77,
     "metadata": {},
     "output_type": "execute_result"
    }
   ],
   "source": [
    "print(\"在异常玩家中，消费玩家的数量\")\n",
    "(data.loc[BoxAbnormalIdx,\"付费金额\"] != 0).sum() "
   ]
  },
  {
   "cell_type": "code",
   "execution_count": 78,
   "id": "87f25f7f",
   "metadata": {},
   "outputs": [
    {
     "name": "stdout",
     "output_type": "stream",
     "text": [
      "这个数字眼熟！！！！！！\n",
      "就是前面发现的7日内消费的玩家用户\n"
     ]
    },
    {
     "data": {
      "text/plain": [
       "True"
      ]
     },
     "execution_count": 78,
     "metadata": {},
     "output_type": "execute_result"
    }
   ],
   "source": [
    "print('''这个数字眼熟！！！！！！\n",
    "就是前面发现的7日内消费的玩家用户''')\n",
    "(data.loc[BoxAbnormalIdx,\"付费金额\"] != 0).sum()  == Seven_day_consume_user[\"玩家唯一ID\"].count()"
   ]
  },
  {
   "cell_type": "markdown",
   "id": "983178f9",
   "metadata": {},
   "source": [
    "消费玩家被100%包含在了异常玩家里，这说明：\n",
    "> - 消费玩家的数据在当前数据下，统计上是完全异常的，因此建模时想要辨认出是否消费玩家，模型需要很深入的学习，也就是过拟合。。。<br>\n",
    "> - 异常用户有50w，其中只有1.9W多付费，即许多与消费玩家行为高度相似的玩家，最终在45天未消费的占一半以上；对预算法预测有一定挑战！"
   ]
  },
  {
   "cell_type": "markdown",
   "id": "08e11d23",
   "metadata": {},
   "source": [
    "# C2.正式建模流程！"
   ]
  },
  {
   "cell_type": "markdown",
   "id": "8bea836c",
   "metadata": {},
   "source": [
    "### P1.建模前的字段特征再处理！"
   ]
  },
  {
   "cell_type": "code",
   "execution_count": 79,
   "id": "7db718dd",
   "metadata": {},
   "outputs": [
    {
     "data": {
      "text/html": [
       "<div>\n",
       "<style scoped>\n",
       "    .dataframe tbody tr th:only-of-type {\n",
       "        vertical-align: middle;\n",
       "    }\n",
       "\n",
       "    .dataframe tbody tr th {\n",
       "        vertical-align: top;\n",
       "    }\n",
       "\n",
       "    .dataframe thead th {\n",
       "        text-align: right;\n",
       "    }\n",
       "</style>\n",
       "<table border=\"1\" class=\"dataframe\">\n",
       "  <thead>\n",
       "    <tr style=\"text-align: right;\">\n",
       "      <th>字段解释</th>\n",
       "      <th>玩家唯一ID</th>\n",
       "      <th>玩家注册时间</th>\n",
       "      <th>木头获取数量</th>\n",
       "      <th>木头消耗数量</th>\n",
       "      <th>石头获取数量</th>\n",
       "      <th>石头消耗数量</th>\n",
       "      <th>象牙获取数量</th>\n",
       "      <th>象牙消耗数量</th>\n",
       "      <th>肉获取数量</th>\n",
       "      <th>肉消耗数量</th>\n",
       "      <th>...</th>\n",
       "      <th>PVP次数</th>\n",
       "      <th>主动发起PVP次数</th>\n",
       "      <th>PVP胜利次数</th>\n",
       "      <th>PVE次数</th>\n",
       "      <th>主动发起PVE次数</th>\n",
       "      <th>PVE胜利次数</th>\n",
       "      <th>在线时长</th>\n",
       "      <th>付费金额</th>\n",
       "      <th>付费次数</th>\n",
       "      <th>45日付费金额</th>\n",
       "    </tr>\n",
       "  </thead>\n",
       "  <tbody>\n",
       "    <tr>\n",
       "      <th>0</th>\n",
       "      <td>1</td>\n",
       "      <td>2018/2/2 19:47</td>\n",
       "      <td>20125</td>\n",
       "      <td>3700</td>\n",
       "      <td>0</td>\n",
       "      <td>0</td>\n",
       "      <td>0</td>\n",
       "      <td>0</td>\n",
       "      <td>16375</td>\n",
       "      <td>2000</td>\n",
       "      <td>...</td>\n",
       "      <td>0</td>\n",
       "      <td>0</td>\n",
       "      <td>0</td>\n",
       "      <td>0</td>\n",
       "      <td>0</td>\n",
       "      <td>0</td>\n",
       "      <td>0.333</td>\n",
       "      <td>0.000</td>\n",
       "      <td>0</td>\n",
       "      <td>0.000</td>\n",
       "    </tr>\n",
       "    <tr>\n",
       "      <th>1</th>\n",
       "      <td>1593</td>\n",
       "      <td>2018/1/26 0:01</td>\n",
       "      <td>0</td>\n",
       "      <td>0</td>\n",
       "      <td>0</td>\n",
       "      <td>0</td>\n",
       "      <td>0</td>\n",
       "      <td>0</td>\n",
       "      <td>0</td>\n",
       "      <td>0</td>\n",
       "      <td>...</td>\n",
       "      <td>0</td>\n",
       "      <td>0</td>\n",
       "      <td>0</td>\n",
       "      <td>0</td>\n",
       "      <td>0</td>\n",
       "      <td>0</td>\n",
       "      <td>0.333</td>\n",
       "      <td>0.000</td>\n",
       "      <td>0</td>\n",
       "      <td>0.000</td>\n",
       "    </tr>\n",
       "    <tr>\n",
       "      <th>2</th>\n",
       "      <td>1594</td>\n",
       "      <td>2018/1/26 0:01</td>\n",
       "      <td>0</td>\n",
       "      <td>0</td>\n",
       "      <td>0</td>\n",
       "      <td>0</td>\n",
       "      <td>0</td>\n",
       "      <td>0</td>\n",
       "      <td>0</td>\n",
       "      <td>0</td>\n",
       "      <td>...</td>\n",
       "      <td>0</td>\n",
       "      <td>0</td>\n",
       "      <td>0</td>\n",
       "      <td>0</td>\n",
       "      <td>0</td>\n",
       "      <td>0</td>\n",
       "      <td>1.167</td>\n",
       "      <td>0.000</td>\n",
       "      <td>0</td>\n",
       "      <td>0.000</td>\n",
       "    </tr>\n",
       "    <tr>\n",
       "      <th>3</th>\n",
       "      <td>1595</td>\n",
       "      <td>2018/1/26 0:02</td>\n",
       "      <td>0</td>\n",
       "      <td>0</td>\n",
       "      <td>0</td>\n",
       "      <td>0</td>\n",
       "      <td>0</td>\n",
       "      <td>0</td>\n",
       "      <td>0</td>\n",
       "      <td>0</td>\n",
       "      <td>...</td>\n",
       "      <td>0</td>\n",
       "      <td>0</td>\n",
       "      <td>0</td>\n",
       "      <td>0</td>\n",
       "      <td>0</td>\n",
       "      <td>0</td>\n",
       "      <td>3.167</td>\n",
       "      <td>0.000</td>\n",
       "      <td>0</td>\n",
       "      <td>0.000</td>\n",
       "    </tr>\n",
       "    <tr>\n",
       "      <th>4</th>\n",
       "      <td>1596</td>\n",
       "      <td>2018/1/26 0:02</td>\n",
       "      <td>0</td>\n",
       "      <td>0</td>\n",
       "      <td>0</td>\n",
       "      <td>0</td>\n",
       "      <td>0</td>\n",
       "      <td>0</td>\n",
       "      <td>0</td>\n",
       "      <td>0</td>\n",
       "      <td>...</td>\n",
       "      <td>0</td>\n",
       "      <td>0</td>\n",
       "      <td>0</td>\n",
       "      <td>0</td>\n",
       "      <td>0</td>\n",
       "      <td>0</td>\n",
       "      <td>2.333</td>\n",
       "      <td>0.000</td>\n",
       "      <td>0</td>\n",
       "      <td>0.000</td>\n",
       "    </tr>\n",
       "  </tbody>\n",
       "</table>\n",
       "<p>5 rows × 109 columns</p>\n",
       "</div>"
      ],
      "text/plain": [
       "字段解释  玩家唯一ID          玩家注册时间  木头获取数量  木头消耗数量  石头获取数量  石头消耗数量  象牙获取数量  象牙消耗数量  \\\n",
       "0          1  2018/2/2 19:47   20125    3700       0       0       0       0   \n",
       "1       1593  2018/1/26 0:01       0       0       0       0       0       0   \n",
       "2       1594  2018/1/26 0:01       0       0       0       0       0       0   \n",
       "3       1595  2018/1/26 0:02       0       0       0       0       0       0   \n",
       "4       1596  2018/1/26 0:02       0       0       0       0       0       0   \n",
       "\n",
       "字段解释  肉获取数量  肉消耗数量  ...  PVP次数  主动发起PVP次数  PVP胜利次数  PVE次数  主动发起PVE次数  PVE胜利次数  \\\n",
       "0     16375   2000  ...      0          0        0      0          0        0   \n",
       "1         0      0  ...      0          0        0      0          0        0   \n",
       "2         0      0  ...      0          0        0      0          0        0   \n",
       "3         0      0  ...      0          0        0      0          0        0   \n",
       "4         0      0  ...      0          0        0      0          0        0   \n",
       "\n",
       "字段解释  在线时长  付费金额  付费次数  45日付费金额  \n",
       "0    0.333 0.000     0    0.000  \n",
       "1    0.333 0.000     0    0.000  \n",
       "2    1.167 0.000     0    0.000  \n",
       "3    3.167 0.000     0    0.000  \n",
       "4    2.333 0.000     0    0.000  \n",
       "\n",
       "[5 rows x 109 columns]"
      ]
     },
     "execution_count": 79,
     "metadata": {},
     "output_type": "execute_result"
    }
   ],
   "source": [
    "data.head()"
   ]
  },
  {
   "cell_type": "markdown",
   "id": "b909b90e",
   "metadata": {},
   "source": [
    "- 看到有一列，玩家注册时间！！！看看这个时间与最终45日消费金额是否有相关性，最终决定处理方式！\n",
    "- 通常注册的时间点，周几，几点可能会影响消费行为！"
   ]
  },
  {
   "cell_type": "code",
   "execution_count": 80,
   "id": "cc3df35d",
   "metadata": {},
   "outputs": [
    {
     "name": "stdout",
     "output_type": "stream",
     "text": [
      "首先将玩家注册日期进行一下时间格式化处理！\n"
     ]
    },
    {
     "data": {
      "text/plain": [
       "0          2018-02-02\n",
       "1          2018-01-26\n",
       "2          2018-01-26\n",
       "3          2018-01-26\n",
       "4          2018-01-26\n",
       "              ...    \n",
       "1048570    2018-02-24\n",
       "1048571    2018-02-24\n",
       "1048572    2018-02-24\n",
       "1048573    2018-02-24\n",
       "1048574    2018-02-24\n",
       "Name: 玩家注册时间, Length: 1048575, dtype: object"
      ]
     },
     "execution_count": 80,
     "metadata": {},
     "output_type": "execute_result"
    }
   ],
   "source": [
    "print(\"首先将玩家注册日期进行一下时间格式化处理！\")\n",
    "data.loc[:,\"玩家注册时间\"] = pd.to_datetime(data.loc[:,\"玩家注册时间\"])\n",
    "data.loc[:,\"玩家注册时间\"] = data.loc[:,\"玩家注册时间\"].apply(lambda x: x.strftime('%Y-%m-%d %H:%M:%S'))\n",
    "RegisterDate = data.loc[:,\"玩家注册时间\"].apply(lambda x: x[:10])\n",
    "RegisterDate"
   ]
  },
  {
   "cell_type": "code",
   "execution_count": 81,
   "id": "9a9fb2f9",
   "metadata": {},
   "outputs": [
    {
     "name": "stdout",
     "output_type": "stream",
     "text": [
      "按照玩家注册日期对付费金额进行聚合平均计算，再绘制图像看看是否呈现有规律的分布\n"
     ]
    },
    {
     "data": {
      "image/png": "[encoded data removed]",
      "text/plain": [
       "<Figure size 1500x300 with 1 Axes>"
      ]
     },
     "metadata": {
      "needs_background": "light"
     },
     "output_type": "display_data"
    }
   ],
   "source": [
    "print(\"按照玩家注册日期对付费金额进行聚合平均计算，再绘制图像看看是否呈现有规律的分布\")\n",
    "RegisterDateMean = data[\"付费金额\"].groupby(RegisterDate).mean()\n",
    "plt.figure(figsize=(15,3),dpi=100)\n",
    "plt.title(\"不同注册日期的玩家消费平均值\")\n",
    "plt.bar(RegisterDateMean.index, RegisterDateMean.values)\n",
    "plt.xticks(RegisterDateMean.index,rotation=60,ha=\"right\");"
   ]
  },
  {
   "cell_type": "markdown",
   "id": "8465c9e0",
   "metadata": {},
   "source": [
    "- 每隔几天就会有一个高峰跃起，可以将日期转化为一星期中的七天，\n",
    "- 观察一下星期和消费数额是否有明显的关系。"
   ]
  },
  {
   "cell_type": "code",
   "execution_count": 82,
   "id": "4fa8e314",
   "metadata": {},
   "outputs": [
    {
     "name": "stdout",
     "output_type": "stream",
     "text": [
      "将注册时间转成星期几，求均值后，再用图像观察！\n"
     ]
    },
    {
     "data": {
      "image/png": "[encoded data removed]",
      "text/plain": [
       "<Figure size 400x400 with 1 Axes>"
      ]
     },
     "metadata": {
      "needs_background": "light"
     },
     "output_type": "display_data"
    }
   ],
   "source": [
    "print(\"将注册时间转成星期几，求均值后，再用图像观察！\")\n",
    "datetime.datetime.strptime(data.loc[0,\"玩家注册时间\"][:10],\"%Y-%m-%d\").weekday()\n",
    "RegisterWeekday = data.loc[:,\"玩家注册时间\"].apply(lambda x: datetime.datetime.strptime(x[:10],\"%Y-%m-%d\").weekday()+1) #1~7分别代表周一到周日\n",
    "RegisterWeekDayMean = data[\"付费金额\"].groupby(RegisterWeekday).mean()\n",
    "plt.figure(figsize=(4,4),dpi=100)\n",
    "plt.title(\"不同注册日期（星期）的玩家消费均值！\")\n",
    "plt.bar(RegisterWeekDayMean.index, RegisterWeekDayMean.values)\n",
    "plt.xticks(RegisterWeekDayMean.index,rotation=60,ha=\"right\");"
   ]
  },
  {
   "cell_type": "markdown",
   "id": "449c1ac1",
   "metadata": {},
   "source": [
    "- 很明显，周五、周一注册的人有较高的消费金额。\n",
    "- 这个情况乍一看起来是消费金额与星期相关，但实际上并非如此；游戏注册或者购买、投放的节奏和渠道有关。\n",
    "- 每周五、每周一都可以排到质量较高的玩家所在的渠道，或者周五会吸引到大量准备过周末的玩家的注意；\n",
    "- 周一则会吸引到大量还不想投入工作的玩家的注意。\n",
    "- 周五与周一的高峰暗示这两天进入的流量可能是有规律工作、经济收入的人。可以计算一下星期与45日付费金额的皮尔逊相关系数："
   ]
  },
  {
   "cell_type": "code",
   "execution_count": 83,
   "id": "f113e30d",
   "metadata": {},
   "outputs": [
    {
     "name": "stdout",
     "output_type": "stream",
     "text": [
      "可以不必考虑了。。。\n"
     ]
    },
    {
     "data": {
      "text/html": [
       "<div>\n",
       "<style scoped>\n",
       "    .dataframe tbody tr th:only-of-type {\n",
       "        vertical-align: middle;\n",
       "    }\n",
       "\n",
       "    .dataframe tbody tr th {\n",
       "        vertical-align: top;\n",
       "    }\n",
       "\n",
       "    .dataframe thead th {\n",
       "        text-align: right;\n",
       "    }\n",
       "</style>\n",
       "<table border=\"1\" class=\"dataframe\">\n",
       "  <thead>\n",
       "    <tr style=\"text-align: right;\">\n",
       "      <th></th>\n",
       "      <th>45日付费金额</th>\n",
       "      <th>玩家注册时间</th>\n",
       "    </tr>\n",
       "  </thead>\n",
       "  <tbody>\n",
       "    <tr>\n",
       "      <th>45日付费金额</th>\n",
       "      <td>1.000</td>\n",
       "      <td>-0.001</td>\n",
       "    </tr>\n",
       "    <tr>\n",
       "      <th>玩家注册时间</th>\n",
       "      <td>-0.001</td>\n",
       "      <td>1.000</td>\n",
       "    </tr>\n",
       "  </tbody>\n",
       "</table>\n",
       "</div>"
      ],
      "text/plain": [
       "         45日付费金额  玩家注册时间\n",
       "45日付费金额    1.000  -0.001\n",
       "玩家注册时间    -0.001   1.000"
      ]
     },
     "execution_count": 83,
     "metadata": {},
     "output_type": "execute_result"
    }
   ],
   "source": [
    "print(\"可以不必考虑了。。。\")\n",
    "pd.concat([data[\"45日付费金额\"],RegisterWeekday],axis=1).corr()\n"
   ]
  },
  {
   "cell_type": "code",
   "execution_count": 84,
   "id": "724a88a8",
   "metadata": {},
   "outputs": [
    {
     "name": "stdout",
     "output_type": "stream",
     "text": [
      "将注册的小时时刻也单独列一列，提取小时数作为特征，在画图观察一下\n"
     ]
    },
    {
     "data": {
      "image/png": "[encoded data removed]",
      "text/plain": [
       "<Figure size 1500x300 with 1 Axes>"
      ]
     },
     "metadata": {
      "needs_background": "light"
     },
     "output_type": "display_data"
    }
   ],
   "source": [
    "print(\"将注册的小时时刻也单独列一列，提取小时数作为特征，在画图观察一下\")\n",
    "RegisterTime = data.loc[:,\"玩家注册时间\"].apply(lambda x: int(x[11:13]))\n",
    "RegisterTimeMean = data[\"付费金额\"].groupby(RegisterTime).mean()\n",
    "plt.figure(figsize=(15,3),dpi=100)\n",
    "plt.title(\"不同注册时刻的用户氪金均值\")\n",
    "plt.bar(RegisterTimeMean.index, RegisterTimeMean.values)\n",
    "plt.xticks(RegisterTimeMean.index,rotation=60,ha=\"right\");"
   ]
  },
  {
   "cell_type": "markdown",
   "id": "ee736967",
   "metadata": {},
   "source": [
    "早上10点-12点之间注册的用户、以及下午4点-5点之间表现出比其他时段注册的玩家更高的消费能力，这可能是与推广渠道有关，也可能真的是注册时刻与消费金额有关。同时，也来看看相关系数："
   ]
  },
  {
   "cell_type": "code",
   "execution_count": 85,
   "id": "97d4950b",
   "metadata": {},
   "outputs": [
    {
     "name": "stdout",
     "output_type": "stream",
     "text": [
      "相关性不高，但是不是0，凑合保留吧，还有点儿用！\n"
     ]
    },
    {
     "data": {
      "text/html": [
       "<div>\n",
       "<style scoped>\n",
       "    .dataframe tbody tr th:only-of-type {\n",
       "        vertical-align: middle;\n",
       "    }\n",
       "\n",
       "    .dataframe tbody tr th {\n",
       "        vertical-align: top;\n",
       "    }\n",
       "\n",
       "    .dataframe thead th {\n",
       "        text-align: right;\n",
       "    }\n",
       "</style>\n",
       "<table border=\"1\" class=\"dataframe\">\n",
       "  <thead>\n",
       "    <tr style=\"text-align: right;\">\n",
       "      <th></th>\n",
       "      <th>45日付费金额</th>\n",
       "      <th>玩家注册时间</th>\n",
       "    </tr>\n",
       "  </thead>\n",
       "  <tbody>\n",
       "    <tr>\n",
       "      <th>45日付费金额</th>\n",
       "      <td>1.000</td>\n",
       "      <td>0.001</td>\n",
       "    </tr>\n",
       "    <tr>\n",
       "      <th>玩家注册时间</th>\n",
       "      <td>0.001</td>\n",
       "      <td>1.000</td>\n",
       "    </tr>\n",
       "  </tbody>\n",
       "</table>\n",
       "</div>"
      ],
      "text/plain": [
       "         45日付费金额  玩家注册时间\n",
       "45日付费金额    1.000   0.001\n",
       "玩家注册时间     0.001   1.000"
      ]
     },
     "execution_count": 85,
     "metadata": {},
     "output_type": "execute_result"
    }
   ],
   "source": [
    "print(\"相关性不高，但是不是0，凑合保留吧，还有点儿用！\")\n",
    "pd.concat([data[\"45日付费金额\"],RegisterTime],axis=1).corr()"
   ]
  },
  {
   "cell_type": "code",
   "execution_count": 86,
   "id": "f0c9a867",
   "metadata": {},
   "outputs": [
    {
     "data": {
      "text/html": [
       "<div>\n",
       "<style scoped>\n",
       "    .dataframe tbody tr th:only-of-type {\n",
       "        vertical-align: middle;\n",
       "    }\n",
       "\n",
       "    .dataframe tbody tr th {\n",
       "        vertical-align: top;\n",
       "    }\n",
       "\n",
       "    .dataframe thead th {\n",
       "        text-align: right;\n",
       "    }\n",
       "</style>\n",
       "<table border=\"1\" class=\"dataframe\">\n",
       "  <thead>\n",
       "    <tr style=\"text-align: right;\">\n",
       "      <th>字段解释</th>\n",
       "      <th>木头获取数量</th>\n",
       "      <th>木头消耗数量</th>\n",
       "      <th>石头获取数量</th>\n",
       "      <th>石头消耗数量</th>\n",
       "      <th>象牙获取数量</th>\n",
       "      <th>象牙消耗数量</th>\n",
       "      <th>肉获取数量</th>\n",
       "      <th>肉消耗数量</th>\n",
       "      <th>魔法获取数量</th>\n",
       "      <th>魔法消耗数量</th>\n",
       "      <th>...</th>\n",
       "      <th>主动发起PVP次数</th>\n",
       "      <th>PVP胜利次数</th>\n",
       "      <th>PVE次数</th>\n",
       "      <th>主动发起PVE次数</th>\n",
       "      <th>PVE胜利次数</th>\n",
       "      <th>在线时长</th>\n",
       "      <th>付费金额</th>\n",
       "      <th>付费次数</th>\n",
       "      <th>玩家注册时刻</th>\n",
       "      <th>45日付费金额</th>\n",
       "    </tr>\n",
       "  </thead>\n",
       "  <tbody>\n",
       "    <tr>\n",
       "      <th>0</th>\n",
       "      <td>20125</td>\n",
       "      <td>3700</td>\n",
       "      <td>0</td>\n",
       "      <td>0</td>\n",
       "      <td>0</td>\n",
       "      <td>0</td>\n",
       "      <td>16375</td>\n",
       "      <td>2000</td>\n",
       "      <td>0</td>\n",
       "      <td>0</td>\n",
       "      <td>...</td>\n",
       "      <td>0</td>\n",
       "      <td>0</td>\n",
       "      <td>0</td>\n",
       "      <td>0</td>\n",
       "      <td>0</td>\n",
       "      <td>0.333</td>\n",
       "      <td>0.000</td>\n",
       "      <td>0</td>\n",
       "      <td>19</td>\n",
       "      <td>0.000</td>\n",
       "    </tr>\n",
       "    <tr>\n",
       "      <th>1</th>\n",
       "      <td>0</td>\n",
       "      <td>0</td>\n",
       "      <td>0</td>\n",
       "      <td>0</td>\n",
       "      <td>0</td>\n",
       "      <td>0</td>\n",
       "      <td>0</td>\n",
       "      <td>0</td>\n",
       "      <td>0</td>\n",
       "      <td>0</td>\n",
       "      <td>...</td>\n",
       "      <td>0</td>\n",
       "      <td>0</td>\n",
       "      <td>0</td>\n",
       "      <td>0</td>\n",
       "      <td>0</td>\n",
       "      <td>0.333</td>\n",
       "      <td>0.000</td>\n",
       "      <td>0</td>\n",
       "      <td>0</td>\n",
       "      <td>0.000</td>\n",
       "    </tr>\n",
       "    <tr>\n",
       "      <th>2</th>\n",
       "      <td>0</td>\n",
       "      <td>0</td>\n",
       "      <td>0</td>\n",
       "      <td>0</td>\n",
       "      <td>0</td>\n",
       "      <td>0</td>\n",
       "      <td>0</td>\n",
       "      <td>0</td>\n",
       "      <td>0</td>\n",
       "      <td>0</td>\n",
       "      <td>...</td>\n",
       "      <td>0</td>\n",
       "      <td>0</td>\n",
       "      <td>0</td>\n",
       "      <td>0</td>\n",
       "      <td>0</td>\n",
       "      <td>1.167</td>\n",
       "      <td>0.000</td>\n",
       "      <td>0</td>\n",
       "      <td>0</td>\n",
       "      <td>0.000</td>\n",
       "    </tr>\n",
       "    <tr>\n",
       "      <th>3</th>\n",
       "      <td>0</td>\n",
       "      <td>0</td>\n",
       "      <td>0</td>\n",
       "      <td>0</td>\n",
       "      <td>0</td>\n",
       "      <td>0</td>\n",
       "      <td>0</td>\n",
       "      <td>0</td>\n",
       "      <td>0</td>\n",
       "      <td>0</td>\n",
       "      <td>...</td>\n",
       "      <td>0</td>\n",
       "      <td>0</td>\n",
       "      <td>0</td>\n",
       "      <td>0</td>\n",
       "      <td>0</td>\n",
       "      <td>3.167</td>\n",
       "      <td>0.000</td>\n",
       "      <td>0</td>\n",
       "      <td>0</td>\n",
       "      <td>0.000</td>\n",
       "    </tr>\n",
       "    <tr>\n",
       "      <th>4</th>\n",
       "      <td>0</td>\n",
       "      <td>0</td>\n",
       "      <td>0</td>\n",
       "      <td>0</td>\n",
       "      <td>0</td>\n",
       "      <td>0</td>\n",
       "      <td>0</td>\n",
       "      <td>0</td>\n",
       "      <td>0</td>\n",
       "      <td>0</td>\n",
       "      <td>...</td>\n",
       "      <td>0</td>\n",
       "      <td>0</td>\n",
       "      <td>0</td>\n",
       "      <td>0</td>\n",
       "      <td>0</td>\n",
       "      <td>2.333</td>\n",
       "      <td>0.000</td>\n",
       "      <td>0</td>\n",
       "      <td>0</td>\n",
       "      <td>0.000</td>\n",
       "    </tr>\n",
       "  </tbody>\n",
       "</table>\n",
       "<p>5 rows × 108 columns</p>\n",
       "</div>"
      ],
      "text/plain": [
       "字段解释  木头获取数量  木头消耗数量  石头获取数量  石头消耗数量  象牙获取数量  象牙消耗数量  肉获取数量  肉消耗数量  魔法获取数量  \\\n",
       "0      20125    3700       0       0       0       0  16375   2000       0   \n",
       "1          0       0       0       0       0       0      0      0       0   \n",
       "2          0       0       0       0       0       0      0      0       0   \n",
       "3          0       0       0       0       0       0      0      0       0   \n",
       "4          0       0       0       0       0       0      0      0       0   \n",
       "\n",
       "字段解释  魔法消耗数量  ...  主动发起PVP次数  PVP胜利次数  PVE次数  主动发起PVE次数  PVE胜利次数  在线时长  付费金额  \\\n",
       "0          0  ...          0        0      0          0        0 0.333 0.000   \n",
       "1          0  ...          0        0      0          0        0 0.333 0.000   \n",
       "2          0  ...          0        0      0          0        0 1.167 0.000   \n",
       "3          0  ...          0        0      0          0        0 3.167 0.000   \n",
       "4          0  ...          0        0      0          0        0 2.333 0.000   \n",
       "\n",
       "字段解释  付费次数  玩家注册时刻  45日付费金额  \n",
       "0        0      19    0.000  \n",
       "1        0       0    0.000  \n",
       "2        0       0    0.000  \n",
       "3        0       0    0.000  \n",
       "4        0       0    0.000  \n",
       "\n",
       "[5 rows x 108 columns]"
      ]
     },
     "execution_count": 86,
     "metadata": {},
     "output_type": "execute_result"
    }
   ],
   "source": [
    "data.insert(data.shape[1]-1,\"玩家注册时刻\",RegisterTime)\n",
    "data.drop(columns=[\"玩家注册时间\",\"玩家唯一ID\"],inplace=True) #删除不需要的特征\n",
    "data.head()\n"
   ]
  },
  {
   "cell_type": "markdown",
   "id": "e37562d6",
   "metadata": {},
   "source": [
    "### P2.数据Benchmark建立流程"
   ]
  },
  {
   "cell_type": "code",
   "execution_count": 87,
   "id": "8f93b81f",
   "metadata": {},
   "outputs": [
    {
     "data": {
      "text/plain": [
       "((1048575,), (1048575, 107))"
      ]
     },
     "execution_count": 87,
     "metadata": {},
     "output_type": "execute_result"
    }
   ],
   "source": [
    "X = data.iloc[:,:-1]\n",
    "y = data.iloc[:,-1]\n",
    "y.shape,X.shape"
   ]
  },
  {
   "cell_type": "code",
   "execution_count": 88,
   "id": "9697faa0",
   "metadata": {},
   "outputs": [
    {
     "data": {
      "text/plain": [
       "((734002, 107), (314573, 107))"
      ]
     },
     "execution_count": 88,
     "metadata": {},
     "output_type": "execute_result"
    }
   ],
   "source": [
    "Xtrain, Xtest, ytrain, ytest = train_test_split(X,y,test_size = 0.3,random_state = 0)\n",
    "Xtrain.shape,Xtest.shape"
   ]
  },
  {
   "cell_type": "code",
   "execution_count": 89,
   "id": "ae036e51",
   "metadata": {},
   "outputs": [
    {
     "name": "stdout",
     "output_type": "stream",
     "text": [
      "索引恢复！\n"
     ]
    }
   ],
   "source": [
    "print(\"索引恢复！\")\n",
    "for i in [Xtrain, Xtest]:\n",
    "    i.index = range(i.shape[0])"
   ]
  },
  {
   "cell_type": "code",
   "execution_count": 90,
   "id": "e879cc62",
   "metadata": {},
   "outputs": [],
   "source": [
    "reg = LR() #实例化\n",
    "reg_benchmark = reg.fit(Xtrain,ytrain) #训练"
   ]
  },
  {
   "cell_type": "code",
   "execution_count": 91,
   "id": "7ff75dfd",
   "metadata": {},
   "outputs": [
    {
     "data": {
      "text/plain": [
       "0.7353042509576684"
      ]
     },
     "execution_count": 91,
     "metadata": {},
     "output_type": "execute_result"
    }
   ],
   "source": [
    "reg_benchmark.score(Xtrain,ytrain) #训练集上的分数 - R2"
   ]
  },
  {
   "cell_type": "code",
   "execution_count": 92,
   "id": "254e9b76",
   "metadata": {},
   "outputs": [
    {
     "data": {
      "text/plain": [
       "0.321699321056062"
      ]
     },
     "execution_count": 92,
     "metadata": {},
     "output_type": "execute_result"
    }
   ],
   "source": [
    "reg_benchmark.score(Xtest,ytest) #测试集上的分数"
   ]
  },
  {
   "cell_type": "code",
   "execution_count": 93,
   "id": "7ebbceae",
   "metadata": {},
   "outputs": [],
   "source": [
    "y_pred = reg_benchmark.predict(Xtest) #测试集上的预测标签"
   ]
  },
  {
   "cell_type": "code",
   "execution_count": 94,
   "id": "531b600d",
   "metadata": {},
   "outputs": [
    {
     "data": {
      "text/plain": [
       "62.95938925974633"
      ]
     },
     "execution_count": 94,
     "metadata": {},
     "output_type": "execute_result"
    }
   ],
   "source": [
    "# 根均方误差(RMSE)\n",
    "np.sqrt(MSE(ytest,y_pred)) #benchmark就是62的RMSE，以及55.8%的r2"
   ]
  },
  {
   "cell_type": "markdown",
   "id": "662687a5",
   "metadata": {},
   "source": [
    "- 线性回归欠拟合太明显。。。"
   ]
  },
  {
   "cell_type": "code",
   "execution_count": 95,
   "id": "9e0f2eae",
   "metadata": {},
   "outputs": [
    {
     "data": {
      "text/plain": [
       "RandomForestRegressor(max_features=5, n_estimators=10)"
      ]
     },
     "execution_count": 95,
     "metadata": {},
     "output_type": "execute_result"
    }
   ],
   "source": [
    "reg_tree = RFR(n_estimators=10,max_features=5) #100+，max_features=5\n",
    "reg_tree.fit(Xtrain,ytrain)"
   ]
  },
  {
   "cell_type": "code",
   "execution_count": 96,
   "id": "ed28efcf",
   "metadata": {},
   "outputs": [
    {
     "data": {
      "text/plain": [
       "0.8999230000983364"
      ]
     },
     "execution_count": 96,
     "metadata": {},
     "output_type": "execute_result"
    }
   ],
   "source": [
    "reg_tree.score(Xtrain,ytrain) #训练集上的R2是87%"
   ]
  },
  {
   "cell_type": "code",
   "execution_count": 97,
   "id": "75efce8e",
   "metadata": {},
   "outputs": [
    {
     "data": {
      "text/plain": [
       "0.356194285941538"
      ]
     },
     "execution_count": 97,
     "metadata": {},
     "output_type": "execute_result"
    }
   ],
   "source": [
    "reg_tree.score(Xtest,ytest) #测试集上的R2是41%"
   ]
  },
  {
   "cell_type": "code",
   "execution_count": 98,
   "id": "7c9cea9b",
   "metadata": {},
   "outputs": [
    {
     "data": {
      "text/plain": [
       "61.33760212202494"
      ]
     },
     "execution_count": 98,
     "metadata": {},
     "output_type": "execute_result"
    }
   ],
   "source": [
    "np.sqrt(MSE(ytest,reg_tree.predict(Xtest)))\n"
   ]
  },
  {
   "cell_type": "markdown",
   "id": "1d2c113e",
   "metadata": {},
   "source": [
    "- 随机森林，过拟合了已经！"
   ]
  },
  {
   "cell_type": "markdown",
   "id": "1809c59a",
   "metadata": {},
   "source": [
    "- 不论从R方还是MSE的表现，模型都需要经过特征工程优化！！！！！！"
   ]
  },
  {
   "cell_type": "markdown",
   "id": "abc1a14a",
   "metadata": {},
   "source": [
    "### P3.特征工程环节！"
   ]
  },
  {
   "cell_type": "markdown",
   "id": "bfe0793c",
   "metadata": {},
   "source": [
    "    ### S1.一次特征创造&除零错误处理！"
   ]
  },
  {
   "cell_type": "markdown",
   "id": "6b120907",
   "metadata": {},
   "source": [
    "- 基于对游戏的考虑！以下特征可以创造！\n",
    "> - 个人PVP胜率 = PVP胜利次数/PVP次数，无PVP的用户胜率为0\n",
    "> - 主动发起PVP的概率 = 主动发起PVP次数/PVP次数，无PVP的用户主动发起为0\n",
    "> - 玩家发育效率 = 平均资源获取数/在线时长 （该指标高的人擅长游戏）\n",
    "> - 玩家升级效率 = 技能的平均等级/在线时长\n",
    "> - 玩家消费后的发育效率 = 平均资源获取数/7日付费金额\n",
    "> - 玩家消费后的升级效率 = 技能的平均等级/7日付费金额"
   ]
  },
  {
   "cell_type": "markdown",
   "id": "2bea3515",
   "metadata": {},
   "source": [
    "- 基于前面的一些分析性结果发现，统一让低价值玩家用户被标记为0，高价值用户被标记为1，为特征矩阵创造如下新特征：\n",
    "- **高价值玩家**\n",
    "> - 潜力玩家：7日内付费超过6元\n",
    "> - 好战玩家：主动发起PVP概率大于50%\n",
    "\n",
    "- **低价值玩家**\n",
    "> - 佛系玩家：主动发起PVP概率小于20%，或一次也没有参与过PVP\n",
    "> - 肝帝玩家：7日在线时间过长，或资源量巨大但7日内没有付费\n",
    "> - 菜鸡玩家：参与过PVP且个人PVP胜率小于10%\n",
    "> - 流失玩家：7日在线时间过短，或初始资源获取数量小于10000"
   ]
  },
  {
   "cell_type": "code",
   "execution_count": 99,
   "id": "1ac3d6ce",
   "metadata": {},
   "outputs": [],
   "source": [
    "GrowthFeature = [] #发育 - 关于资源的部分\n",
    "for i in X.columns:\n",
    "    if \"招募\" in i:\n",
    "        GrowthFeature.append(i)\n",
    "    elif \"获取\" in i:\n",
    "        GrowthFeature.append(i)\n",
    "LevelUpFeature = [] #等级 - 关于技能的部分\n",
    "for i in X.columns:\n",
    "    if \"建筑\" in i:\n",
    "        LevelUpFeature.append(i)\n",
    "    elif \"科研\" in i:\n",
    "        LevelUpFeature.append(i)\n",
    "X[\"PVP胜率\"] = X[\"PVP胜利次数\"]/X[\"PVP次数\"]\n",
    "X[\"主动发起PVP的概率\"] = X[\"主动发起PVP次数\"]/X[\"PVP次数\"]\n",
    "X[\"玩家发育效率\"] = X.loc[:,GrowthFeature].mean(axis=1)/X[\"在线时长\"]\n",
    "X[\"氪金发育效率\"] = X.loc[:,GrowthFeature].mean(axis=1)/X[\"付费金额\"]\n",
    "X[\"玩家升级效率\"] = X.loc[:,LevelUpFeature].mean(axis=1)/X[\"在线时长\"]\n",
    "X[\"氪金升级效率\"] = X.loc[:,LevelUpFeature].mean(axis=1)/X[\"付费金额\"]\n",
    "\n",
    "\n",
    "for newfeature in [\"PVP胜率\",\"主动发起PVP的概率\",\"玩家发育效率\",\"玩家升级效率\",\"氪金发育效率\",\"氪金升级效率\"]:#避免除零错误\n",
    "    X.loc[X[newfeature].isnull(),newfeature] = 0 #将所有的空值，变为0\n",
    "    X.loc[X[newfeature] == float(\"inf\"), newfeature] = 0 #分母很小的这样的情况"
   ]
  },
  {
   "cell_type": "code",
   "execution_count": 100,
   "id": "768a1015",
   "metadata": {},
   "outputs": [],
   "source": [
    "#高价值玩家特征标注\n",
    "X[\"潜力玩家\"] = (X[\"付费金额\"] >= 5.98).astype(int)\n",
    "X[\"好战玩家\"] = (X[\"主动发起PVP的概率\"] >= 0.5).astype(int)\n",
    "#低价值玩家特征标注\n",
    "X[\"肝帝玩家\"] = (X[\"在线时长\"] > 800).apply(lambda x: not x).astype(int)\n",
    "X[\"佛系玩家\"] = ((X[\"主动发起PVP的概率\"] < 0.2) | (X[\"PVP次数\"] == 0)).apply(lambda x: not x).astype(int)\n",
    "X[\"菜鸡玩家\"] = ((X[\"PVP胜率\"]< 0.1) & (X[\"PVP次数\"] != 0)).apply(lambda x: not x).astype(int)\n",
    "X[\"流失玩家\"] = ((X[\"在线时长\"] <= 15) | (X[\"木头获取数量\"] <= 10000)).apply(lambda x: not x).astype(int)"
   ]
  },
  {
   "cell_type": "code",
   "execution_count": 101,
   "id": "17afc816",
   "metadata": {},
   "outputs": [
    {
     "data": {
      "text/html": [
       "<div>\n",
       "<style scoped>\n",
       "    .dataframe tbody tr th:only-of-type {\n",
       "        vertical-align: middle;\n",
       "    }\n",
       "\n",
       "    .dataframe tbody tr th {\n",
       "        vertical-align: top;\n",
       "    }\n",
       "\n",
       "    .dataframe thead th {\n",
       "        text-align: right;\n",
       "    }\n",
       "</style>\n",
       "<table border=\"1\" class=\"dataframe\">\n",
       "  <thead>\n",
       "    <tr style=\"text-align: right;\">\n",
       "      <th>字段解释</th>\n",
       "      <th>木头获取数量</th>\n",
       "      <th>木头消耗数量</th>\n",
       "      <th>石头获取数量</th>\n",
       "      <th>石头消耗数量</th>\n",
       "      <th>象牙获取数量</th>\n",
       "      <th>象牙消耗数量</th>\n",
       "      <th>肉获取数量</th>\n",
       "      <th>肉消耗数量</th>\n",
       "      <th>魔法获取数量</th>\n",
       "      <th>魔法消耗数量</th>\n",
       "      <th>...</th>\n",
       "      <th>玩家发育效率</th>\n",
       "      <th>氪金发育效率</th>\n",
       "      <th>玩家升级效率</th>\n",
       "      <th>氪金升级效率</th>\n",
       "      <th>潜力玩家</th>\n",
       "      <th>好战玩家</th>\n",
       "      <th>肝帝玩家</th>\n",
       "      <th>佛系玩家</th>\n",
       "      <th>菜鸡玩家</th>\n",
       "      <th>流失玩家</th>\n",
       "    </tr>\n",
       "  </thead>\n",
       "  <tbody>\n",
       "    <tr>\n",
       "      <th>0</th>\n",
       "      <td>20125</td>\n",
       "      <td>3700</td>\n",
       "      <td>0</td>\n",
       "      <td>0</td>\n",
       "      <td>0</td>\n",
       "      <td>0</td>\n",
       "      <td>16375</td>\n",
       "      <td>2000</td>\n",
       "      <td>0</td>\n",
       "      <td>0</td>\n",
       "      <td>...</td>\n",
       "      <td>8446.162</td>\n",
       "      <td>0.000</td>\n",
       "      <td>2.261</td>\n",
       "      <td>0.000</td>\n",
       "      <td>0</td>\n",
       "      <td>0</td>\n",
       "      <td>1</td>\n",
       "      <td>0</td>\n",
       "      <td>1</td>\n",
       "      <td>0</td>\n",
       "    </tr>\n",
       "    <tr>\n",
       "      <th>1</th>\n",
       "      <td>0</td>\n",
       "      <td>0</td>\n",
       "      <td>0</td>\n",
       "      <td>0</td>\n",
       "      <td>0</td>\n",
       "      <td>0</td>\n",
       "      <td>0</td>\n",
       "      <td>0</td>\n",
       "      <td>0</td>\n",
       "      <td>0</td>\n",
       "      <td>...</td>\n",
       "      <td>0.000</td>\n",
       "      <td>0.000</td>\n",
       "      <td>0.000</td>\n",
       "      <td>0.000</td>\n",
       "      <td>0</td>\n",
       "      <td>0</td>\n",
       "      <td>1</td>\n",
       "      <td>0</td>\n",
       "      <td>1</td>\n",
       "      <td>0</td>\n",
       "    </tr>\n",
       "    <tr>\n",
       "      <th>2</th>\n",
       "      <td>0</td>\n",
       "      <td>0</td>\n",
       "      <td>0</td>\n",
       "      <td>0</td>\n",
       "      <td>0</td>\n",
       "      <td>0</td>\n",
       "      <td>0</td>\n",
       "      <td>0</td>\n",
       "      <td>0</td>\n",
       "      <td>0</td>\n",
       "      <td>...</td>\n",
       "      <td>0.000</td>\n",
       "      <td>0.000</td>\n",
       "      <td>0.000</td>\n",
       "      <td>0.000</td>\n",
       "      <td>0</td>\n",
       "      <td>0</td>\n",
       "      <td>1</td>\n",
       "      <td>0</td>\n",
       "      <td>1</td>\n",
       "      <td>0</td>\n",
       "    </tr>\n",
       "    <tr>\n",
       "      <th>3</th>\n",
       "      <td>0</td>\n",
       "      <td>0</td>\n",
       "      <td>0</td>\n",
       "      <td>0</td>\n",
       "      <td>0</td>\n",
       "      <td>0</td>\n",
       "      <td>0</td>\n",
       "      <td>0</td>\n",
       "      <td>0</td>\n",
       "      <td>0</td>\n",
       "      <td>...</td>\n",
       "      <td>0.000</td>\n",
       "      <td>0.000</td>\n",
       "      <td>0.000</td>\n",
       "      <td>0.000</td>\n",
       "      <td>0</td>\n",
       "      <td>0</td>\n",
       "      <td>1</td>\n",
       "      <td>0</td>\n",
       "      <td>1</td>\n",
       "      <td>0</td>\n",
       "    </tr>\n",
       "    <tr>\n",
       "      <th>4</th>\n",
       "      <td>0</td>\n",
       "      <td>0</td>\n",
       "      <td>0</td>\n",
       "      <td>0</td>\n",
       "      <td>0</td>\n",
       "      <td>0</td>\n",
       "      <td>0</td>\n",
       "      <td>0</td>\n",
       "      <td>0</td>\n",
       "      <td>0</td>\n",
       "      <td>...</td>\n",
       "      <td>0.000</td>\n",
       "      <td>0.000</td>\n",
       "      <td>0.000</td>\n",
       "      <td>0.000</td>\n",
       "      <td>0</td>\n",
       "      <td>0</td>\n",
       "      <td>1</td>\n",
       "      <td>0</td>\n",
       "      <td>1</td>\n",
       "      <td>0</td>\n",
       "    </tr>\n",
       "  </tbody>\n",
       "</table>\n",
       "<p>5 rows × 119 columns</p>\n",
       "</div>"
      ],
      "text/plain": [
       "字段解释  木头获取数量  木头消耗数量  石头获取数量  石头消耗数量  象牙获取数量  象牙消耗数量  肉获取数量  肉消耗数量  魔法获取数量  \\\n",
       "0      20125    3700       0       0       0       0  16375   2000       0   \n",
       "1          0       0       0       0       0       0      0      0       0   \n",
       "2          0       0       0       0       0       0      0      0       0   \n",
       "3          0       0       0       0       0       0      0      0       0   \n",
       "4          0       0       0       0       0       0      0      0       0   \n",
       "\n",
       "字段解释  魔法消耗数量  ...   玩家发育效率  氪金发育效率  玩家升级效率  氪金升级效率  潜力玩家  好战玩家  肝帝玩家  佛系玩家  \\\n",
       "0          0  ... 8446.162   0.000   2.261   0.000     0     0     1     0   \n",
       "1          0  ...    0.000   0.000   0.000   0.000     0     0     1     0   \n",
       "2          0  ...    0.000   0.000   0.000   0.000     0     0     1     0   \n",
       "3          0  ...    0.000   0.000   0.000   0.000     0     0     1     0   \n",
       "4          0  ...    0.000   0.000   0.000   0.000     0     0     1     0   \n",
       "\n",
       "字段解释  菜鸡玩家  流失玩家  \n",
       "0        1     0  \n",
       "1        1     0  \n",
       "2        1     0  \n",
       "3        1     0  \n",
       "4        1     0  \n",
       "\n",
       "[5 rows x 119 columns]"
      ]
     },
     "execution_count": 101,
     "metadata": {},
     "output_type": "execute_result"
    }
   ],
   "source": [
    "X.head()"
   ]
  },
  {
   "cell_type": "markdown",
   "id": "10d13c56",
   "metadata": {},
   "source": [
    "    ### S2.特征层面的相关系数"
   ]
  },
  {
   "cell_type": "code",
   "execution_count": 102,
   "id": "63e12d64",
   "metadata": {},
   "outputs": [
    {
     "name": "stdout",
     "output_type": "stream",
     "text": [
      "实际中删除特征的办法慎用，这里暂考虑不删除\n"
     ]
    },
    {
     "data": {
      "text/html": [
       "<div>\n",
       "<style scoped>\n",
       "    .dataframe tbody tr th:only-of-type {\n",
       "        vertical-align: middle;\n",
       "    }\n",
       "\n",
       "    .dataframe tbody tr th {\n",
       "        vertical-align: top;\n",
       "    }\n",
       "\n",
       "    .dataframe thead th {\n",
       "        text-align: right;\n",
       "    }\n",
       "</style>\n",
       "<table border=\"1\" class=\"dataframe\">\n",
       "  <thead>\n",
       "    <tr style=\"text-align: right;\">\n",
       "      <th></th>\n",
       "      <th>特征</th>\n",
       "      <th>相关系数</th>\n",
       "    </tr>\n",
       "  </thead>\n",
       "  <tbody>\n",
       "    <tr>\n",
       "      <th>104</th>\n",
       "      <td>付费金额</td>\n",
       "      <td>0.779</td>\n",
       "    </tr>\n",
       "    <tr>\n",
       "      <th>4</th>\n",
       "      <td>象牙获取数量</td>\n",
       "      <td>0.688</td>\n",
       "    </tr>\n",
       "    <tr>\n",
       "      <th>5</th>\n",
       "      <td>象牙消耗数量</td>\n",
       "      <td>0.678</td>\n",
       "    </tr>\n",
       "    <tr>\n",
       "      <th>28</th>\n",
       "      <td>训练加速获取数量</td>\n",
       "      <td>0.670</td>\n",
       "    </tr>\n",
       "    <tr>\n",
       "      <th>2</th>\n",
       "      <td>石头获取数量</td>\n",
       "      <td>0.668</td>\n",
       "    </tr>\n",
       "    <tr>\n",
       "      <th>22</th>\n",
       "      <td>通用加速获取数量</td>\n",
       "      <td>0.668</td>\n",
       "    </tr>\n",
       "    <tr>\n",
       "      <th>0</th>\n",
       "      <td>木头获取数量</td>\n",
       "      <td>0.664</td>\n",
       "    </tr>\n",
       "    <tr>\n",
       "      <th>3</th>\n",
       "      <td>石头消耗数量</td>\n",
       "      <td>0.655</td>\n",
       "    </tr>\n",
       "    <tr>\n",
       "      <th>1</th>\n",
       "      <td>木头消耗数量</td>\n",
       "      <td>0.650</td>\n",
       "    </tr>\n",
       "    <tr>\n",
       "      <th>27</th>\n",
       "      <td>科研加速使用数量</td>\n",
       "      <td>0.635</td>\n",
       "    </tr>\n",
       "  </tbody>\n",
       "</table>\n",
       "</div>"
      ],
      "text/plain": [
       "           特征  相关系数\n",
       "104      付费金额 0.779\n",
       "4      象牙获取数量 0.688\n",
       "5      象牙消耗数量 0.678\n",
       "28   训练加速获取数量 0.670\n",
       "2      石头获取数量 0.668\n",
       "22   通用加速获取数量 0.668\n",
       "0      木头获取数量 0.664\n",
       "3      石头消耗数量 0.655\n",
       "1      木头消耗数量 0.650\n",
       "27   科研加速使用数量 0.635"
      ]
     },
     "execution_count": 102,
     "metadata": {},
     "output_type": "execute_result"
    }
   ],
   "source": [
    "feature_corr_data = pd.DataFrame() \n",
    "for idx, column in enumerate(X.columns):\n",
    "    corr_ = pd.concat([y,X.loc[:,column]],axis=1).corr().iloc[0,1] #每一列我计算这一列与标签的相关系数\n",
    "    feature_corr_data.loc[idx,\"特征\"] = column\n",
    "    feature_corr_data.loc[idx,\"相关系数\"] = corr_\n",
    "print(\"实际中删除特征的办法慎用，这里暂考虑不删除\")\n",
    "feature_corr_data.sort_values(\"相关系数\",ascending = False).head(10)\n"
   ]
  },
  {
   "cell_type": "markdown",
   "id": "dba36e43",
   "metadata": {},
   "source": [
    "    ### S3.训练集测试集的比例划分调整"
   ]
  },
  {
   "cell_type": "markdown",
   "id": "841d026b",
   "metadata": {},
   "source": [
    "由于之前默认过分两集合都是37开，这个比例也会影响结果"
   ]
  },
  {
   "cell_type": "code",
   "execution_count": 103,
   "id": "514494ce",
   "metadata": {},
   "outputs": [
    {
     "name": "stdout",
     "output_type": "stream",
     "text": [
      "计算完毕！\n",
      "计算完毕！\n",
      "计算完毕！\n",
      "计算完毕！\n"
     ]
    },
    {
     "data": {
      "image/png": "[encoded data removed]",
      "text/plain": [
       "<Figure size 576x432 with 1 Axes>"
      ]
     },
     "metadata": {
      "needs_background": "light"
     },
     "output_type": "display_data"
    }
   ],
   "source": [
    "trainR2 = [] #训练集上的R2\n",
    "testR2 = [] #测试集上的R2\n",
    "testRMSE = [] #测试集上的RMSE\n",
    "for i in [0.2,0.3,0.4,0.5]:\n",
    "    Xtrain, Xtest, ytrain, ytest = train_test_split(X,y,test_size=i,random_state=0)\n",
    "    model = LR().fit(Xtrain,ytrain)\n",
    "    trainR2.append(model.score(Xtrain,ytrain))\n",
    "    testR2.append(model.score(Xtest,ytest))\n",
    "    testRMSE.append(np.sqrt(MSE(ytest,model.predict(Xtest))))\n",
    "    print(\"计算完毕！\")\n",
    "plt.figure(figsize=(8,6))\n",
    "plt.plot(trainR2,label=\"trainR2\")\n",
    "plt.plot(testR2,label=\"testR2\")\n",
    "plt.xticks(ticks=[0,1,2,3],labels=[0.2,0.3,0.4,0.5])\n",
    "plt.legend();"
   ]
  },
  {
   "cell_type": "code",
   "execution_count": 104,
   "id": "517fa9d2",
   "metadata": {},
   "outputs": [
    {
     "name": "stdout",
     "output_type": "stream",
     "text": [
      "这线性回归太不给力了。。。欠拟合。。。不过可以看到0.4这个比例，分数RMSE均方根最低\n"
     ]
    },
    {
     "data": {
      "image/png": "[encoded data removed]",
      "text/plain": [
       "<Figure size 576x432 with 1 Axes>"
      ]
     },
     "metadata": {
      "needs_background": "light"
     },
     "output_type": "display_data"
    }
   ],
   "source": [
    "plt.figure(figsize=(8,6))\n",
    "plt.plot(testRMSE)\n",
    "plt.xticks(ticks=[0,1,2,3],labels=[0.2,0.3,0.4,0.5]);\n",
    "print(\"这线性回归太不给力了。。。欠拟合。。。不过可以看到0.4这个比例，分数RMSE均方根最低\")"
   ]
  },
  {
   "cell_type": "code",
   "execution_count": 105,
   "id": "1e13bb4c",
   "metadata": {},
   "outputs": [
    {
     "name": "stdout",
     "output_type": "stream",
     "text": [
      "重划分！\n"
     ]
    }
   ],
   "source": [
    "print(\"重划分！\")\n",
    "Xtrain, Xtest, ytrain, ytest = train_test_split(X,y,test_size=0.4,random_state=0)\n",
    "ytrain = pd.DataFrame(ytrain)\n",
    "ytest = pd.DataFrame(ytest)\n",
    "ytrain.index = Xtrain.index\n",
    "ytest.index = Xtest.index\n"
   ]
  },
  {
   "cell_type": "markdown",
   "id": "71ef9e6d",
   "metadata": {},
   "source": [
    "    ### S4.异常数据处理！——Block"
   ]
  },
  {
   "cell_type": "code",
   "execution_count": 106,
   "id": "ff3e600b",
   "metadata": {},
   "outputs": [
    {
     "name": "stdout",
     "output_type": "stream",
     "text": [
      "训练集和测试集都要分开处理，切记！！\n"
     ]
    }
   ],
   "source": [
    "import warnings #消除警告的代码\n",
    "warnings.filterwarnings('ignore')\n",
    "warnings.simplefilter('ignore')\n",
    "print(\"训练集和测试集都要分开处理，切记！！\")\n",
    "def AbnormalReplace(Xtrain,Xtest):\n",
    "    #对7日内没付过费的用户，替换所有异常值为当前特征的中位数或者0\n",
    "    Xtrain_ = Xtrain.copy()\n",
    "    Xtest_ = Xtest.copy()\n",
    "    for column in Xtrain_.columns:\n",
    "        #提取当前要检测的列\n",
    "        f_train = Xtrain_.loc[:,column]\n",
    "        f_test = Xtest_.loc[:,column]\n",
    "        #从训练集中计算出QL、QU、IQR、中位数\n",
    "        QL = np.quantile(f_train,0.25)\n",
    "        QU = np.quantile(f_train,0.75)\n",
    "        IQR = QU - QL\n",
    "        medium_train = f_train.median()\n",
    "        medium_test = f_test.median()\n",
    "        #对训练集和测试集同时进行检测，得到True/False列表\n",
    "        errortrain = ((f_train < (QL - 1.5*IQR)).astype(int) + (f_train > (QU + 1.5*IQR)).astype(int)) != 0\n",
    "        errortest = ((f_test < (QL - 1.5*IQR)).astype(int) + (f_test > (QU + 1.5*IQR)).astype(int)) != 0\n",
    "        #将原矩阵中的异常值替换为中位数，主题排除7日付费用户\n",
    "        #如果效果不够强烈，试试看替换为0\n",
    "        Xtrain_.loc[((Xtrain_[\"付费金额\"]==0).values & errortrain.values),column] = 0 #也可以考虑用代替，换成medium_\n",
    "        Xtest_.loc[((Xtest_[\"付费金额\"]==0).values & errortest.values),column] = 0\n",
    "    return Xtrain_, Xtest_"
   ]
  },
  {
   "cell_type": "code",
   "execution_count": 107,
   "id": "cdf81762",
   "metadata": {},
   "outputs": [
    {
     "data": {
      "text/plain": [
       "count       629145.000\n",
       "mean        454495.435\n",
       "std        5548033.402\n",
       "min              0.000\n",
       "25%              0.000\n",
       "50%          39371.000\n",
       "75%         149668.000\n",
       "max     1203395293.000\n",
       "Name: 木头获取数量, dtype: float64"
      ]
     },
     "execution_count": 107,
     "metadata": {},
     "output_type": "execute_result"
    }
   ],
   "source": [
    "Xtrain[\"木头获取数量\"].describe()"
   ]
  },
  {
   "cell_type": "code",
   "execution_count": 108,
   "id": "bcc4b9c0",
   "metadata": {},
   "outputs": [
    {
     "name": "stdout",
     "output_type": "stream",
     "text": [
      "分位点明显变化了，偏向趋势弱了一点，正常一点\n"
     ]
    },
    {
     "data": {
      "text/plain": [
       "count       629145.000\n",
       "mean        255179.116\n",
       "std        5489714.100\n",
       "min              0.000\n",
       "25%              0.000\n",
       "50%          10000.000\n",
       "75%          94992.000\n",
       "max     1203395293.000\n",
       "Name: 木头获取数量, dtype: float64"
      ]
     },
     "execution_count": 108,
     "metadata": {},
     "output_type": "execute_result"
    }
   ],
   "source": [
    "xtrain, xtest = AbnormalReplace(Xtrain,Xtest) #为了保留原始的Xtrain和Xtest，新生成的值写作小写\n",
    "print(\"分位点明显变化了，偏向趋势弱了一点，正常一点\")\n",
    "xtrain[\"木头获取数量\"].describe() "
   ]
  },
  {
   "cell_type": "markdown",
   "id": "f604a78d",
   "metadata": {},
   "source": [
    "    ### S5.异常数据处理！——是否需要量纲统一？——先做个统一的留着！"
   ]
  },
  {
   "cell_type": "code",
   "execution_count": 109,
   "id": "36502a29",
   "metadata": {},
   "outputs": [],
   "source": [
    "mm = MinMaxScaler(feature_range = [0,1]) #实例化，[0,1]\n",
    "mm_train = mm.fit(xtrain) \n",
    "xtrain = mm_train.transform(xtrain) #使用训练集上的最小值和最大值对训练集/测试集同时进行归一化\n",
    "xtest = mm_train.transform(xtest)\n"
   ]
  },
  {
   "cell_type": "markdown",
   "id": "02f0d941",
   "metadata": {},
   "source": [
    "# C3.模型考虑是否融合？"
   ]
  },
  {
   "cell_type": "markdown",
   "id": "81e65b05",
   "metadata": {},
   "source": [
    "### P1.模型融合——为了处理极度偏态的数据影响效应"
   ]
  },
  {
   "cell_type": "markdown",
   "id": "365f695a",
   "metadata": {},
   "source": [
    "- 在之前的特征处理中，已经对异常值进行过“盖帽”处理；并在特征中增加认为可以让玩家是否消费区别更明显的特征；\n",
    "- 但直接让单一模型对玩家是否消费以及消费数额进行预测是非常困难的；\n",
    "- 故在此可以使用2个模型进行融合预测，第一个模型是分类模型逻辑回归，让逻辑回归先对玩家进行是否消费的预测，\n",
    "- 然后将逻辑回归认为会消费的玩家放入线性回归，再让线性回归直接对“本来就很可能会消费”的玩家进行金额预测。"
   ]
  },
  {
   "cell_type": "markdown",
   "id": "8c570a66",
   "metadata": {},
   "source": [
    "    ### S1.逻辑回归预测玩家用户是否会消费！"
   ]
  },
  {
   "cell_type": "code",
   "execution_count": 110,
   "id": "fe067f03",
   "metadata": {},
   "outputs": [
    {
     "name": "stdout",
     "output_type": "stream",
     "text": [
      "所有在45日消费的玩家转化为1，不消费的转化为0\n"
     ]
    }
   ],
   "source": [
    "print('所有在45日消费的玩家转化为1，不消费的转化为0')\n",
    "y2 = (y != 0).astype(int) #"
   ]
  },
  {
   "cell_type": "code",
   "execution_count": 111,
   "id": "39ea1dc5",
   "metadata": {},
   "outputs": [
    {
     "data": {
      "text/plain": [
       "0    1027372\n",
       "1      21203\n",
       "Name: 45日付费金额, dtype: int64"
      ]
     },
     "execution_count": 111,
     "metadata": {},
     "output_type": "execute_result"
    }
   ],
   "source": [
    "y2.value_counts() "
   ]
  },
  {
   "cell_type": "code",
   "execution_count": 112,
   "id": "361f59b0",
   "metadata": {},
   "outputs": [
    {
     "name": "stdout",
     "output_type": "stream",
     "text": [
      "注意与原来的索引位一一对应！\n"
     ]
    }
   ],
   "source": [
    "print(\"注意与原来的索引位一一对应！\")\n",
    "ytrain2 = y2[Xtrain.index] #\n",
    "ytest2 = y2[Xtest.index]"
   ]
  },
  {
   "cell_type": "code",
   "execution_count": 113,
   "id": "9be5ce78",
   "metadata": {},
   "outputs": [
    {
     "data": {
      "text/plain": [
       "LogisticRegression(random_state=0)"
      ]
     },
     "execution_count": 113,
     "metadata": {},
     "output_type": "execute_result"
    }
   ],
   "source": [
    "clf_logi = LogiR(random_state = 0)\n",
    "clf_logi.fit(xtrain,ytrain2) #训练，使用经过标准化特征工程的特征矩阵xtrain"
   ]
  },
  {
   "cell_type": "code",
   "execution_count": 114,
   "id": "f4a3d6cf",
   "metadata": {},
   "outputs": [
    {
     "data": {
      "text/plain": [
       "0.9966168371361133"
      ]
     },
     "execution_count": 114,
     "metadata": {},
     "output_type": "execute_result"
    }
   ],
   "source": [
    "clf_logi.score(xtest,ytest2) #逻辑回归在测试集上预测玩家是否消费的准确率"
   ]
  },
  {
   "cell_type": "code",
   "execution_count": 115,
   "id": "5ecc0481",
   "metadata": {},
   "outputs": [
    {
     "data": {
      "text/plain": [
       "array([[0.99812175, 0.00187825],\n",
       "       [0.99832358, 0.00167642],\n",
       "       [0.99791012, 0.00208988],\n",
       "       ...,\n",
       "       [0.99578817, 0.00421183],\n",
       "       [0.99729458, 0.00270542],\n",
       "       [0.99810781, 0.00189219]])"
      ]
     },
     "execution_count": 115,
     "metadata": {},
     "output_type": "execute_result"
    }
   ],
   "source": [
    "clf_logi.predict_proba(xtest)#逻辑回归在测试集上每一个样本0-1的概率"
   ]
  },
  {
   "cell_type": "code",
   "execution_count": 116,
   "id": "4b1067b0",
   "metadata": {},
   "outputs": [
    {
     "name": "stdout",
     "output_type": "stream",
     "text": [
      "这个ROC有点高啊\n"
     ]
    },
    {
     "data": {
      "text/plain": [
       "0.9612180296251256"
      ]
     },
     "execution_count": 116,
     "metadata": {},
     "output_type": "execute_result"
    },
    {
     "data": {
      "image/png": "[encoded data removed]",
      "text/plain": [
       "<Figure size 720x432 with 1 Axes>"
      ]
     },
     "metadata": {
      "needs_background": "light"
     },
     "output_type": "display_data"
    }
   ],
   "source": [
    "print(\"这个ROC有点高啊\")\n",
    "skplt.metrics.plot_roc(ytest2,clf_logi.predict_proba(xtest),plot_micro=False,plot_macro=False,figsize=(10,6))\n",
    "# skplt.metrics.plot_roc_curve(ytest2,clf_logi.predict_proba(xtest),figsize=(10,6),curves=('micro', 'macro', 'each_class'))\n",
    "roc_auc_score(ytest2,clf_logi.predict_proba(xtest)[:,1])"
   ]
  },
  {
   "cell_type": "markdown",
   "id": "f40dfc3a",
   "metadata": {},
   "source": [
    "逻辑回归的结果出乎意料地好，能够在样本不均衡如此严重的情况下达到0.96的ROC，证明逻辑回归对于预测用户是否消费非常适配。"
   ]
  },
  {
   "cell_type": "markdown",
   "id": "58df04b6",
   "metadata": {},
   "source": [
    "    ### S2.调节阈值提升Recall，找出更多会消费的玩家，不丢掉一个人！"
   ]
  },
  {
   "cell_type": "code",
   "execution_count": 117,
   "id": "d7a39461",
   "metadata": {},
   "outputs": [
    {
     "name": "stdout",
     "output_type": "stream",
     "text": [
      "默认逻辑回归是按照0.5做01划分\n"
     ]
    },
    {
     "data": {
      "text/plain": [
       "6990"
      ]
     },
     "execution_count": 117,
     "metadata": {},
     "output_type": "execute_result"
    }
   ],
   "source": [
    "print(\"默认逻辑回归是按照0.5做01划分\")\n",
    "y2_proba = clf_logi.predict_proba(xtest) \n",
    "(y2_proba[:,1] > 0.5).sum()"
   ]
  },
  {
   "cell_type": "code",
   "execution_count": 118,
   "id": "a7eac16c",
   "metadata": {},
   "outputs": [
    {
     "name": "stdout",
     "output_type": "stream",
     "text": [
      "实际有过消费的玩家！\n"
     ]
    },
    {
     "data": {
      "text/plain": [
       "45日付费金额    8409\n",
       "dtype: int64"
      ]
     },
     "execution_count": 118,
     "metadata": {},
     "output_type": "execute_result"
    }
   ],
   "source": [
    "print(\"实际有过消费的玩家！\")\n",
    "(ytest != 0).sum()"
   ]
  },
  {
   "cell_type": "markdown",
   "id": "e73779c0",
   "metadata": {},
   "source": [
    "- 有许多消费的玩家被逻辑回归分类到“不会消费”的类别中，RMSE误差的主要来源就是\n",
    "- **没有被逻辑回归包括的消费的玩家的消费金额 + 被逻辑回归预测到消费一类、受线性回归预测后的金额差异**。\n",
    "- 如果希望逻辑回归能够捕捉到所有真实氪金的玩家用户，为此即便误伤一些没有氪金的用户，那就要努力提升Recall，此时RMSE的主要来源就是**被逻辑回归误认为是会消费的玩家的但最终没有消费的玩家在线性回归中的预测值 + 全部真实消费的玩家经过线性回归预测后的金额差异（状况B）**。注意该状况下需要线性回归预测的值会更多。"
   ]
  },
  {
   "cell_type": "code",
   "execution_count": 119,
   "id": "d561fd5f",
   "metadata": {},
   "outputs": [
    {
     "name": "stdout",
     "output_type": "stream",
     "text": [
      "尝试手动修改被判断为1的阈值\n"
     ]
    },
    {
     "data": {
      "text/plain": [
       "array([0, 0, 0, ..., 0, 0, 0])"
      ]
     },
     "execution_count": 119,
     "metadata": {},
     "output_type": "execute_result"
    }
   ],
   "source": [
    "print(\"尝试手动修改被判断为1的阈值\")\n",
    "prob = y2_proba[:,1]\n",
    "(prob > 0.3).astype(int) #阈值为0.3下的预测标签"
   ]
  },
  {
   "cell_type": "code",
   "execution_count": 120,
   "id": "2ca9b551",
   "metadata": {},
   "outputs": [
    {
     "name": "stdout",
     "output_type": "stream",
     "text": [
      "在0~0.5中循环20个阈值备选数\n",
      "0.000 Recall:1.000\n",
      "0.025 Recall:0.880\n",
      "0.050 Recall:0.851\n",
      "0.075 Recall:0.843\n",
      "0.100 Recall:0.842\n",
      "0.125 Recall:0.841\n",
      "0.150 Recall:0.840\n",
      "0.175 Recall:0.840\n",
      "0.200 Recall:0.839\n",
      "0.225 Recall:0.838\n",
      "0.250 Recall:0.838\n",
      "0.275 Recall:0.837\n",
      "0.300 Recall:0.836\n",
      "0.325 Recall:0.836\n",
      "0.350 Recall:0.835\n",
      "0.375 Recall:0.834\n",
      "0.400 Recall:0.833\n",
      "0.425 Recall:0.833\n",
      "0.450 Recall:0.832\n",
      "0.475 Recall:0.832\n",
      "0.500 Recall:0.831\n"
     ]
    }
   ],
   "source": [
    "print(\"在0~0.5中循环20个阈值备选数\")\n",
    "for tol in np.linspace(0,0.5,21):\n",
    "    pred = (prob >= tol).astype(int)\n",
    "    recall = recall_score(ytest2,pred)\n",
    "    print(\"{:.3f} Recall:{:.3f}\".format(tol,recall))\n"
   ]
  },
  {
   "cell_type": "code",
   "execution_count": 121,
   "id": "d456d055",
   "metadata": {},
   "outputs": [
    {
     "name": "stdout",
     "output_type": "stream",
     "text": [
      "0.000 Recall:1.000\n",
      "0.001 Recall:0.997\n",
      "0.003 Recall:0.953\n",
      "0.004 Recall:0.930\n",
      "0.005 Recall:0.918\n",
      "0.007 Recall:0.912\n",
      "0.008 Recall:0.906\n",
      "0.009 Recall:0.901\n",
      "0.011 Recall:0.896\n",
      "0.012 Recall:0.893\n",
      "0.013 Recall:0.890\n",
      "0.014 Recall:0.889\n",
      "0.016 Recall:0.888\n",
      "0.017 Recall:0.887\n",
      "0.018 Recall:0.886\n",
      "0.020 Recall:0.885\n",
      "0.021 Recall:0.884\n",
      "0.022 Recall:0.883\n",
      "0.024 Recall:0.881\n",
      "0.025 Recall:0.880\n"
     ]
    }
   ],
   "source": [
    "for tol in np.linspace(0,0.025,20): #在0~0.026之间再选择一个更小的阈值\n",
    "    pred = (prob >= tol).astype(int)\n",
    "    recall = recall_score(ytest2,pred)\n",
    "    print(\"{:.3f} Recall:{:.3f}\".format(tol,recall))\n",
    "    "
   ]
  },
  {
   "cell_type": "code",
   "execution_count": 122,
   "id": "2145fa1e",
   "metadata": {},
   "outputs": [
    {
     "name": "stdout",
     "output_type": "stream",
     "text": [
      "可以看到0.016左右,recall变化明显！\n"
     ]
    },
    {
     "data": {
      "text/plain": [
       "15465"
      ]
     },
     "execution_count": 122,
     "metadata": {},
     "output_type": "execute_result"
    }
   ],
   "source": [
    "print(\"可以看到0.016左右,recall变化明显！\")\n",
    "tol_level = 0.016 \n",
    "(y2_proba[:,1] >= tol_level).sum()"
   ]
  },
  {
   "cell_type": "code",
   "execution_count": 123,
   "id": "ee825743",
   "metadata": {},
   "outputs": [
    {
     "data": {
      "text/plain": [
       "23485"
      ]
     },
     "execution_count": 123,
     "metadata": {},
     "output_type": "execute_result"
    }
   ],
   "source": [
    "#训练集中的多少样本被预测为1\n",
    "(clf_logi.predict_proba(xtrain)[:,1] >= tol_level).sum()"
   ]
  },
  {
   "cell_type": "code",
   "execution_count": 124,
   "id": "4ccbde31",
   "metadata": {},
   "outputs": [
    {
     "name": "stdout",
     "output_type": "stream",
     "text": [
      "按照测试集原来的索引位，将原来被预测为1的概率，和按照新阈值0.016标记以后的概率做好标记\n"
     ]
    },
    {
     "data": {
      "text/html": [
       "<div>\n",
       "<style scoped>\n",
       "    .dataframe tbody tr th:only-of-type {\n",
       "        vertical-align: middle;\n",
       "    }\n",
       "\n",
       "    .dataframe tbody tr th {\n",
       "        vertical-align: top;\n",
       "    }\n",
       "\n",
       "    .dataframe thead th {\n",
       "        text-align: right;\n",
       "    }\n",
       "</style>\n",
       "<table border=\"1\" class=\"dataframe\">\n",
       "  <thead>\n",
       "    <tr style=\"text-align: right;\">\n",
       "      <th></th>\n",
       "      <th>logi_proba</th>\n",
       "      <th>logi_y_pred</th>\n",
       "    </tr>\n",
       "  </thead>\n",
       "  <tbody>\n",
       "    <tr>\n",
       "      <th>875680</th>\n",
       "      <td>0.002</td>\n",
       "      <td>0</td>\n",
       "    </tr>\n",
       "    <tr>\n",
       "      <th>1046906</th>\n",
       "      <td>0.002</td>\n",
       "      <td>0</td>\n",
       "    </tr>\n",
       "    <tr>\n",
       "      <th>646861</th>\n",
       "      <td>0.002</td>\n",
       "      <td>0</td>\n",
       "    </tr>\n",
       "    <tr>\n",
       "      <th>704385</th>\n",
       "      <td>0.005</td>\n",
       "      <td>0</td>\n",
       "    </tr>\n",
       "    <tr>\n",
       "      <th>798051</th>\n",
       "      <td>0.002</td>\n",
       "      <td>0</td>\n",
       "    </tr>\n",
       "  </tbody>\n",
       "</table>\n",
       "</div>"
      ],
      "text/plain": [
       "         logi_proba  logi_y_pred\n",
       "875680        0.002            0\n",
       "1046906       0.002            0\n",
       "646861        0.002            0\n",
       "704385        0.005            0\n",
       "798051        0.002            0"
      ]
     },
     "execution_count": 124,
     "metadata": {},
     "output_type": "execute_result"
    }
   ],
   "source": [
    "print(\"按照测试集原来的索引位，将原来被预测为1的概率，和按照新阈值0.016标记以后的概率做好标记\")\n",
    "logi_test_result = pd.DataFrame(y2_proba[:,1],index=Xtest.index)\n",
    "logi_test_result.columns = [\"logi_proba\"]\n",
    "logi_test_result[\"logi_y_pred\"] = (logi_test_result[\"logi_proba\"] >= tol_level).astype(int)\n",
    "logi_test_result.head()"
   ]
  },
  {
   "cell_type": "code",
   "execution_count": 125,
   "id": "d938ce1f",
   "metadata": {},
   "outputs": [
    {
     "name": "stdout",
     "output_type": "stream",
     "text": [
      "同样处理训练集！！！\n"
     ]
    },
    {
     "data": {
      "text/html": [
       "<div>\n",
       "<style scoped>\n",
       "    .dataframe tbody tr th:only-of-type {\n",
       "        vertical-align: middle;\n",
       "    }\n",
       "\n",
       "    .dataframe tbody tr th {\n",
       "        vertical-align: top;\n",
       "    }\n",
       "\n",
       "    .dataframe thead th {\n",
       "        text-align: right;\n",
       "    }\n",
       "</style>\n",
       "<table border=\"1\" class=\"dataframe\">\n",
       "  <thead>\n",
       "    <tr style=\"text-align: right;\">\n",
       "      <th></th>\n",
       "      <th>logi_proba</th>\n",
       "      <th>logi_y_pred</th>\n",
       "    </tr>\n",
       "  </thead>\n",
       "  <tbody>\n",
       "    <tr>\n",
       "      <th>255696</th>\n",
       "      <td>0.002</td>\n",
       "      <td>0</td>\n",
       "    </tr>\n",
       "    <tr>\n",
       "      <th>361162</th>\n",
       "      <td>0.007</td>\n",
       "      <td>0</td>\n",
       "    </tr>\n",
       "    <tr>\n",
       "      <th>647896</th>\n",
       "      <td>0.011</td>\n",
       "      <td>0</td>\n",
       "    </tr>\n",
       "    <tr>\n",
       "      <th>255552</th>\n",
       "      <td>0.008</td>\n",
       "      <td>0</td>\n",
       "    </tr>\n",
       "    <tr>\n",
       "      <th>970897</th>\n",
       "      <td>0.003</td>\n",
       "      <td>0</td>\n",
       "    </tr>\n",
       "  </tbody>\n",
       "</table>\n",
       "</div>"
      ],
      "text/plain": [
       "        logi_proba  logi_y_pred\n",
       "255696       0.002            0\n",
       "361162       0.007            0\n",
       "647896       0.011            0\n",
       "255552       0.008            0\n",
       "970897       0.003            0"
      ]
     },
     "execution_count": 125,
     "metadata": {},
     "output_type": "execute_result"
    }
   ],
   "source": [
    "print(\"同样处理训练集！！！\")\n",
    "logi_train_result = pd.DataFrame(clf_logi.predict_proba(xtrain)[:,1],index=Xtrain.index)\n",
    "logi_train_result.columns = [\"logi_proba\"]\n",
    "logi_train_result[\"logi_y_pred\"] = (logi_train_result[\"logi_proba\"] >= tol_level).astype(int)\n",
    "logi_train_result.head()"
   ]
  },
  {
   "cell_type": "markdown",
   "id": "168acba7",
   "metadata": {},
   "source": [
    "    ### S3.融合后要被放倒第二个线性回归中的数据集，就是上一步逻辑回归判定会消费的玩家部分，就是logi_y_pred=1的部分"
   ]
  },
  {
   "cell_type": "code",
   "execution_count": 126,
   "id": "6c3ca34c",
   "metadata": {},
   "outputs": [
    {
     "name": "stdout",
     "output_type": "stream",
     "text": [
      "融合后的训练集与测试集数据处理！\n"
     ]
    },
    {
     "data": {
      "text/plain": [
       "((23485, 119), (15465, 119))"
      ]
     },
     "execution_count": 126,
     "metadata": {},
     "output_type": "execute_result"
    }
   ],
   "source": [
    "print(\"融合后的训练集与测试集数据处理！\")\n",
    "xtrain_mix_reg = xtrain[logi_train_result[\"logi_y_pred\"] == 1]\n",
    "ytrain_mix_reg = ytrain[logi_train_result[\"logi_y_pred\"] == 1]\n",
    "xtest_mix_reg = xtest[logi_test_result[\"logi_y_pred\"] == 1]\n",
    "ytest_mix_reg = ytest[logi_test_result[\"logi_y_pred\"] == 1]\n",
    "xtrain_mix_reg.shape,xtest_mix_reg.shape #确认与训练集中被预测为1的样本数一致\n"
   ]
  },
  {
   "cell_type": "markdown",
   "id": "57905032",
   "metadata": {},
   "source": [
    "    ### S4.开始预测！"
   ]
  },
  {
   "cell_type": "code",
   "execution_count": 127,
   "id": "fbcc0bff",
   "metadata": {},
   "outputs": [
    {
     "name": "stdout",
     "output_type": "stream",
     "text": [
      "训练集R2:0.791\n",
      "测试集R2:0.318\n",
      "测试集RMSE:317.131\n"
     ]
    }
   ],
   "source": [
    "def reg_predict(model):\n",
    "    reg = model.fit(xtrain_mix_reg, ytrain_mix_reg) #训练\n",
    "    y_linear_pred = reg.predict(xtest_mix_reg) #对测试集进行预测\n",
    "    print(\"训练集R2:{:.3f}\".format(reg.score(xtrain_mix_reg, ytrain_mix_reg)))\n",
    "    print(\"测试集R2:{:.3f}\".format(reg.score(xtest_mix_reg, ytest_mix_reg)))\n",
    "    print(\"测试集RMSE:{:.3f}\".format(np.sqrt(MSE(ytest_mix_reg,y_linear_pred))))\n",
    "    return y_linear_pred #融合模型预测出的结果中的 - 回归部分\n",
    "#线性回归\n",
    "reg0 = LR()\n",
    "y_linear_pred0 = reg_predict(reg0) "
   ]
  },
  {
   "cell_type": "markdown",
   "id": "af77b902",
   "metadata": {},
   "source": [
    "- 严重欠拟合！！！尝试一下树模型和BOOSTING！"
   ]
  },
  {
   "cell_type": "code",
   "execution_count": 128,
   "id": "a37a9f05",
   "metadata": {},
   "outputs": [
    {
     "name": "stdout",
     "output_type": "stream",
     "text": [
      "训练集R2:0.676\n",
      "测试集R2:0.439\n",
      "测试集RMSE:287.572\n"
     ]
    }
   ],
   "source": [
    "reg1 = RFR(n_estimators = 100,max_depth = 2,max_features = 20,random_state = 0)\n",
    "reg2 = GradientBoostingRegressor(n_estimators = 100,max_depth = 2,max_features = 20,random_state = 0)\n",
    "y_linear_pred1 = reg_predict(reg1) "
   ]
  },
  {
   "cell_type": "code",
   "execution_count": 129,
   "id": "9b2bd2f2",
   "metadata": {},
   "outputs": [
    {
     "name": "stdout",
     "output_type": "stream",
     "text": [
      "训练集R2:0.897\n",
      "测试集R2:0.444\n",
      "测试集RMSE:286.398\n"
     ]
    }
   ],
   "source": [
    "y_linear_pred2 = reg_predict(reg2)"
   ]
  },
  {
   "cell_type": "markdown",
   "id": "c6e1e6a3",
   "metadata": {},
   "source": [
    "树模型也无法拯救。。。"
   ]
  },
  {
   "cell_type": "code",
   "execution_count": 130,
   "id": "cbff7d93",
   "metadata": {},
   "outputs": [],
   "source": [
    "reg3 = GradientBoostingRegressor(n_estimators = 490 #首先考虑的是增大模型的树的数量，来提升整体拟合能力\n",
    "           ,max_depth= 2 #但又很容易过拟合，因此控制住树的深度\n",
    "           ,learning_rate= 0.05 #当n_estimators和max_depth调不出好结果时，有限考虑降低学习率，学习率对树模型的效果影响很大\n",
    "           ,max_features = 50 #max_features的存在一开始主要是为了控制建模速度的，但是也可以控制过拟合，可以使用学习曲线找适合的阶段和位置\n",
    "           ,min_samples_split = 25 #如果模型仍然过拟合，可以试着增加min_samples_split，增大允许分叶子的样本数量，以此来减少树的拟合程度\n",
    "           ,random_state= 1412)"
   ]
  },
  {
   "cell_type": "code",
   "execution_count": 131,
   "id": "c0f0074d",
   "metadata": {},
   "outputs": [
    {
     "name": "stdout",
     "output_type": "stream",
     "text": [
      "训练集R2:0.897\n",
      "测试集R2:0.444\n",
      "测试集RMSE:286.398\n"
     ]
    }
   ],
   "source": [
    "y_linear_pred2 = reg_predict(reg2)"
   ]
  },
  {
   "cell_type": "code",
   "execution_count": 132,
   "id": "98a69f66",
   "metadata": {},
   "outputs": [
    {
     "name": "stdout",
     "output_type": "stream",
     "text": [
      "原来的数据新增一列，之后将逻辑回归预测为1的部分替换成线性回归预测出的y值\n"
     ]
    }
   ],
   "source": [
    "print(\"原来的数据新增一列，之后将逻辑回归预测为1的部分替换成线性回归预测出的y值\")\n",
    "logi_test_result[\"reg_result\"] = 0 \n",
    "logi_test_result.loc[logi_test_result[\"logi_y_pred\"] == 1,\"reg_result\"] = y_linear_pred2"
   ]
  },
  {
   "cell_type": "code",
   "execution_count": 133,
   "id": "2718d4f3",
   "metadata": {},
   "outputs": [
    {
     "data": {
      "text/html": [
       "<div>\n",
       "<style scoped>\n",
       "    .dataframe tbody tr th:only-of-type {\n",
       "        vertical-align: middle;\n",
       "    }\n",
       "\n",
       "    .dataframe tbody tr th {\n",
       "        vertical-align: top;\n",
       "    }\n",
       "\n",
       "    .dataframe thead th {\n",
       "        text-align: right;\n",
       "    }\n",
       "</style>\n",
       "<table border=\"1\" class=\"dataframe\">\n",
       "  <thead>\n",
       "    <tr style=\"text-align: right;\">\n",
       "      <th></th>\n",
       "      <th>logi_proba</th>\n",
       "      <th>logi_y_pred</th>\n",
       "      <th>reg_result</th>\n",
       "    </tr>\n",
       "  </thead>\n",
       "  <tbody>\n",
       "    <tr>\n",
       "      <th>875680</th>\n",
       "      <td>0.002</td>\n",
       "      <td>0</td>\n",
       "      <td>0.000</td>\n",
       "    </tr>\n",
       "    <tr>\n",
       "      <th>1046906</th>\n",
       "      <td>0.002</td>\n",
       "      <td>0</td>\n",
       "      <td>0.000</td>\n",
       "    </tr>\n",
       "    <tr>\n",
       "      <th>646861</th>\n",
       "      <td>0.002</td>\n",
       "      <td>0</td>\n",
       "      <td>0.000</td>\n",
       "    </tr>\n",
       "    <tr>\n",
       "      <th>704385</th>\n",
       "      <td>0.005</td>\n",
       "      <td>0</td>\n",
       "      <td>0.000</td>\n",
       "    </tr>\n",
       "    <tr>\n",
       "      <th>798051</th>\n",
       "      <td>0.002</td>\n",
       "      <td>0</td>\n",
       "      <td>0.000</td>\n",
       "    </tr>\n",
       "  </tbody>\n",
       "</table>\n",
       "</div>"
      ],
      "text/plain": [
       "         logi_proba  logi_y_pred  reg_result\n",
       "875680        0.002            0       0.000\n",
       "1046906       0.002            0       0.000\n",
       "646861        0.002            0       0.000\n",
       "704385        0.005            0       0.000\n",
       "798051        0.002            0       0.000"
      ]
     },
     "execution_count": 133,
     "metadata": {},
     "output_type": "execute_result"
    }
   ],
   "source": [
    "logi_test_result.head()#与原来测试集ytest索引一致；"
   ]
  },
  {
   "cell_type": "code",
   "execution_count": 134,
   "id": "938da333",
   "metadata": {},
   "outputs": [
    {
     "data": {
      "text/plain": [
       "55.52167021891304"
      ]
     },
     "execution_count": 134,
     "metadata": {},
     "output_type": "execute_result"
    }
   ],
   "source": [
    "np.sqrt(MSE(ytest,logi_test_result[\"reg_result\"]))"
   ]
  },
  {
   "cell_type": "markdown",
   "id": "4f512d99",
   "metadata": {},
   "source": [
    "- 这个成绩也足够排进前10了！"
   ]
  },
  {
   "cell_type": "markdown",
   "id": "d9a70e69",
   "metadata": {},
   "source": [
    "### P2.尝试更换复杂一点的模型，这里换成XGBOOST和神经网络！"
   ]
  },
  {
   "cell_type": "code",
   "execution_count": 135,
   "id": "2b1c9dde",
   "metadata": {},
   "outputs": [
    {
     "name": "stdout",
     "output_type": "stream",
     "text": [
      "训练集R2:0.921\n",
      "测试集R2:0.491\n",
      "测试集RMSE:274.038\n"
     ]
    }
   ],
   "source": [
    "reg_xgb = XGBRFRegressor()\n",
    "y_xgb_pred1 = reg_predict(reg_xgb)"
   ]
  },
  {
   "cell_type": "markdown",
   "id": "710d198b",
   "metadata": {},
   "source": [
    "- S1.通过偏差方差法寻找一下最佳n_estimator！——以往都是score或者均方误差！"
   ]
  },
  {
   "cell_type": "code",
   "execution_count": 136,
   "id": "f39e827f",
   "metadata": {},
   "outputs": [
    {
     "name": "stdout",
     "output_type": "stream",
     "text": [
      "R2最高所对应的参数取值：50 R2最高值：0.4369529040770665 R2最高值时的方差：0.031022108406184985\n",
      "方差最低所对应的参数取值：250 方差最低值时R2：0.42344790085045814 方差最低值：0.0282768955528453\n",
      "可控误差最低时所对应的参数取值：50 可控误差最低时所对应的R2值：0.4369529040770665 可控误差最低时所对应的方差：0.031022108406184985 可控误差最低时所对应的方差：0.348044140633434\n"
     ]
    },
    {
     "data": {
      "image/png": "[encoded data removed]",
      "text/plain": [
       "<Figure size 1440x360 with 1 Axes>"
      ]
     },
     "metadata": {
      "needs_background": "light"
     },
     "output_type": "display_data"
    }
   ],
   "source": [
    "axisx = range(50,350,50)\n",
    "rs = []\n",
    "var = []\n",
    "ge = []\n",
    "cv_k = KFold(n_splits=5, shuffle = True, random_state=0)\n",
    "for i in axisx:\n",
    "    reg_xgb_nes = XGBRFRegressor(n_estimators = i,n_jobs = -1,random_state = 0)\n",
    "    cvresult = cross_val_score(reg_xgb_nes,xtrain_mix_reg,ytrain_mix_reg,cv = cv_k)#默认还是R方\n",
    "    rs.append(cvresult.mean())\n",
    "    var.append(cvresult.var())\n",
    "    ge.append((1 - cvresult.mean())**2+cvresult.var())#计算泛化误差的可控部分\n",
    "#打印R2最高所对应的参数取值，并打印这个参数下的方差\n",
    "print(\"R2最高所对应的参数取值：\" + str(axisx[rs.index(max(rs))]),\"R2最高值：\" + str(max(rs)),\"R2最高值时的方差：\" + str(var[rs.index(max(rs))]))\n",
    "#打印方差最低时对应的参数取值，并打印这个参数下的R2\n",
    "print(\"方差最低所对应的参数取值：\" + str(axisx[var.index(min(var))]),\"方差最低值时R2：\" +str(rs[var.index(min(var))]),\"方差最低值：\" + str(min(var)))\n",
    "#打印泛化误差可控部分的参数取值，并打印这个参数下的R2，方差以及泛化误差的可控部分\n",
    "print(\"可控误差最低时所对应的参数取值：\" + str(axisx[ge.index(min(ge))]),\n",
    "      \"可控误差最低时所对应的R2值：\" + str(rs[ge.index(min(ge))]),\n",
    "      \"可控误差最低时所对应的方差：\" + str(var[ge.index(min(ge))]),\n",
    "      \"可控误差最低时所对应的方差：\" + str(min(ge)))\n",
    "plt.figure(figsize=(20,5))\n",
    "plt.plot(axisx,rs,c=\"red\",label=\"XGB\")\n",
    "plt.legend()\n",
    "plt.show()\n"
   ]
  },
  {
   "cell_type": "code",
   "execution_count": 137,
   "id": "624d753b",
   "metadata": {},
   "outputs": [
    {
     "name": "stdout",
     "output_type": "stream",
     "text": [
      "50 0.4369529040770665 0.031022108406184985\n",
      "250 0.42344790085045814 0.0282768955528453\n",
      "50 0.4369529040770665 0.031022108406184985 0.348044140633434\n"
     ]
    },
    {
     "data": {
      "image/png": "[encoded data removed]",
      "text/plain": [
       "<Figure size 1440x360 with 1 Axes>"
      ]
     },
     "metadata": {
      "needs_background": "light"
     },
     "output_type": "display_data"
    },
    {
     "data": {
      "image/png": "[encoded data removed]",
      "text/plain": [
       "<Figure size 1440x360 with 1 Axes>"
      ]
     },
     "metadata": {
      "needs_background": "light"
     },
     "output_type": "display_data"
    }
   ],
   "source": [
    "print(axisx[rs.index(max(rs))],max(rs),var[rs.index(max(rs))])\n",
    "print(axisx[var.index(min(var))],rs[var.index(min(var))],min(var))\n",
    "print(axisx[ge.index(min(ge))],rs[ge.index(min(ge))],var[ge.index(min(ge))],min(ge))\n",
    "rs = np.array(rs)\n",
    "var = np.array(var)*0.01\n",
    "plt.figure(figsize=(20,5))\n",
    "plt.plot(axisx,rs,c=\"black\",label=\"XGB\")\n",
    "#添加方差线\n",
    "plt.plot(axisx,rs+var,c=\"red\",linestyle='-.')\n",
    "plt.plot(axisx,rs-var,c=\"red\",linestyle='-.')\n",
    "plt.legend()\n",
    "plt.show()\n",
    "#看看泛化误差的可控部分如何？\n",
    "plt.figure(figsize=(20,5))\n",
    "plt.plot(axisx,ge,c=\"gray\",linestyle='-.')\n",
    "plt.show()\n"
   ]
  },
  {
   "cell_type": "markdown",
   "id": "00559d25",
   "metadata": {},
   "source": [
    "- 可见选50目前来说效果最好"
   ]
  },
  {
   "cell_type": "markdown",
   "id": "0698878f",
   "metadata": {},
   "source": [
    "S2.学习率learing_rate和子采样比率subsample！！！"
   ]
  },
  {
   "cell_type": "code",
   "execution_count": 138,
   "id": "4b208b3c",
   "metadata": {},
   "outputs": [
    {
     "name": "stdout",
     "output_type": "stream",
     "text": [
      "R2最高所对应的参数取值：0.8 R2最高值：0.47273256494254934 R2最高值时的方差：0.01664707077745254\n",
      "方差最低所对应的参数取值：0.0 方差最低值时R2：-0.010196815233431166 方差最低值：5.1124609882900005e-06\n",
      "可控误差最低时所对应的参数取值：0.8 可控误差最低时所对应的R2值：0.47273256494254934 可控误差最低时所对应的方差：0.01664707077745254 可控误差最低时所对应的方差：0.2946580188495155\n"
     ]
    },
    {
     "data": {
      "image/png": "[encoded data removed]",
      "text/plain": [
       "<Figure size 1440x360 with 1 Axes>"
      ]
     },
     "metadata": {
      "needs_background": "light"
     },
     "output_type": "display_data"
    }
   ],
   "source": [
    "learning_rate = np.linspace(0,1,11)\n",
    "rs = []\n",
    "var = []\n",
    "ge = []\n",
    "cv_k = KFold(n_splits=5, shuffle = True, random_state=0)\n",
    "for i in learning_rate:\n",
    "    reg_xgb_learate = XGBRFRegressor(n_estimators = 50, learning_rate = i ,n_jobs = -1,random_state = 0)\n",
    "    cvresult = cross_val_score(reg_xgb_learate,xtrain_mix_reg,ytrain_mix_reg,cv = cv_k)#默认还是R方\n",
    "    rs.append(cvresult.mean())\n",
    "    var.append(cvresult.var())\n",
    "    ge.append((1 - cvresult.mean())**2+cvresult.var())#计算泛化误差的可控部分\n",
    "print(\"R2最高所对应的参数取值：\" + str(learning_rate[rs.index(max(rs))]),\"R2最高值：\" + str(max(rs)),\"R2最高值时的方差：\" + str(var[rs.index(max(rs))]))\n",
    "print(\"方差最低所对应的参数取值：\" + str(learning_rate[var.index(min(var))]),\"方差最低值时R2：\" +str(rs[var.index(min(var))]),\"方差最低值：\" + str(min(var)))\n",
    "print(\"可控误差最低时所对应的参数取值：\" + str(learning_rate[ge.index(min(ge))]),\n",
    "      \"可控误差最低时所对应的R2值：\" + str(rs[ge.index(min(ge))]),\n",
    "      \"可控误差最低时所对应的方差：\" + str(var[ge.index(min(ge))]),\n",
    "      \"可控误差最低时所对应的方差：\" + str(min(ge)))\n",
    "plt.figure(figsize=(20,5))\n",
    "plt.plot(learning_rate,rs,c=\"red\",label=\"XGB\")\n",
    "plt.legend()\n",
    "plt.show()"
   ]
  },
  {
   "cell_type": "markdown",
   "id": "1b5ceb29",
   "metadata": {},
   "source": [
    "- 选择0.8！"
   ]
  },
  {
   "cell_type": "code",
   "execution_count": 139,
   "id": "863c54cf",
   "metadata": {},
   "outputs": [
    {
     "name": "stdout",
     "output_type": "stream",
     "text": [
      "R2最高所对应的参数取值：0.4 R2最高值：0.5426056752722277 R2最高值时的方差：0.006014469993938197\n",
      "方差最低所对应的参数取值：0.6 方差最低值时R2：0.5119264136638458 方差最低值：0.004534386828856591\n",
      "可控误差最低时所对应的参数取值：0.4 可控误差最低时所对应的R2值：0.5426056752722277 可控误差最低时所对应的方差：0.006014469993938197 可控误差最低时所对应的方差：0.21522403828711303\n"
     ]
    },
    {
     "data": {
      "image/png": "[encoded data removed]",
      "text/plain": [
       "<Figure size 1440x360 with 1 Axes>"
      ]
     },
     "metadata": {
      "needs_background": "light"
     },
     "output_type": "display_data"
    }
   ],
   "source": [
    "subsample_rate = np.linspace(0.1,1,10)\n",
    "rs = []\n",
    "var = []\n",
    "ge = []\n",
    "cv_k = KFold(n_splits=5, shuffle = True, random_state=0)\n",
    "for i in subsample_rate:\n",
    "    reg_xgb_subs = XGBRFRegressor(n_estimators = 50, learning_rate = 0.8, subsample = i,n_jobs = -1,random_state = 0)\n",
    "    cvresult = cross_val_score(reg_xgb_subs,xtrain_mix_reg,ytrain_mix_reg,cv = cv_k)#默认还是R方\n",
    "    rs.append(cvresult.mean())\n",
    "    var.append(cvresult.var())\n",
    "    ge.append((1 - cvresult.mean())**2+cvresult.var())#计算泛化误差的可控部分\n",
    "print(\"R2最高所对应的参数取值：\" + str(subsample_rate[rs.index(max(rs))]),\"R2最高值：\" + str(max(rs)),\"R2最高值时的方差：\" + str(var[rs.index(max(rs))]))\n",
    "print(\"方差最低所对应的参数取值：\" + str(subsample_rate[var.index(min(var))]),\"方差最低值时R2：\" +str(rs[var.index(min(var))]),\"方差最低值：\" + str(min(var)))\n",
    "print(\"可控误差最低时所对应的参数取值：\" + str(subsample_rate[ge.index(min(ge))]),\n",
    "      \"可控误差最低时所对应的R2值：\" + str(rs[ge.index(min(ge))]),\n",
    "      \"可控误差最低时所对应的方差：\" + str(var[ge.index(min(ge))]),\n",
    "      \"可控误差最低时所对应的方差：\" + str(min(ge)))\n",
    "plt.figure(figsize=(20,5))\n",
    "plt.plot(subsample_rate,rs,c=\"red\",label=\"XGB\")\n",
    "plt.legend()\n",
    "plt.show()"
   ]
  },
  {
   "cell_type": "markdown",
   "id": "c35da142",
   "metadata": {},
   "source": [
    "- 选择0.4！——目前\n",
    "reg_xgb_subs = XGBRFRegressor(n_estimators = 50, learning_rate = 0.8, subsample = 0.4,n_jobs = -1,random_state = 0)"
   ]
  },
  {
   "cell_type": "markdown",
   "id": "5e2e006c",
   "metadata": {},
   "source": [
    "S3.弱评估器的框架参数——影响树生长——为保证速度效率，采用网格搜索，但参数又不能太多！选几个重要的很影响树生长的！\n",
    "- max_depth/gamma/min_child_weight/"
   ]
  },
  {
   "cell_type": "code",
   "execution_count": 140,
   "id": "63f55cc2",
   "metadata": {},
   "outputs": [
    {
     "name": "stdout",
     "output_type": "stream",
     "text": [
      "R2最高所对应的参数取值：5 R2最高值：0.5439863668922115 R2最高值时的方差：0.006085973393405728\n",
      "方差最低所对应的参数取值：18 方差最低值时R2：0.5429224399015606 方差最低值：0.005660046518601523\n",
      "可控误差最低时所对应的参数取值：5 可控误差最低时所对应的R2值：0.5439863668922115 可控误差最低时所对应的方差：0.006085973393405728 可控误差最低时所对应的方差：0.21403440697357048\n"
     ]
    },
    {
     "data": {
      "image/png": "[encoded data removed]",
      "text/plain": [
       "<Figure size 1440x360 with 1 Axes>"
      ]
     },
     "metadata": {
      "needs_background": "light"
     },
     "output_type": "display_data"
    }
   ],
   "source": [
    "max_depth_para = range(3,21)\n",
    "rs = []\n",
    "var = []\n",
    "ge = []\n",
    "cv_k = KFold(n_splits=5, shuffle = True, random_state=0)\n",
    "for i in max_depth_para:\n",
    "    reg_xgb_depth = XGBRFRegressor(n_estimators = 50, learning_rate = 0.8, subsample = 0.4, max_depth = i, n_jobs = -1,random_state = 0)\n",
    "    cvresult = cross_val_score(reg_xgb_depth,xtrain_mix_reg,ytrain_mix_reg,cv = cv_k)#默认还是R方\n",
    "    rs.append(cvresult.mean())\n",
    "    var.append(cvresult.var())\n",
    "    ge.append((1 - cvresult.mean())**2+cvresult.var())#计算泛化误差的可控部分\n",
    "print(\"R2最高所对应的参数取值：\" + str(max_depth_para[rs.index(max(rs))]),\"R2最高值：\" + str(max(rs)),\"R2最高值时的方差：\" + str(var[rs.index(max(rs))]))\n",
    "print(\"方差最低所对应的参数取值：\" + str(max_depth_para[var.index(min(var))]),\"方差最低值时R2：\" +str(rs[var.index(min(var))]),\"方差最低值：\" + str(min(var)))\n",
    "print(\"可控误差最低时所对应的参数取值：\" + str(max_depth_para[ge.index(min(ge))]),\n",
    "      \"可控误差最低时所对应的R2值：\" + str(rs[ge.index(min(ge))]),\n",
    "      \"可控误差最低时所对应的方差：\" + str(var[ge.index(min(ge))]),\n",
    "      \"可控误差最低时所对应的方差：\" + str(min(ge)))\n",
    "plt.figure(figsize=(20,5))\n",
    "plt.plot(max_depth_para,rs,c=\"red\",label=\"XGB\")\n",
    "plt.legend()\n",
    "plt.show()\n"
   ]
  },
  {
   "cell_type": "markdown",
   "id": "7498937c",
   "metadata": {},
   "source": [
    "- 定5-10暂时！"
   ]
  },
  {
   "cell_type": "code",
   "execution_count": 141,
   "id": "4a4f6731",
   "metadata": {},
   "outputs": [
    {
     "name": "stdout",
     "output_type": "stream",
     "text": [
      "R2最高所对应的参数取值：0.0 R2最高值：0.5426056752722277 R2最高值时的方差：0.006014469993938197\n",
      "方差最低所对应的参数取值：0.0 方差最低值时R2：0.5426056752722277 方差最低值：0.006014469993938197\n",
      "可控误差最低时所对应的参数取值：0.0 可控误差最低时所对应的R2值：0.5426056752722277 可控误差最低时所对应的方差：0.006014469993938197 可控误差最低时所对应的方差：0.21522403828711303\n"
     ]
    },
    {
     "data": {
      "image/png": "[encoded data removed]",
      "text/plain": [
       "<Figure size 1440x360 with 1 Axes>"
      ]
     },
     "metadata": {
      "needs_background": "light"
     },
     "output_type": "display_data"
    }
   ],
   "source": [
    "gamma_para = np.linspace(0,5,51)\n",
    "rs = []\n",
    "var = []\n",
    "ge = []\n",
    "cv_k = KFold(n_splits=5, shuffle = True, random_state=0)\n",
    "for i in gamma_para:\n",
    "    reg_xgb_gamma = XGBRFRegressor(n_estimators = 50, learning_rate = 0.8, subsample = 0.4, gamma = i, n_jobs = -1,random_state = 0)\n",
    "    cvresult = cross_val_score(reg_xgb_gamma,xtrain_mix_reg,ytrain_mix_reg,cv = cv_k)#默认还是R方\n",
    "    rs.append(cvresult.mean())\n",
    "    var.append(cvresult.var())\n",
    "    ge.append((1 - cvresult.mean())**2+cvresult.var())#计算泛化误差的可控部分\n",
    "print(\"R2最高所对应的参数取值：\" + str(gamma_para[rs.index(max(rs))]),\"R2最高值：\" + str(max(rs)),\"R2最高值时的方差：\" + str(var[rs.index(max(rs))]))\n",
    "print(\"方差最低所对应的参数取值：\" + str(gamma_para[var.index(min(var))]),\"方差最低值时R2：\" +str(rs[var.index(min(var))]),\"方差最低值：\" + str(min(var)))\n",
    "print(\"可控误差最低时所对应的参数取值：\" + str(gamma_para[ge.index(min(ge))]),\n",
    "      \"可控误差最低时所对应的R2值：\" + str(rs[ge.index(min(ge))]),\n",
    "      \"可控误差最低时所对应的方差：\" + str(var[ge.index(min(ge))]),\n",
    "      \"可控误差最低时所对应的方差：\" + str(min(ge)))\n",
    "plt.figure(figsize=(20,5))\n",
    "plt.plot(gamma_para,rs,c=\"red\",label=\"XGB\")\n",
    "plt.legend()\n",
    "plt.show()\n"
   ]
  },
  {
   "cell_type": "markdown",
   "id": "718b2280",
   "metadata": {},
   "source": [
    "- 可以默认。。。"
   ]
  },
  {
   "cell_type": "code",
   "execution_count": 142,
   "id": "50fa4783",
   "metadata": {},
   "outputs": [
    {
     "name": "stdout",
     "output_type": "stream",
     "text": [
      "R2最高所对应的参数取值：0 R2最高值：0.5426056752722277 R2最高值时的方差：0.006014469993938197\n",
      "方差最低所对应的参数取值：0 方差最低值时R2：0.5426056752722277 方差最低值：0.006014469993938197\n",
      "可控误差最低时所对应的参数取值：0 可控误差最低时所对应的R2值：0.5426056752722277 可控误差最低时所对应的方差：0.006014469993938197 可控误差最低时所对应的方差：0.21522403828711303\n"
     ]
    },
    {
     "data": {
      "image/png": "[encoded data removed]",
      "text/plain": [
       "<Figure size 1440x360 with 1 Axes>"
      ]
     },
     "metadata": {
      "needs_background": "light"
     },
     "output_type": "display_data"
    }
   ],
   "source": [
    "min_child_weight_para = [0, 2, 5, 10, 20]\n",
    "rs = []\n",
    "var = []\n",
    "ge = []\n",
    "cv_k = KFold(n_splits=5, shuffle = True, random_state=0)\n",
    "for i in min_child_weight_para:\n",
    "    reg_xgb_min_child_weight = XGBRFRegressor(n_estimators = 50, learning_rate = 0.8, subsample = 0.4, min_child_weight = i, n_jobs = -1,random_state = 0)\n",
    "    cvresult = cross_val_score(reg_xgb_min_child_weight, xtrain_mix_reg, ytrain_mix_reg, cv = cv_k)#默认还是R方\n",
    "    rs.append(cvresult.mean())\n",
    "    var.append(cvresult.var())\n",
    "    ge.append((1 - cvresult.mean())**2+cvresult.var())#计算泛化误差的可控部分\n",
    "print(\"R2最高所对应的参数取值：\" + str(min_child_weight_para[rs.index(max(rs))]),\n",
    "      \"R2最高值：\" + str(max(rs)),\n",
    "      \"R2最高值时的方差：\" + str(var[rs.index(max(rs))]))\n",
    "print(\"方差最低所对应的参数取值：\" + str(min_child_weight_para[var.index(min(var))]),\n",
    "      \"方差最低值时R2：\" +str(rs[var.index(min(var))]),\n",
    "      \"方差最低值：\" + str(min(var)))\n",
    "print(\"可控误差最低时所对应的参数取值：\" + str(min_child_weight_para[ge.index(min(ge))]),\n",
    "      \"可控误差最低时所对应的R2值：\" + str(rs[ge.index(min(ge))]),\n",
    "      \"可控误差最低时所对应的方差：\" + str(var[ge.index(min(ge))]),\n",
    "      \"可控误差最低时所对应的方差：\" + str(min(ge)))\n",
    "plt.figure(figsize=(20,5))\n",
    "plt.plot(min_child_weight_para,rs,c=\"red\",label=\"XGB\")\n",
    "plt.legend()\n",
    "plt.show()\n"
   ]
  },
  {
   "cell_type": "code",
   "execution_count": 143,
   "id": "a248f99c",
   "metadata": {},
   "outputs": [
    {
     "data": {
      "text/plain": [
       "GridSearchCV(cv=3,\n",
       "             estimator=XGBRFRegressor(base_score=None, booster=None,\n",
       "                                      colsample_bylevel=None,\n",
       "                                      colsample_bytree=None, gamma=None,\n",
       "                                      gpu_id=None, importance_type='gain',\n",
       "                                      interaction_constraints=None,\n",
       "                                      learning_rate=0.8, max_delta_step=None,\n",
       "                                      max_depth=None, min_child_weight=None,\n",
       "                                      missing=nan, monotone_constraints=None,\n",
       "                                      n_estimators=100, n_jobs=-1,\n",
       "                                      num_parallel_tree=None,\n",
       "                                      objective='reg:squarederror',\n",
       "                                      random_state=0, reg_alpha=None,\n",
       "                                      scale_pos_weight=None, subsample=0.4,\n",
       "                                      tree_method=None,\n",
       "                                      validate_parameters=None,\n",
       "                                      verbosity=None),\n",
       "             n_jobs=-1,\n",
       "             param_grid={'max_depth': [5, 6, 7, 8, 9, 10],\n",
       "                         'min_child_weight': [0, 1, 10],\n",
       "                         'n_estimators': [50, 100, 150, 200, 250]},\n",
       "             scoring='r2')"
      ]
     },
     "execution_count": 143,
     "metadata": {},
     "output_type": "execute_result"
    }
   ],
   "source": [
    "reg_xgb_para = XGBRFRegressor(learning_rate = 0.8, subsample = 0.4,n_jobs = -1,random_state = 0)\n",
    "param_test = {'max_depth':[5,6,7,8,9,10], \n",
    "#                'gamma':np.linspace(0.4,0.8,5),\n",
    "               'min_child_weight':[0, 1, 10],\n",
    "               'n_estimators':[50,100,150,200,250]}\n",
    "grid_searchcv =  GridSearchCV(estimator = reg_xgb_para ,param_grid = param_test ,n_jobs = -1 ,scoring='r2',cv=3)\n",
    "grid_searchcv.fit(xtrain_mix_reg, ytrain_mix_reg)"
   ]
  },
  {
   "cell_type": "code",
   "execution_count": 144,
   "id": "2d878e7e",
   "metadata": {},
   "outputs": [
    {
     "data": {
      "text/plain": [
       "(XGBRFRegressor(base_score=0.5, booster='gbtree', colsample_bylevel=1,\n",
       "                colsample_bytree=1, gamma=0, gpu_id=-1, importance_type='gain',\n",
       "                interaction_constraints='', learning_rate=0.8, max_delta_step=0,\n",
       "                max_depth=10, min_child_weight=0, missing=nan,\n",
       "                monotone_constraints='()', n_estimators=50, n_jobs=-1,\n",
       "                num_parallel_tree=50, objective='reg:squarederror',\n",
       "                random_state=0, reg_alpha=0, scale_pos_weight=1, subsample=0.4,\n",
       "                tree_method='exact', validate_parameters=1, verbosity=None),\n",
       " {'max_depth': 10, 'min_child_weight': 0, 'n_estimators': 50},\n",
       " 0.5339752684600007)"
      ]
     },
     "execution_count": 144,
     "metadata": {},
     "output_type": "execute_result"
    }
   ],
   "source": [
    "grid_searchcv.best_estimator_,grid_searchcv.best_params_,grid_searchcv.best_score_"
   ]
  },
  {
   "cell_type": "markdown",
   "id": "46bcd1e5",
   "metadata": {},
   "source": [
    "- 最终的网格给的xg；\n",
    "- reg_xgb_para = XGBRFRegressor(n_estimators = 50, learning_rate = 0.8, subsample = 0.4, max_depth = 10, min_child_weight = 0, n_jobs = -1, random_state = 0)"
   ]
  },
  {
   "cell_type": "code",
   "execution_count": 145,
   "id": "80ffcd38",
   "metadata": {},
   "outputs": [
    {
     "data": {
      "text/plain": [
       "XGBRFRegressor(base_score=None, booster=None, colsample_bylevel=None,\n",
       "               colsample_bytree=None, gamma=None, gpu_id=None,\n",
       "               importance_type='gain', interaction_constraints=None,\n",
       "               learning_rate=0.8, max_delta_step=None, max_depth=10,\n",
       "               min_child_weight=0, missing=nan, monotone_constraints=None,\n",
       "               n_estimators=300, n_jobs=-1, num_parallel_tree=None,\n",
       "               objective='reg:squarederror', random_state=0, reg_alpha=None,\n",
       "               scale_pos_weight=None, subsample=0.4, tree_method=None,\n",
       "               validate_parameters=None, verbosity=None)"
      ]
     },
     "execution_count": 145,
     "metadata": {},
     "output_type": "execute_result"
    }
   ],
   "source": [
    "reg_xgb_formal = XGBRFRegressor(n_estimators = 300, learning_rate = 0.8, subsample = 0.4, max_depth = 10, min_child_weight = 0, n_jobs = -1, random_state = 0)\n",
    "reg_xgb_formal"
   ]
  },
  {
   "cell_type": "code",
   "execution_count": 146,
   "id": "9833de4b",
   "metadata": {},
   "outputs": [
    {
     "name": "stdout",
     "output_type": "stream",
     "text": [
      "训练集R2:0.763\n",
      "测试集R2:0.489\n",
      "测试集RMSE:274.431\n"
     ]
    }
   ],
   "source": [
    "y_xgb_pred = reg_predict(reg_xgb_formal) "
   ]
  },
  {
   "cell_type": "code",
   "execution_count": 147,
   "id": "dcc7c627",
   "metadata": {},
   "outputs": [
    {
     "name": "stdout",
     "output_type": "stream",
     "text": [
      "原来的数据新增一列，之后将逻辑回归预测为1的部分替换成线性回归预测出的y值\n"
     ]
    },
    {
     "data": {
      "text/html": [
       "<div>\n",
       "<style scoped>\n",
       "    .dataframe tbody tr th:only-of-type {\n",
       "        vertical-align: middle;\n",
       "    }\n",
       "\n",
       "    .dataframe tbody tr th {\n",
       "        vertical-align: top;\n",
       "    }\n",
       "\n",
       "    .dataframe thead th {\n",
       "        text-align: right;\n",
       "    }\n",
       "</style>\n",
       "<table border=\"1\" class=\"dataframe\">\n",
       "  <thead>\n",
       "    <tr style=\"text-align: right;\">\n",
       "      <th></th>\n",
       "      <th>logi_proba</th>\n",
       "      <th>logi_y_pred</th>\n",
       "      <th>reg_result</th>\n",
       "      <th>reg_result_xgb</th>\n",
       "    </tr>\n",
       "  </thead>\n",
       "  <tbody>\n",
       "    <tr>\n",
       "      <th>875680</th>\n",
       "      <td>0.002</td>\n",
       "      <td>0</td>\n",
       "      <td>0.000</td>\n",
       "      <td>0.000</td>\n",
       "    </tr>\n",
       "    <tr>\n",
       "      <th>1046906</th>\n",
       "      <td>0.002</td>\n",
       "      <td>0</td>\n",
       "      <td>0.000</td>\n",
       "      <td>0.000</td>\n",
       "    </tr>\n",
       "    <tr>\n",
       "      <th>646861</th>\n",
       "      <td>0.002</td>\n",
       "      <td>0</td>\n",
       "      <td>0.000</td>\n",
       "      <td>0.000</td>\n",
       "    </tr>\n",
       "    <tr>\n",
       "      <th>704385</th>\n",
       "      <td>0.005</td>\n",
       "      <td>0</td>\n",
       "      <td>0.000</td>\n",
       "      <td>0.000</td>\n",
       "    </tr>\n",
       "    <tr>\n",
       "      <th>798051</th>\n",
       "      <td>0.002</td>\n",
       "      <td>0</td>\n",
       "      <td>0.000</td>\n",
       "      <td>0.000</td>\n",
       "    </tr>\n",
       "    <tr>\n",
       "      <th>...</th>\n",
       "      <td>...</td>\n",
       "      <td>...</td>\n",
       "      <td>...</td>\n",
       "      <td>...</td>\n",
       "    </tr>\n",
       "    <tr>\n",
       "      <th>795096</th>\n",
       "      <td>0.001</td>\n",
       "      <td>0</td>\n",
       "      <td>0.000</td>\n",
       "      <td>0.000</td>\n",
       "    </tr>\n",
       "    <tr>\n",
       "      <th>990875</th>\n",
       "      <td>0.002</td>\n",
       "      <td>0</td>\n",
       "      <td>0.000</td>\n",
       "      <td>0.000</td>\n",
       "    </tr>\n",
       "    <tr>\n",
       "      <th>696668</th>\n",
       "      <td>1.000</td>\n",
       "      <td>1</td>\n",
       "      <td>27.004</td>\n",
       "      <td>13.262</td>\n",
       "    </tr>\n",
       "    <tr>\n",
       "      <th>1002649</th>\n",
       "      <td>0.002</td>\n",
       "      <td>0</td>\n",
       "      <td>0.000</td>\n",
       "      <td>0.000</td>\n",
       "    </tr>\n",
       "    <tr>\n",
       "      <th>501012</th>\n",
       "      <td>0.003</td>\n",
       "      <td>0</td>\n",
       "      <td>0.000</td>\n",
       "      <td>0.000</td>\n",
       "    </tr>\n",
       "  </tbody>\n",
       "</table>\n",
       "<p>200 rows × 4 columns</p>\n",
       "</div>"
      ],
      "text/plain": [
       "         logi_proba  logi_y_pred  reg_result  reg_result_xgb\n",
       "875680        0.002            0       0.000           0.000\n",
       "1046906       0.002            0       0.000           0.000\n",
       "646861        0.002            0       0.000           0.000\n",
       "704385        0.005            0       0.000           0.000\n",
       "798051        0.002            0       0.000           0.000\n",
       "...             ...          ...         ...             ...\n",
       "795096        0.001            0       0.000           0.000\n",
       "990875        0.002            0       0.000           0.000\n",
       "696668        1.000            1      27.004          13.262\n",
       "1002649       0.002            0       0.000           0.000\n",
       "501012        0.003            0       0.000           0.000\n",
       "\n",
       "[200 rows x 4 columns]"
      ]
     },
     "execution_count": 147,
     "metadata": {},
     "output_type": "execute_result"
    }
   ],
   "source": [
    "print(\"原来的数据新增一列，之后将逻辑回归预测为1的部分替换成线性回归预测出的y值\")\n",
    "logi_test_result[\"reg_result_xgb\"] = 0 \n",
    "logi_test_result.loc[logi_test_result[\"logi_y_pred\"] == 1,\"reg_result_xgb\"] = y_xgb_pred\n",
    "logi_test_result.head(200)#与原来测试集ytest索引一致；"
   ]
  },
  {
   "cell_type": "code",
   "execution_count": 148,
   "id": "3e3fb9c9",
   "metadata": {},
   "outputs": [
    {
     "data": {
      "text/html": [
       "<div>\n",
       "<style scoped>\n",
       "    .dataframe tbody tr th:only-of-type {\n",
       "        vertical-align: middle;\n",
       "    }\n",
       "\n",
       "    .dataframe tbody tr th {\n",
       "        vertical-align: top;\n",
       "    }\n",
       "\n",
       "    .dataframe thead th {\n",
       "        text-align: right;\n",
       "    }\n",
       "</style>\n",
       "<table border=\"1\" class=\"dataframe\">\n",
       "  <thead>\n",
       "    <tr style=\"text-align: right;\">\n",
       "      <th></th>\n",
       "      <th>logi_proba</th>\n",
       "      <th>logi_y_pred</th>\n",
       "      <th>reg_result</th>\n",
       "      <th>reg_result_xgb</th>\n",
       "    </tr>\n",
       "  </thead>\n",
       "  <tbody>\n",
       "    <tr>\n",
       "      <th>875680</th>\n",
       "      <td>0.002</td>\n",
       "      <td>0</td>\n",
       "      <td>0.000</td>\n",
       "      <td>0.000</td>\n",
       "    </tr>\n",
       "    <tr>\n",
       "      <th>1046906</th>\n",
       "      <td>0.002</td>\n",
       "      <td>0</td>\n",
       "      <td>0.000</td>\n",
       "      <td>0.000</td>\n",
       "    </tr>\n",
       "    <tr>\n",
       "      <th>646861</th>\n",
       "      <td>0.002</td>\n",
       "      <td>0</td>\n",
       "      <td>0.000</td>\n",
       "      <td>0.000</td>\n",
       "    </tr>\n",
       "    <tr>\n",
       "      <th>704385</th>\n",
       "      <td>0.005</td>\n",
       "      <td>0</td>\n",
       "      <td>0.000</td>\n",
       "      <td>0.000</td>\n",
       "    </tr>\n",
       "    <tr>\n",
       "      <th>798051</th>\n",
       "      <td>0.002</td>\n",
       "      <td>0</td>\n",
       "      <td>0.000</td>\n",
       "      <td>0.000</td>\n",
       "    </tr>\n",
       "  </tbody>\n",
       "</table>\n",
       "</div>"
      ],
      "text/plain": [
       "         logi_proba  logi_y_pred  reg_result  reg_result_xgb\n",
       "875680        0.002            0       0.000           0.000\n",
       "1046906       0.002            0       0.000           0.000\n",
       "646861        0.002            0       0.000           0.000\n",
       "704385        0.005            0       0.000           0.000\n",
       "798051        0.002            0       0.000           0.000"
      ]
     },
     "execution_count": 148,
     "metadata": {},
     "output_type": "execute_result"
    }
   ],
   "source": [
    "logi_test_result.head()#与原来测试集ytest索引一致；"
   ]
  },
  {
   "cell_type": "code",
   "execution_count": 149,
   "id": "fe562312",
   "metadata": {},
   "outputs": [
    {
     "data": {
      "text/plain": [
       "53.24656965404968"
      ]
     },
     "execution_count": 149,
     "metadata": {},
     "output_type": "execute_result"
    }
   ],
   "source": [
    "np.sqrt(MSE(ytest,logi_test_result[\"reg_result_xgb\"]))"
   ]
  },
  {
   "cell_type": "markdown",
   "id": "bdd8cd97",
   "metadata": {},
   "source": [
    "- XGB降到53.24了！！\n",
    "——第五名！\n",
    "https://js.dclab.run/v2/cmptDetail.html?id=226"
   ]
  },
  {
   "cell_type": "markdown",
   "id": "049b08db",
   "metadata": {},
   "source": [
    "![](https://skojiangdoc.oss-cn-beijing.aliyuncs.com/micro_class/sklearncase/%E6%8E%92%E8%A1%8C%E6%A6%9C.PNG)"
   ]
  },
  {
   "cell_type": "markdown",
   "id": "527337ee",
   "metadata": {},
   "source": [
    "### P3.尝试神经网络！"
   ]
  },
  {
   "cell_type": "code",
   "execution_count": 150,
   "id": "318427e0",
   "metadata": {},
   "outputs": [
    {
     "data": {
      "text/plain": [
       "((23485, 119), (23485, 1))"
      ]
     },
     "execution_count": 150,
     "metadata": {},
     "output_type": "execute_result"
    }
   ],
   "source": [
    "import tensorflow as tf\n",
    "xtrain_mix_reg.shape,ytrain_mix_reg.shape"
   ]
  },
  {
   "cell_type": "markdown",
   "id": "a80641e7",
   "metadata": {},
   "source": [
    "- 定义网络架构！\n",
    ">  119个特征，先从128开始，隐藏层为防止过拟合，先定义5层；"
   ]
  },
  {
   "cell_type": "code",
   "execution_count": 212,
   "id": "9cd6810c",
   "metadata": {},
   "outputs": [
    {
     "name": "stdout",
     "output_type": "stream",
     "text": [
      "Model: \"sequential_17\"\n",
      "_________________________________________________________________\n",
      "Layer (type)                 Output Shape              Param #   \n",
      "=================================================================\n",
      "dense_136 (Dense)            (None, 128)               15360     \n",
      "_________________________________________________________________\n",
      "dense_137 (Dense)            (None, 96)                12384     \n",
      "_________________________________________________________________\n",
      "dense_138 (Dense)            (None, 64)                6208      \n",
      "_________________________________________________________________\n",
      "dense_139 (Dense)            (None, 32)                2080      \n",
      "_________________________________________________________________\n",
      "dense_140 (Dense)            (None, 16)                528       \n",
      "_________________________________________________________________\n",
      "dense_141 (Dense)            (None, 8)                 136       \n",
      "_________________________________________________________________\n",
      "dense_142 (Dense)            (None, 4)                 36        \n",
      "_________________________________________________________________\n",
      "dense_143 (Dense)            (None, 1)                 5         \n",
      "=================================================================\n",
      "Total params: 36,737\n",
      "Trainable params: 36,737\n",
      "Non-trainable params: 0\n",
      "_________________________________________________________________\n"
     ]
    }
   ],
   "source": [
    "model_DNN = tf.keras.Sequential([\n",
    "tf.keras.layers.Dense(128, activation = 'relu', input_shape=(xtrain_mix_reg.shape[1],)),#119个特征，先从128个开始\n",
    "tf.keras.layers.Dense(96, activation = 'relu'),\n",
    "tf.keras.layers.Dense(64, activation = 'relu'),\n",
    "tf.keras.layers.Dense(32, activation = 'relu'),\n",
    "tf.keras.layers.Dense(16,  activation = 'relu'),\n",
    "tf.keras.layers.Dense(8,  activation = 'relu'),\n",
    "tf.keras.layers.Dense(4,  activation = 'relu'),\n",
    "tf.keras.layers.Dense(1)\n",
    "])\n",
    "model_DNN.summary()"
   ]
  },
  {
   "cell_type": "markdown",
   "id": "9d183eef",
   "metadata": {},
   "source": [
    "- 定义损失函数！损失函数选用Adam;"
   ]
  },
  {
   "cell_type": "code",
   "execution_count": 213,
   "id": "fabc6787",
   "metadata": {},
   "outputs": [
    {
     "name": "stdout",
     "output_type": "stream",
     "text": [
      "训练数据,优化器选择Adam，学习率0.01\n"
     ]
    },
    {
     "data": {
      "image/png": "[encoded data removed]",
      "text/plain": [
       "<Figure size 720x360 with 1 Axes>"
      ]
     },
     "metadata": {
      "needs_background": "light"
     },
     "output_type": "display_data"
    }
   ],
   "source": [
    "# model_DNN.compile(optimizer = 'Adam',loss = 'mse', metrics=['mae','mse'], verbose = 0)\n",
    "# model.compile(optimizer = tf.keras.optimizers.SGD(learning_rate = 0.1),loss = tf.keras.losses.CategoricalCrossentropy(),metrics = ['accuracy'])\n",
    "model_DNN.compile(optimizer = tf.keras.optimizers.Adam(learning_rate = 0.01),\n",
    "             loss = 'mse',\n",
    "             metrics = ['mae','mse'])\n",
    "print(\"\"\"训练数据,优化器选择Adam，学习率0.01\"\"\")\n",
    "train_history = model_DNN.fit(xtrain_mix_reg, ytrain_mix_reg, batch_size = 200, epochs=100, verbose = 0) #训练日志太多了不输出了。每一次训练放128个，\n",
    "history_frame = pd.DataFrame(train_history.history)\n",
    "history_frame['epoch'] = train_history.epoch\n",
    "history_frame['epoch'] = history_frame['epoch'] + 1\n",
    "# \"\"\"修改列名\"\"\"\n",
    "# hist.rename(columns={'mean_absolute_error':'MAE', 'mean_squared_error':'MSE'},inplace = True)\n",
    "# print(hist)\n",
    "def plot_history(hist):\n",
    "    plt.figure(figsize=(10,5))\n",
    "    plt.subplot(1, 2, 1)\n",
    "    plt.xlabel('Epoch')\n",
    "    plt.ylabel('MSE')\n",
    "    plt.plot(hist['epoch'], hist['mse'],label='MSE')\n",
    "    plt.legend()\n",
    "#     plt.subplot(1, 2, 2)\n",
    "#     plt.xlabel('Epoch')\n",
    "#     plt.ylabel('MAE')\n",
    "#     plt.plot(history_frame['epoch'], history_frame['mae'],label = 'MAE',color ='red')\n",
    "#     plt.ylim([3,4.5])\n",
    "#     plt.legend()\n",
    "plot_history(history_frame)\n"
   ]
  },
  {
   "cell_type": "code",
   "execution_count": 214,
   "id": "ba15c3ee",
   "metadata": {},
   "outputs": [
    {
     "name": "stdout",
     "output_type": "stream",
     "text": [
      "原来的数据新增一列，之后将逻辑回归预测为1的部分替换成线性回归预测出的y值\n"
     ]
    },
    {
     "data": {
      "text/plain": [
       "58.38548194592863"
      ]
     },
     "execution_count": 214,
     "metadata": {},
     "output_type": "execute_result"
    }
   ],
   "source": [
    "print(\"原来的数据新增一列，之后将逻辑回归预测为1的部分替换成线性回归预测出的y值\")\n",
    "logi_test_result[\"reg_result_dnn\"] = 0 \n",
    "logi_test_result.loc[logi_test_result[\"logi_y_pred\"] == 1,\"reg_result_dnn\"] = model_DNN.predict(xtest_mix_reg)\n",
    "logi_test_result.head(200)#与原来测试集ytest索引一致；\n",
    "np.sqrt(MSE(ytest,logi_test_result[\"reg_result_dnn\"]))\n"
   ]
  },
  {
   "cell_type": "markdown",
   "id": "3af217df",
   "metadata": {},
   "source": [
    "- 拓展到原数据集上！——看一下最终结果！"
   ]
  },
  {
   "cell_type": "markdown",
   "id": "b4406207",
   "metadata": {},
   "source": [
    "- DNN网络RMSE-58.38;排在第25/566名；\n",
    "- 排名成绩没有XGBOOST——53.24好。。。毕竟XGBOOST感情深一口闷吧；\n"
   ]
  },
  {
   "cell_type": "code",
   "execution_count": null,
   "id": "c28cae7e",
   "metadata": {},
   "outputs": [],
   "source": []
  },
  {
   "cell_type": "code",
   "execution_count": null,
   "id": "6950084b",
   "metadata": {},
   "outputs": [],
   "source": []
  }
 ],
 "metadata": {
  "kernelspec": {
   "display_name": "Python 3 (ipykernel)",
   "language": "python",
   "name": "python3"
  },
  "language_info": {
   "codemirror_mode": {
    "name": "ipython",
    "version": 3
   },
   "file_extension": ".py",
   "mimetype": "text/x-python",
   "name": "python",
   "nbconvert_exporter": "python",
   "pygments_lexer": "ipython3",
   "version": "3.8.3"
  }
 },
 "nbformat": 4,
 "nbformat_minor": 5
}
